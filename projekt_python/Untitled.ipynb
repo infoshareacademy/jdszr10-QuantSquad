{
 "cells": [
  {
   "cell_type": "code",
   "execution_count": 1,
   "id": "f7a62a13",
   "metadata": {},
   "outputs": [],
   "source": [
    "import pandas as pd\n",
    "import numpy as np\n",
    "import matplotlib.pyplot as plt\n",
    "import matplotlib.cm as cm\n",
    "import re"
   ]
  },
  {
   "cell_type": "code",
   "execution_count": 2,
   "id": "9e0b2008",
   "metadata": {},
   "outputs": [],
   "source": [
    "dfr = pd.read_csv('/Users/user/dorota/Datasets/restaurants.csv')"
   ]
  },
  {
   "cell_type": "code",
   "execution_count": 3,
   "id": "125fdf01",
   "metadata": {},
   "outputs": [],
   "source": [
    "address_pattern = \"(.+), (.+),(.+),(.+)\"\n",
    "dfr['city']= dfr['full_address'].apply(lambda x: re.sub(address_pattern, r'\\2', str(x)))"
   ]
  },
  {
   "cell_type": "code",
   "execution_count": 4,
   "id": "7761e569",
   "metadata": {},
   "outputs": [],
   "source": [
    "dfr.to_excel('restaurants_cities.xlsx')"
   ]
  },
  {
   "cell_type": "code",
   "execution_count": null,
   "id": "42add2fc",
   "metadata": {},
   "outputs": [],
   "source": []
  }
 ],
 "metadata": {
  "kernelspec": {
   "display_name": "ENVPythonProject",
   "language": "python",
   "name": "envpythonproject"
  },
  "language_info": {
   "codemirror_mode": {
    "name": "ipython",
    "version": 3
   },
   "file_extension": ".py",
   "mimetype": "text/x-python",
   "name": "python",
   "nbconvert_exporter": "python",
   "pygments_lexer": "ipython3",
   "version": "3.10.9"
  }
 },
 "nbformat": 4,
 "nbformat_minor": 5
}
