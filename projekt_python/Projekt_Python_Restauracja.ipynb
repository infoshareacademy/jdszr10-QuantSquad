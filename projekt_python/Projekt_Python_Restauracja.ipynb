{
 "cells": [
  {
   "cell_type": "code",
   "execution_count": null,
   "id": "417ff0d8",
   "metadata": {},
   "outputs": [],
   "source": [
    "import pandas as pd\n",
    "import numpy as np\n",
    "import matplotlib.pyplot as plt\n",
    "import matplotlib.cm as cm\n",
    "import re"
   ]
  },
  {
   "cell_type": "code",
   "execution_count": null,
   "id": "f63b2daf",
   "metadata": {},
   "outputs": [],
   "source": [
    "dfr = pd.read_csv('/Users/user/dorota/Datasets/restaurants.csv')"
   ]
  },
  {
   "cell_type": "code",
   "execution_count": null,
   "id": "9682cbc2",
   "metadata": {},
   "outputs": [],
   "source": [
    "dfm = pd.read_csv('/Users/user/dorota/Datasets/restaurant-menus.csv')"
   ]
  },
  {
   "cell_type": "code",
   "execution_count": null,
   "id": "3aac9f95",
   "metadata": {},
   "outputs": [],
   "source": [
    "dfr.head(5)"
   ]
  },
  {
   "cell_type": "code",
   "execution_count": null,
   "id": "e11e164f",
   "metadata": {},
   "outputs": [],
   "source": [
    "address_pattern = \"(.+), (.+),(.+),(.+)\"\n",
    "dfr['city']= dfr['full_address'].apply(lambda x: re.sub(address_pattern, r'\\2', str(x)))"
   ]
  },
  {
   "cell_type": "code",
   "execution_count": null,
   "id": "e103e76e",
   "metadata": {},
   "outputs": [],
   "source": [
    "dfr.head(5)"
   ]
  },
  {
   "cell_type": "code",
   "execution_count": null,
   "id": "7424d0c4",
   "metadata": {},
   "outputs": [],
   "source": [
    "dfr.to_excel('restaurants_cities.xlsx')"
   ]
  },
  {
   "cell_type": "code",
   "execution_count": null,
   "id": "a93dd2d9",
   "metadata": {},
   "outputs": [],
   "source": [
    "dfr.tail(5)"
   ]
  },
  {
   "cell_type": "code",
   "execution_count": null,
   "id": "0cc8fc0a",
   "metadata": {},
   "outputs": [],
   "source": [
    "dfr.info()"
   ]
  },
  {
   "cell_type": "code",
   "execution_count": null,
   "id": "01336610",
   "metadata": {},
   "outputs": [],
   "source": [
    "dfr.shape"
   ]
  },
  {
   "cell_type": "code",
   "execution_count": null,
   "id": "9ae893fa",
   "metadata": {},
   "outputs": [],
   "source": [
    "dfr.describe"
   ]
  },
  {
   "cell_type": "code",
   "execution_count": null,
   "id": "ca16c07a",
   "metadata": {},
   "outputs": [],
   "source": [
    "dfr.describe()"
   ]
  },
  {
   "cell_type": "code",
   "execution_count": null,
   "id": "4a1ae73d",
   "metadata": {},
   "outputs": [],
   "source": [
    "dfm.head(5)"
   ]
  },
  {
   "cell_type": "code",
   "execution_count": null,
   "id": "7b4aca21",
   "metadata": {},
   "outputs": [],
   "source": [
    "dfm.tail(5)"
   ]
  },
  {
   "cell_type": "code",
   "execution_count": null,
   "id": "f9f7d4bd",
   "metadata": {},
   "outputs": [],
   "source": [
    "price_pattern = \"(.+) (.+)\"\n",
    "dfm['price_f']= dfm['price'].apply(lambda x: re.sub(price_pattern, r'\\1', str(x)))"
   ]
  },
  {
   "cell_type": "code",
   "execution_count": null,
   "id": "a1aa8890",
   "metadata": {},
   "outputs": [],
   "source": [
    "dfm.head(5)"
   ]
  },
  {
   "cell_type": "code",
   "execution_count": null,
   "id": "c46ba6f0",
   "metadata": {},
   "outputs": [],
   "source": [
    "dfm.price_f = pd.to_numeric(dfm.price_f)"
   ]
  },
  {
   "cell_type": "code",
   "execution_count": null,
   "id": "1eedcfc5",
   "metadata": {},
   "outputs": [],
   "source": [
    "dfm.info()"
   ]
  },
  {
   "cell_type": "code",
   "execution_count": null,
   "id": "29a34457",
   "metadata": {},
   "outputs": [],
   "source": [
    "dfm.describe"
   ]
  },
  {
   "cell_type": "code",
   "execution_count": null,
   "id": "461d8baf",
   "metadata": {},
   "outputs": [],
   "source": [
    "dfm.describe()"
   ]
  },
  {
   "cell_type": "code",
   "execution_count": null,
   "id": "b212ce29",
   "metadata": {},
   "outputs": [],
   "source": [
    "dfm.shape"
   ]
  },
  {
   "cell_type": "code",
   "execution_count": null,
   "id": "1fc4c9a5",
   "metadata": {},
   "outputs": [],
   "source": [
    "dfm = dfm.rename(columns={'restaurant_id':'id', 'category' : 'food_category', 'name' : 'food_name'})"
   ]
  },
  {
   "cell_type": "code",
   "execution_count": null,
   "id": "21a42103",
   "metadata": {},
   "outputs": [],
   "source": [
    "dfm.head(5)"
   ]
  },
  {
   "cell_type": "code",
   "execution_count": null,
   "id": "2a572f30",
   "metadata": {},
   "outputs": [],
   "source": [
    "dfa = dfr.merge(dfm, on='id')"
   ]
  },
  {
   "cell_type": "code",
   "execution_count": null,
   "id": "af465b6d",
   "metadata": {},
   "outputs": [],
   "source": [
    "dfa.head(5)"
   ]
  },
  {
   "cell_type": "code",
   "execution_count": null,
   "id": "27a4b32e",
   "metadata": {},
   "outputs": [],
   "source": [
    "dfa.info()"
   ]
  },
  {
   "cell_type": "code",
   "execution_count": null,
   "id": "7de1d955",
   "metadata": {},
   "outputs": [],
   "source": [
    "dfr.drop_duplicates([\"id\"],keep='first',inplace=True)\n",
    "dfr.shape   #brak duplikatow"
   ]
  },
  {
   "cell_type": "code",
   "execution_count": null,
   "id": "6198eeb4",
   "metadata": {},
   "outputs": [],
   "source": [
    "dfr.isnull().sum() #sprawdzenie ile pustych w kazdej kolumnie"
   ]
  },
  {
   "cell_type": "code",
   "execution_count": null,
   "id": "644c9675",
   "metadata": {},
   "outputs": [],
   "source": [
    "outlets = dfr[\"name\"].value_counts()\n",
    "outlets"
   ]
  },
  {
   "cell_type": "code",
   "execution_count": null,
   "id": "13b1da1f",
   "metadata": {},
   "outputs": [],
   "source": [
    "chains = outlets[outlets >= 2]\n",
    "single = outlets[outlets == 1]\n",
    "chains"
   ]
  },
  {
   "cell_type": "code",
   "execution_count": null,
   "id": "65c26eb9",
   "metadata": {},
   "outputs": [],
   "source": [
    "print(\"Total Restaurants = \", dfr.shape[0])\n",
    "print(\"Total Restaurants that are part of some chain = \", dfr.shape[0] - single.shape[0])\n",
    "print(\"Percentage of Restaurants that are part of a chain = \", np.round((dfr.shape[0] - single.shape[0]) / dfr.shape[0],2)*100, \"%\")"
   ]
  },
  {
   "cell_type": "code",
   "execution_count": null,
   "id": "82350224",
   "metadata": {},
   "outputs": [],
   "source": [
    "single.shape"
   ]
  },
  {
   "cell_type": "code",
   "execution_count": null,
   "id": "4ff6b66a",
   "metadata": {},
   "outputs": [],
   "source": [
    "chains.head(20)"
   ]
  },
  {
   "cell_type": "code",
   "execution_count": null,
   "id": "65bf6a6e",
   "metadata": {},
   "outputs": [],
   "source": [
    "single.head(20)"
   ]
  },
  {
   "cell_type": "code",
   "execution_count": null,
   "id": "ec069a2d",
   "metadata": {},
   "outputs": [],
   "source": [
    "check = dfm['food_category'].value_counts()\n",
    "check"
   ]
  },
  {
   "cell_type": "code",
   "execution_count": null,
   "id": "9175834e",
   "metadata": {},
   "outputs": [],
   "source": [
    "city_count = dfr[\"city\"].value_counts()\n",
    "city_count.head(20)"
   ]
  },
  {
   "cell_type": "code",
   "execution_count": null,
   "id": "265ce329",
   "metadata": {},
   "outputs": [],
   "source": [
    "dfr."
   ]
  },
  {
   "cell_type": "code",
   "execution_count": null,
   "id": "2b261ab7",
   "metadata": {},
   "outputs": [],
   "source": [
    "dfr.loc[dfr.city == 'Seattle']"
   ]
  },
  {
   "cell_type": "code",
   "execution_count": null,
   "id": "1e42a824",
   "metadata": {},
   "outputs": [],
   "source": [
    "dfr.loc[dfr.score.between(4, 5)]"
   ]
  },
  {
   "cell_type": "code",
   "execution_count": null,
   "id": "264e95a1",
   "metadata": {},
   "outputs": [],
   "source": [
    "dfr.loc[dfr.price_range == \"$\"]"
   ]
  },
  {
   "cell_type": "code",
   "execution_count": null,
   "id": "cb4cf246",
   "metadata": {},
   "outputs": [],
   "source": [
    "dfr[\"category\"].unique() #sprawdzenie jakie sa kategorie restauracji"
   ]
  },
  {
   "cell_type": "code",
   "execution_count": null,
   "id": "606af5ea",
   "metadata": {},
   "outputs": [],
   "source": []
  }
 ],
 "metadata": {
  "kernelspec": {
   "display_name": "Python 3 (ipykernel)",
   "language": "python",
   "name": "python3"
  },
  "language_info": {
   "codemirror_mode": {
    "name": "ipython",
    "version": 3
   },
   "file_extension": ".py",
   "mimetype": "text/x-python",
   "name": "python",
   "nbconvert_exporter": "python",
   "pygments_lexer": "ipython3",
   "version": "3.9.16"
  }
 },
 "nbformat": 4,
 "nbformat_minor": 5
}
