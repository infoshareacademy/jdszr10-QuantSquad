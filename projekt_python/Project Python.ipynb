{
 "cells": [
  {
   "cell_type": "markdown",
   "id": "e42b5ea0",
   "metadata": {},
   "source": [
    "# Uber Eats USA Restaurants and Menus\n",
    "[Kaggle.com](https://www.kaggle.com/datasets/ahmedshahriarsakib/uber-eats-usa-restaurants-menus)\n",
    "\n",
    "Quant Squad team\n",
    "Project Python - Data Science bootcamp"
   ]
  },
  {
   "cell_type": "markdown",
   "id": "d099678e",
   "metadata": {},
   "source": [
    "## Initial setup\n",
    "### Import necessary libraries"
   ]
  },
  {
   "cell_type": "code",
   "execution_count": 1,
   "id": "5c0680d7",
   "metadata": {},
   "outputs": [],
   "source": [
    "import numpy as np\n",
    "import pandas as pd\n",
    "import time\n",
    "import os"
   ]
  },
  {
   "cell_type": "markdown",
   "id": "52a45f4b",
   "metadata": {},
   "source": [
    "### Find location on local drive where to put data to have option to run your script on kaggle.com without any changes"
   ]
  },
  {
   "cell_type": "code",
   "execution_count": 2,
   "id": "b8f22dc1",
   "metadata": {
    "scrolled": true
   },
   "outputs": [
    {
     "name": "stdout",
     "output_type": "stream",
     "text": [
      "Put your kaggle/input/uber-eats-usa-restaurants-menus folders in folder\n",
      " D:\\\n"
     ]
    }
   ],
   "source": [
    "# where to put data from kaggle.com?\n",
    "cwd = os.getcwd()\n",
    "root_dir = os.path.abspath('/')\n",
    "print('Put your kaggle/input/uber-eats-usa-restaurants-menus folders in folder\\n', root_dir)"
   ]
  },
  {
   "cell_type": "markdown",
   "id": "3c9bcad4",
   "metadata": {},
   "source": [
    "### File paths on kaggle.com"
   ]
  },
  {
   "cell_type": "code",
   "execution_count": 3,
   "id": "d4a3cdd6",
   "metadata": {},
   "outputs": [],
   "source": [
    "# paths from kaggle.com\n",
    "# INPUT\n",
    "# /kaggle/input/uber-eats-usa-restaurants-menus\n",
    "# /kaggle/input/uber-eats-usa-restaurants-menus/restaurant-menus.csv\n",
    "# /kaggle/input/uber-eats-usa-restaurants-menus/restaurants.csv\n",
    "# OUTPUT\n",
    "# /kaggle/working/"
   ]
  },
  {
   "cell_type": "markdown",
   "id": "d78fdfbf",
   "metadata": {},
   "source": [
    "### Load csv files to dataframes"
   ]
  },
  {
   "cell_type": "code",
   "execution_count": 4,
   "id": "84136ddb",
   "metadata": {
    "scrolled": false
   },
   "outputs": [
    {
     "name": "stdout",
     "output_type": "stream",
     "text": [
      "Elapsed time:  7.023243188858032 seconds\n"
     ]
    }
   ],
   "source": [
    "input_directory = \"/kaggle/input/uber-eats-usa-restaurants-menus\"\n",
    "input_file_restaurant_menus = '/kaggle/input/uber-eats-usa-restaurants-menus/restaurant-menus.csv'\n",
    "input_file_restaurants = r\"/kaggle/input/uber-eats-usa-restaurants-menus/restaurants.csv\"\n",
    "\n",
    "# measure time\n",
    "start_time = time.time()\n",
    "\n",
    "# Read the CSV file into a Pandas dataframe\n",
    "df_restaurant_menus = pd.read_csv(input_file_restaurant_menus)\n",
    "df_restaurants = pd.read_csv(input_file_restaurants)\n",
    "\n",
    "end_time = time.time()\n",
    "elapsed_time = end_time - start_time\n",
    "print(\"Elapsed time: \", elapsed_time, \"seconds\")"
   ]
  },
  {
   "cell_type": "markdown",
   "id": "27a9cffe",
   "metadata": {},
   "source": [
    "### Show basic data about data sources"
   ]
  },
  {
   "cell_type": "code",
   "execution_count": 5,
   "id": "8f3399e9",
   "metadata": {},
   "outputs": [
    {
     "name": "stdout",
     "output_type": "stream",
     "text": [
      "restaurants shape:\n",
      "(40227, 11)\n",
      "restaurant-menus shape:\n",
      "(3375211, 5)\n",
      "restaurants datatypes\n",
      "id                int64\n",
      "position          int64\n",
      "name             object\n",
      "score           float64\n",
      "ratings         float64\n",
      "category         object\n",
      "price_range      object\n",
      "full_address     object\n",
      "zip_code         object\n",
      "lat             float64\n",
      "lng             float64\n",
      "dtype: object\n",
      "restaurant-menus datatypes\n",
      "restaurant_id     int64\n",
      "category         object\n",
      "name             object\n",
      "description      object\n",
      "price            object\n",
      "dtype: object\n"
     ]
    }
   ],
   "source": [
    "print(\"restaurants shape:\")\n",
    "print(df_restaurants.shape)\n",
    "print(\"restaurant-menus shape:\")\n",
    "print(df_restaurant_menus.shape)\n",
    "\n",
    "print(\"restaurants datatypes\")\n",
    "print(df_restaurants.dtypes)\n",
    "\n",
    "print(\"restaurant-menus datatypes\")\n",
    "print(df_restaurant_menus.dtypes)"
   ]
  },
  {
   "cell_type": "markdown",
   "id": "8e96ba9d",
   "metadata": {},
   "source": [
    "## Data Cleaning\n",
    "### Restaurants"
   ]
  },
  {
   "cell_type": "markdown",
   "id": "85588273",
   "metadata": {},
   "source": [
    "#### restaurants.id"
   ]
  },
  {
   "cell_type": "code",
   "execution_count": 6,
   "id": "80d782cf",
   "metadata": {},
   "outputs": [
    {
     "name": "stdout",
     "output_type": "stream",
     "text": [
      "Unique values:  [    1     2     3 ... 40225 40226 40227]\n",
      "Lowest value:  1\n",
      "Highest value:  40227\n",
      "Cells without value:  0\n",
      "Rows:  40227\n",
      "It is ok, id=# of rows\n"
     ]
    }
   ],
   "source": [
    "print(\"Unique values: \",df_restaurants['id'].unique())\n",
    "print(\"Lowest value: \",df_restaurants['id'].min())\n",
    "print(\"Highest value: \",df_restaurants['id'].max())\n",
    "print(\"Cells without value: \",df_restaurants['id'].isna().sum())\n",
    "print(\"Rows: \",df_restaurants['id'].shape[0])\n",
    "if (df_restaurants['id'].max()==df_restaurants['id'].shape[0]):\n",
    "    print(\"It is ok, id=# of rows\")\n",
    "else:\n",
    "    print(\"There is gap, id<># of rows\")"
   ]
  },
  {
   "cell_type": "markdown",
   "id": "7d5e708e",
   "metadata": {},
   "source": [
    "#### restaurants.position"
   ]
  },
  {
   "cell_type": "code",
   "execution_count": 7,
   "id": "8b39c66d",
   "metadata": {},
   "outputs": [
    {
     "name": "stdout",
     "output_type": "stream",
     "text": [
      "Unique values:  [ 19   9   6  17 162  75  27  26 136  51 159 194 116 139  88  60  56  30\n",
      "  40  43  42  37  32 135 123 113 107 104 103 101  96  81  80  77  66  61\n",
      "  15  13   7  25  21  20  74  73  70  68  65  64  63  55  53  50  49  44\n",
      "  41  39  38  35  34  28  10   8   5   4   3 161 160 158 157 156 155 154\n",
      " 153 152 151 150 149 148 147 144 142 141 138 137 134 132 130 129 128 127\n",
      " 125 124 121 120 119 118 117 115 114 112 111 110 109 106 105 102 100  99\n",
      "  98  97  95  93  90  89  86  85  84  83  82  79  78  76  72  71  69  67\n",
      "  62  59  58  57  54  48  47  46  33  31  24  23  22  18  16  14  11   2\n",
      "   1  12 146  91 163  94 143 126  36 131 122 108  92  87  52  29  45 300\n",
      " 196 299 281 282 272 255 297 268 251 243 267 260 259 246 242 185 278 265\n",
      " 263 253 248 247 234 223 276 230 206 197 187 164 295 294 293 292 286 285\n",
      " 284 270 240 238 232 227 221 210 209 177 195 188 184 182 181 179 180 178\n",
      " 173 171 169 170 140 298 296 291 289 288 287 283 280 277 275 274 273 271\n",
      " 266 264 262 258 257 256 254 250 249 244 241 239 237 236 235 231 229 228\n",
      " 226 224 222 220 219 218 217 216 215 214 203 202 201 199 192 191 189 186\n",
      " 176 174 172 168 167 166 165 145 205 204 290 211 233 225 190 245 208 207\n",
      " 198 193 183 133 269 213 200 175 212 279 252 261]\n",
      "Lowest value:  1\n",
      "Highest value:  300\n",
      "Cells without value:  0\n",
      "Rows:  40227\n"
     ]
    }
   ],
   "source": [
    "print(\"Unique values: \",df_restaurants['position'].unique())\n",
    "print(\"Lowest value: \",df_restaurants['position'].min())\n",
    "print(\"Highest value: \",df_restaurants['position'].max())\n",
    "print(\"Cells without value: \",df_restaurants['position'].isna().sum())\n",
    "print(\"Rows: \",df_restaurants['position'].shape[0])"
   ]
  },
  {
   "cell_type": "markdown",
   "id": "76923578",
   "metadata": {},
   "source": [
    "#### restaurants.name"
   ]
  },
  {
   "cell_type": "code",
   "execution_count": 8,
   "id": "e9ad6b23",
   "metadata": {},
   "outputs": [
    {
     "name": "stdout",
     "output_type": "stream",
     "text": [
      "Unique values:  ['PJ Fresh (224 Daniel Payne Drive)' \"J' ti`'z Smoothie-N-Coffee Bar\"\n",
      " 'Philly Fresh Cheesesteaks (541-B Graymont Ave)' ... 'EurAsia Ramen 3'\n",
      " \"Austin's Habibi (5th St)\" 'Beijing Wok']\n",
      "Lowest value:   0-60 Energy Café (AB Mall) \n",
      "Highest value:  重庆麻辣城 SPICY CHONGQING\n",
      "Cells without value:  0\n",
      "Rows:  40227\n",
      "                                             name  \\\n",
      "0               PJ Fresh (224 Daniel Payne Drive)   \n",
      "1                  J' ti`'z Smoothie-N-Coffee Bar   \n",
      "2  Philly Fresh Cheesesteaks (541-B Graymont Ave)   \n",
      "3         Papa Murphy's (1580 Montgomery Highway)   \n",
      "4                Nelson Brothers Cafe (17th St N)   \n",
      "5                                Ocean Restaurant   \n",
      "6                                    Jinsei Sushi   \n",
      "7                                    Little India   \n",
      "8                  Captain D's (1284 Decatur Hwy)   \n",
      "9                            Cajun Bistro Express   \n",
      "\n",
      "                         onlyname  \n",
      "0                        PJ Fresh  \n",
      "1  J' ti`'z Smoothie-N-Coffee Bar  \n",
      "2       Philly Fresh Cheesesteaks  \n",
      "3                   Papa Murphy's  \n",
      "4            Nelson Brothers Cafe  \n",
      "5                Ocean Restaurant  \n",
      "6                    Jinsei Sushi  \n",
      "7                    Little India  \n",
      "8                     Captain D's  \n",
      "9            Cajun Bistro Express  \n"
     ]
    }
   ],
   "source": [
    "print(\"Unique values: \",df_restaurants['name'].unique())\n",
    "print(\"Lowest value: \",df_restaurants['name'].min())\n",
    "print(\"Highest value: \",df_restaurants['name'].max())\n",
    "print(\"Cells without value: \",df_restaurants['name'].isna().sum())\n",
    "print(\"Rows: \",df_restaurants['name'].shape[0])\n",
    "\n",
    "# remove street from name (if exists) and put into separete column 'onlyname')\n",
    "df_restaurants[\"onlyname\"] = df_restaurants[\"name\"].str.replace(r\" \\(.*\\)\",\"\", regex=True).str.strip()\n",
    "\n",
    "# show sample after cleaning\n",
    "print(df_restaurants[['name', 'onlyname']].head(10))\n"
   ]
  },
  {
   "cell_type": "markdown",
   "id": "44369583",
   "metadata": {},
   "source": [
    "#### restaurants.score"
   ]
  },
  {
   "cell_type": "code",
   "execution_count": 9,
   "id": "aaf8607d",
   "metadata": {},
   "outputs": [
    {
     "name": "stdout",
     "output_type": "stream",
     "text": [
      "Unique values:  [nan 4.7 4.6 5.  4.9 3.7 4.8 4.3 4.4 4.1 4.5 4.2 4.  3.8 3.9 3.5 3.2 3.6\n",
      " 3.  3.4 3.3 3.1 2.2 2.7 2.9 2.4 2.8 2.6 2.5 2.1 1.9 2.  2.3 1.3]\n",
      "Lowest value:  1.3\n",
      "Highest value:  5.0\n",
      "Cells without value:  17973\n",
      "Rows:  40227\n"
     ]
    }
   ],
   "source": [
    "print(\"Unique values: \",df_restaurants['score'].unique())\n",
    "print(\"Lowest value: \",df_restaurants['score'].min())\n",
    "print(\"Highest value: \",df_restaurants['score'].max())\n",
    "print(\"Cells without value: \",df_restaurants['score'].isna().sum())\n",
    "print(\"Rows: \",df_restaurants['score'].shape[0])"
   ]
  },
  {
   "cell_type": "markdown",
   "id": "f951cba1",
   "metadata": {},
   "source": [
    "#### restaurants.ratings"
   ]
  },
  {
   "cell_type": "code",
   "execution_count": 10,
   "id": "04457384",
   "metadata": {},
   "outputs": [
    {
     "name": "stdout",
     "output_type": "stream",
     "text": [
      "Unique values:  [ nan  22.  63.  44.  20.  48.  19. 100.  21.  24.  39.  62.  23.  91.\n",
      "  17.  28.  29.  56.  35.  61.  79.  59.  34.  37.  50.  52.  31.  30.\n",
      "  32.  18.  78.  12.  68.  47.  49.  54.  15.  51.  16.  45.  26.  96.\n",
      "  76.  11.  13.  80.  55.  97.  73.  43.  77.  46.  25.  86.  33.  14.\n",
      "  64.  74.  57.  58.  10.  93.  36.  40.  82.  84.  42.  60.  38.  69.\n",
      "  67.  27.  41.  87.  53.  66.  94.  88.  89.  72.  99.  81.  92.  95.\n",
      "  85.  75.  65.  83.  70. 200. 128. 115.  71. 107. 106. 120. 163. 132.\n",
      "  90. 112. 105. 110. 123. 142. 109. 135. 192. 108. 126. 182. 184. 183.\n",
      " 141. 169. 160. 150. 146. 131. 140. 103. 143. 190. 124. 153. 127. 156.\n",
      " 133. 152. 137. 121. 198. 178. 171. 117. 118. 180. 159. 119. 154. 174.\n",
      " 102. 173. 185. 186. 165. 125. 168. 114. 155. 157. 130.  98. 188. 162.\n",
      " 122. 145. 187. 104. 138. 116. 193. 166. 129. 161. 199. 111. 101. 191.\n",
      " 158. 134. 170. 144. 167. 177. 139. 113. 195. 147. 172. 189. 136. 164.\n",
      " 194. 179. 149. 151. 148. 175. 176. 196. 181. 197. 398. 278. 250. 221.\n",
      " 247. 297. 312. 236. 262. 228. 237. 234. 253. 222. 249. 326. 264. 246.\n",
      " 256. 375. 318. 211. 314. 230. 257. 207. 215. 500. 340. 224. 348. 223.\n",
      " 233. 210. 289. 408. 216. 252. 245. 445. 332. 287. 238. 291. 276. 209.\n",
      " 309. 225. 274. 244. 260. 284. 319. 304. 345. 248. 201. 231. 330. 202.\n",
      " 219. 422. 389. 321. 275. 325. 371. 301. 205. 271. 220. 463. 204. 444.\n",
      " 324. 213. 404. 263. 203. 240. 226. 361. 346. 339. 265. 261. 362. 218.\n",
      " 227. 364. 461. 334. 446. 365. 383. 243. 305. 359. 235. 470. 396. 320.\n",
      " 413. 376. 373. 206. 266. 331. 267. 368. 208. 328. 496. 259. 212. 232.\n",
      " 429. 351. 402. 377. 270. 358. 355. 417. 302. 401. 316. 350. 214. 374.\n",
      " 452. 239. 367. 425. 299. 273. 379. 300. 298. 217. 498. 354. 433. 366.\n",
      " 418. 277. 335. 293. 307. 292. 495. 338. 279. 454. 281. 280. 294. 288.\n",
      " 268. 486. 411. 336. 471. 343. 258. 290. 254. 435. 251. 242. 386. 241.\n",
      " 485. 356. 342. 391. 357. 431. 439. 423. 432. 491. 333. 400. 465. 370.\n",
      " 441. 394. 285. 308. 460. 352. 434. 282. 477. 430. 283. 313. 458. 487.\n",
      " 442. 384. 494. 397. 488. 369. 466. 360. 311. 337. 229. 380. 347. 315.\n",
      " 306. 438. 436. 479. 286. 303. 255. 399. 323. 388. 392.]\n",
      "Lowest value:  10.0\n",
      "Highest value:  500.0\n",
      "Cells without value:  17973\n",
      "Rows:  40227\n"
     ]
    }
   ],
   "source": [
    "print(\"Unique values: \",df_restaurants['ratings'].unique())\n",
    "print(\"Lowest value: \",df_restaurants['ratings'].min())\n",
    "print(\"Highest value: \",df_restaurants['ratings'].max())\n",
    "print(\"Cells without value: \",df_restaurants['ratings'].isna().sum())\n",
    "print(\"Rows: \",df_restaurants['ratings'].shape[0])\n"
   ]
  },
  {
   "cell_type": "markdown",
   "id": "c1fb4703",
   "metadata": {},
   "source": [
    "#### restaurants.category\n",
    "\n",
    "```mermaid\n",
    "graph LR\n",
    "A --> B\n",
    "```"
   ]
  },
  {
   "cell_type": "code",
   "execution_count": 11,
   "id": "d2148bb6",
   "metadata": {},
   "outputs": [
    {
     "name": "stdout",
     "output_type": "stream",
     "text": [
      "Unique values:  ['Burgers, American, Sandwiches'\n",
      " 'Coffee and Tea, Breakfast and Brunch, Bubble Tea'\n",
      " 'American, Cheesesteak, Sandwiches, Alcohol' ...\n",
      " 'American, Burgers, Breakfast and Brunch, Allergy Friendly, Family Meals, Vegan, Vegan Friendly, Sandwiches, Desserts, Comfort Food, Soup, Cheesesteak, Everyday Essentials, Group Friendly'\n",
      " 'Sushi, Asian, Japanese, Exclusive to Eats, Group Friendly'\n",
      " 'Mediterranean, Gluten Free Friendly, Allergy Friendly, Family Meals, Turkish, Greek, Middle Eastern, Salads, Vegan Friendly, Vegetarian Friendly, Local Specialities']\n",
      "Cells without value:  23\n",
      "Rows:  40227\n",
      "          id  position                           name  score  ratings  \\\n",
      "978      979         1  Dunkin' (8171 Us Highway 431)    NaN      NaN   \n",
      "7106    7107        19            Sam's Hot Dog Stand    NaN      NaN   \n",
      "11812  11813       154           McMenamins Zeus Cafe    NaN      NaN   \n",
      "14400  14401         4               Millwood Grocery    NaN      NaN   \n",
      "14527  14528         3      Bulldog Liquor &amp; Wine    NaN      NaN   \n",
      "15051  15052        37                A1 Hop Shop 144    NaN      NaN   \n",
      "15732  15733        41            Liquor &amp; Liquor    NaN      NaN   \n",
      "21786  21787       156                     Yaki Sushi    4.8     66.0   \n",
      "24474  24475        15                  Sam's Kitchen    NaN      NaN   \n",
      "24483  24484         2                Fabios NY Pizza    4.7    180.0   \n",
      "25012  25013       237       Uptown Market &amp; Deli    NaN      NaN   \n",
      "25810  25811         1       Dunkin' (1603 Boulevard)    NaN      NaN   \n",
      "25861  25862         5                   Sultan Kebab    4.9     66.0   \n",
      "25885  25886         7                  Got Dumplings    4.7    168.0   \n",
      "26244  26245        20   Dunkin' (12259 Hornsby Lane)    NaN      NaN   \n",
      "28104  28105         1           Milan Indian Cuisine    4.8    169.0   \n",
      "28267  28268        74              Christian's Pizza    NaN      NaN   \n",
      "33787  33788        65                Spec's - Sachse    NaN      NaN   \n",
      "34470  34471        21       Doc's Liquor - Wolfforth    NaN      NaN   \n",
      "35454  35455        23                    Econ Liquor    NaN      NaN   \n",
      "36761  36762        16                Spec's - Willis    NaN      NaN   \n",
      "39020  39021        67           Spec's #209 - Keller    NaN      NaN   \n",
      "39040  39041        38              Spec's - Westlake    NaN      NaN   \n",
      "\n",
      "      category price_range                                   full_address  \\\n",
      "978        NaN         NaN       8171 Highway 431, Albertville, AL, 35950   \n",
      "7106       NaN          $$        4450 Piedmont Rd, Huntington, WV, 25704   \n",
      "11812      NaN           $           303 SW 12th Ave, Portland, OR, 97205   \n",
      "14400      NaN         NaN        3409 N Argonne Rd, Spokane Valley, WA,    \n",
      "14527      NaN         NaN      1101 North Division Street, Spokane, WA,    \n",
      "15051      NaN         NaN    14401 Greenwood Avenue North, Seattle, WA,    \n",
      "15732      NaN         NaN          2627 North Pearl Street, Tacoma, WA,    \n",
      "21786      NaN          $$        4088 Airline Pkwy, Chantilly, VA, 20151   \n",
      "24474      NaN          $$  1863 Seminole Trl, Charlottesville, VA, 22901   \n",
      "24483      NaN           $     1551 E High St, Charlottesville, VA, 22902   \n",
      "25012      NaN          $$             2901 Park Ave, Richmond, VA, 23221   \n",
      "25810      NaN         NaN    1603 Boulevard, Colonial Heights, VA, 23834   \n",
      "25861      NaN          $$      333 2nd St SE, Charlottesville, VA, 22902   \n",
      "25885      NaN           $     1395 W Main St, Charlottesville, VA, 22903   \n",
      "26244      NaN         NaN    12259 Hornsby Lane, Newport News, VA, 23602   \n",
      "28104      NaN          $$    1817 Emmet St N, Charlottesville, VA, 22901   \n",
      "28267      NaN          $$     100 14th St NW, Charlottesville, VA, 22903   \n",
      "33787      NaN         NaN                      8110 Hwy 78, Sachse, TX,    \n",
      "34470      NaN         NaN                  641 E Hwy 62, Wolfforth, TX,    \n",
      "35454      NaN         NaN     9124 Perrin Beitel Road, San Antonio, TX,    \n",
      "36761      NaN         NaN                     9618 FM 1097, Willis, TX,    \n",
      "39020      NaN         NaN                         101, Keller, TX, 76248   \n",
      "39040      NaN         NaN                    2341 US-377, Westlake, TX,    \n",
      "\n",
      "      zip_code        lat         lng                   onlyname  \n",
      "978      35950  34.281240  -86.219970                    Dunkin'  \n",
      "7106     25704  38.397690  -82.519220        Sam's Hot Dog Stand  \n",
      "11812    97205  45.522785 -122.683330       McMenamins Zeus Cafe  \n",
      "14400      NaN  47.688101 -117.283253           Millwood Grocery  \n",
      "14527      NaN  47.667496 -117.411823  Bulldog Liquor &amp; Wine  \n",
      "15051      NaN  47.733420 -122.356061            A1 Hop Shop 144  \n",
      "15732      NaN  47.272193 -122.515711        Liquor &amp; Liquor  \n",
      "21786    20151  38.901280  -77.451280                 Yaki Sushi  \n",
      "24474    22901  38.086750  -78.470072              Sam's Kitchen  \n",
      "24483    22902  38.034205  -78.460701            Fabios NY Pizza  \n",
      "25012    23221  37.560120  -77.473260   Uptown Market &amp; Deli  \n",
      "25810    23834  37.254580  -77.410580                    Dunkin'  \n",
      "25861    22902  38.028488  -78.481409               Sultan Kebab  \n",
      "25885    22903  38.034034  -78.499294              Got Dumplings  \n",
      "26244    23602  37.112200  -76.501680                    Dunkin'  \n",
      "28104    22901  38.060590  -78.493353       Milan Indian Cuisine  \n",
      "28267    22903  38.034160  -78.499339          Christian's Pizza  \n",
      "33787      NaN  32.992276  -96.568429            Spec's - Sachse  \n",
      "34470      NaN  33.519078 -101.992993   Doc's Liquor - Wolfforth  \n",
      "35454      NaN  29.523152  -98.410520                Econ Liquor  \n",
      "36761      NaN  30.419875  -95.497660            Spec's - Willis  \n",
      "39020    76248  32.934640  -97.253650       Spec's #209 - Keller  \n",
      "39040      NaN  32.987644  -97.236401          Spec's - Westlake  \n",
      "Cells without value:  0\n"
     ]
    },
    {
     "data": {
      "text/html": [
       "<div>\n",
       "<style scoped>\n",
       "    .dataframe tbody tr th:only-of-type {\n",
       "        vertical-align: middle;\n",
       "    }\n",
       "\n",
       "    .dataframe tbody tr th {\n",
       "        vertical-align: top;\n",
       "    }\n",
       "\n",
       "    .dataframe thead th {\n",
       "        text-align: right;\n",
       "    }\n",
       "</style>\n",
       "<table border=\"1\" class=\"dataframe\">\n",
       "  <thead>\n",
       "    <tr style=\"text-align: right;\">\n",
       "      <th></th>\n",
       "      <th>id</th>\n",
       "      <th>category</th>\n",
       "    </tr>\n",
       "  </thead>\n",
       "  <tbody>\n",
       "    <tr>\n",
       "      <th>0</th>\n",
       "      <td>1</td>\n",
       "      <td>Burgers</td>\n",
       "    </tr>\n",
       "    <tr>\n",
       "      <th>0</th>\n",
       "      <td>1</td>\n",
       "      <td>American</td>\n",
       "    </tr>\n",
       "    <tr>\n",
       "      <th>0</th>\n",
       "      <td>1</td>\n",
       "      <td>Sandwiches</td>\n",
       "    </tr>\n",
       "    <tr>\n",
       "      <th>1</th>\n",
       "      <td>2</td>\n",
       "      <td>Coffee and Tea</td>\n",
       "    </tr>\n",
       "    <tr>\n",
       "      <th>1</th>\n",
       "      <td>2</td>\n",
       "      <td>Breakfast and Brunch</td>\n",
       "    </tr>\n",
       "    <tr>\n",
       "      <th>1</th>\n",
       "      <td>2</td>\n",
       "      <td>Bubble Tea</td>\n",
       "    </tr>\n",
       "    <tr>\n",
       "      <th>2</th>\n",
       "      <td>3</td>\n",
       "      <td>American</td>\n",
       "    </tr>\n",
       "    <tr>\n",
       "      <th>2</th>\n",
       "      <td>3</td>\n",
       "      <td>Cheesesteak</td>\n",
       "    </tr>\n",
       "    <tr>\n",
       "      <th>2</th>\n",
       "      <td>3</td>\n",
       "      <td>Sandwiches</td>\n",
       "    </tr>\n",
       "    <tr>\n",
       "      <th>2</th>\n",
       "      <td>3</td>\n",
       "      <td>Alcohol</td>\n",
       "    </tr>\n",
       "  </tbody>\n",
       "</table>\n",
       "</div>"
      ],
      "text/plain": [
       "   id               category\n",
       "0   1                Burgers\n",
       "0   1               American\n",
       "0   1             Sandwiches\n",
       "1   2         Coffee and Tea\n",
       "1   2   Breakfast and Brunch\n",
       "1   2             Bubble Tea\n",
       "2   3               American\n",
       "2   3            Cheesesteak\n",
       "2   3             Sandwiches\n",
       "2   3                Alcohol"
      ]
     },
     "execution_count": 11,
     "metadata": {},
     "output_type": "execute_result"
    }
   ],
   "source": [
    "print(\"Unique values: \",df_restaurants['category'].unique())\n",
    "print(\"Cells without value: \",df_restaurants['category'].isna().sum())\n",
    "print(\"Rows: \",df_restaurants['category'].shape[0])\n",
    "\n",
    "print(df_restaurants[df_restaurants['category'].isnull()])\n",
    "\n",
    "df_restaurants.dropna(subset=['category'], inplace=True)\n",
    "\n",
    "print(\"Cells without value: \",df_restaurants['category'].isna().sum())\n",
    "\n",
    "# unpivot 'category' column\n",
    "df_restaurants_categories = df_restaurants.assign(category=df_restaurants['category'].str.split(',')).explode('category')[['id','category']]\n",
    "df_restaurants_categories.head(10)\n",
    "\n"
   ]
  },
  {
   "cell_type": "markdown",
   "id": "503d5de5",
   "metadata": {},
   "source": [
    "#### restaurants.price_range"
   ]
  },
  {
   "cell_type": "code",
   "execution_count": 12,
   "id": "fa14d250",
   "metadata": {},
   "outputs": [
    {
     "name": "stdout",
     "output_type": "stream",
     "text": [
      "Unique values:  ['$' nan '$$' '$$$' '$$$$']\n",
      "Cells without value:  6633\n",
      "Rows:  40204\n"
     ]
    }
   ],
   "source": [
    "print(\"Unique values: \",df_restaurants['price_range'].unique())\n",
    "print(\"Cells without value: \",df_restaurants['price_range'].isna().sum())\n",
    "print(\"Rows: \",df_restaurants['price_range'].shape[0])"
   ]
  },
  {
   "cell_type": "markdown",
   "id": "1b6c9b91",
   "metadata": {},
   "source": [
    "#### restaurants.full_address"
   ]
  },
  {
   "cell_type": "code",
   "execution_count": 13,
   "id": "963226d8",
   "metadata": {},
   "outputs": [
    {
     "name": "stdout",
     "output_type": "stream",
     "text": [
      "Unique values:  ['224 Daniel Payne Drive, Birmingham, AL, 35207'\n",
      " '1521 Pinson Valley Parkway, Birmingham, AL, 35217'\n",
      " '541-B Graymont Ave, Birmingham, AL, 35204' ...\n",
      " '5222 Burnet Road, Austin, TX, 78756' '817 W 5th St, Austin, TX, 78703'\n",
      " '8106 Brodie Ln, Austin, TX, 78749']\n",
      "Cells without value:  278\n",
      "Rows:  40204\n",
      "          id  position                                       name  score  \\\n",
      "110      111       124                Post Office Pies (Avondale)    4.6   \n",
      "129      130       100               Urban Cookhouse (Birmingham)    4.8   \n",
      "143      144        80    Godfather's Pizza (231 State Farm Pkwy)    4.9   \n",
      "584      585        35  It's Just Wings (3083 Montgomery Highway)    3.7   \n",
      "899      900         1             Five Guys AL- 4062 5413 US 280    NaN   \n",
      "...      ...       ...                                        ...    ...   \n",
      "39274  39275       183                               Memo’s tacos    NaN   \n",
      "39303  39304        36     Qdoba (1521 Keller Parkway, Suite 700)    NaN   \n",
      "39465  39466        98                              Asian Kitchen    NaN   \n",
      "39629  39630       280                   Fish &amp; Rice Poke Bar    NaN   \n",
      "39657  39658       247                             Cocky Teriyaki    NaN   \n",
      "\n",
      "       ratings                              category price_range full_address  \\\n",
      "110       32.0              Pizza, American, Italian           $          NaN   \n",
      "129       19.0            American, Sandwich, Salads         NaN          NaN   \n",
      "143       16.0              Pizza, American, Italian          $$          NaN   \n",
      "584       31.0                       American, Wings          $$          NaN   \n",
      "899        NaN                     American, Burgers           $          NaN   \n",
      "...        ...                                   ...         ...          ...   \n",
      "39274      NaN  Mexican, Latin American, New Mexican          $$          NaN   \n",
      "39303      NaN      Dinner, Mexican, Burritos, Tacos           $          NaN   \n",
      "39465      NaN          Chinese, Asian, Asian Fusion         NaN          NaN   \n",
      "39629      NaN           Asian, Asian Fusion, Korean           $          NaN   \n",
      "39657      NaN               Healthy, Bowls, Chicken         NaN          NaN   \n",
      "\n",
      "      zip_code       lat       lng                        onlyname  \n",
      "110        NaN  33.52467 -86.77390                Post Office Pies  \n",
      "129        NaN  33.51668 -86.81039                 Urban Cookhouse  \n",
      "143        NaN  33.44629 -86.82708               Godfather's Pizza  \n",
      "584        NaN  31.25078 -85.42848                 It's Just Wings  \n",
      "899        NaN  33.24693 -86.33891  Five Guys AL- 4062 5413 US 280  \n",
      "...        ...       ...       ...                             ...  \n",
      "39274      NaN  33.00313 -97.22769                    Memo’s tacos  \n",
      "39303      NaN  32.93468 -97.21780                           Qdoba  \n",
      "39465      NaN  30.33749 -97.69273                   Asian Kitchen  \n",
      "39629      NaN  30.33537 -97.72005        Fish &amp; Rice Poke Bar  \n",
      "39657      NaN  30.31620 -97.70839                  Cocky Teriyaki  \n",
      "\n",
      "[278 rows x 12 columns]\n",
      "Cells without value:  0\n",
      "                                        full_address        city state\n",
      "0      224 Daniel Payne Drive, Birmingham, AL, 35207  Birmingham    AL\n",
      "1  1521 Pinson Valley Parkway, Birmingham, AL, 35217  Birmingham    AL\n",
      "2          541-B Graymont Ave, Birmingham, AL, 35204  Birmingham    AL\n",
      "3         1580 Montgomery Highway, Hoover, AL, 35226      Hoover    AL\n",
      "4               314 17th St N, Birmingham, AL, 35203  Birmingham    AL\n",
      "5      1218 20th Street South, Birmingham, AL, 35205  Birmingham    AL\n",
      "6             1830 29th Ave S, Birmingham, AL, 35209  Birmingham    AL\n",
      "7           2236 Highland Ave, Birmingham, AL, 35205  Birmingham    AL\n",
      "8            1284 Decatur Hwy, Gardendale, AL, 35071  Gardendale    AL\n",
      "9         1515 Pearson Ave SW, Birmingham, AL, 35211  Birmingham    AL\n"
     ]
    }
   ],
   "source": [
    "print(\"Unique values: \",df_restaurants['full_address'].unique())\n",
    "print(\"Cells without value: \",df_restaurants['full_address'].isna().sum())\n",
    "print(\"Rows: \",df_restaurants['full_address'].shape[0])\n",
    "\n",
    "print(df_restaurants[df_restaurants['full_address'].isnull()])\n",
    "\n",
    "# delete rows without address\n",
    "df_restaurants.dropna(subset=['full_address'], inplace=True)\n",
    "\n",
    "print(\"Cells without value: \",df_restaurants['full_address'].isna().sum())\n",
    "\n",
    "# extract city to separate column\n",
    "df_restaurants[\"city\"] = df_restaurants[\"full_address\"].str.split(\", \").str[1]\n",
    "\n",
    "# extract state to separate column\n",
    "df_restaurants[\"state\"] = df_restaurants[\"full_address\"].str.split(\", \").str[2]\n",
    "\n",
    "# show sample after cleaning\n",
    "print(df_restaurants[['full_address', 'city','state']].head(10))"
   ]
  },
  {
   "cell_type": "markdown",
   "id": "7e846439",
   "metadata": {},
   "source": [
    "#### restaurants.zip_code"
   ]
  },
  {
   "cell_type": "code",
   "execution_count": 14,
   "id": "829dcf03",
   "metadata": {},
   "outputs": [
    {
     "name": "stdout",
     "output_type": "stream",
     "text": [
      "Unique values:  ['35207' '35217' '35204' ... '78719' '78758-7813' '78725']\n",
      "Cells without value:  0\n",
      "Rows with zip_code without digits:            id  position                                     name  score  \\\n",
      "1879    1880       255           County Clare Irish Inn and Pub    NaN   \n",
      "2607    2608        39        Panera Bread (3511 South 27th St)    4.6   \n",
      "13342  13343        25  Crazy Little Wings (240 2nd Ave S #102)    NaN   \n",
      "19930  19931        82       TGI Fridays (193 - Alexandria, VA)    4.4   \n",
      "34587  34588       172                    Denny's (San Antonio)    4.5   \n",
      "39091  39092       105               Marco's Pizza (Fort Worth)    4.7   \n",
      "\n",
      "       ratings                                           category price_range  \\\n",
      "1879       NaN                                    American, Irish           $   \n",
      "2607     131.0             Sandwiches, American, Healthy, Chicken           $   \n",
      "13342      NaN                                      Fried Chicken         NaN   \n",
      "19930    500.0  Burgers, Bar Food, American, Family Meals, Gro...          $$   \n",
      "34587     46.0  American, Breakfast and Brunch, Coffee and Tea...          $$   \n",
      "39091     42.0                                              Pizza          $$   \n",
      "\n",
      "                                            full_address       zip_code  \\\n",
      "1879       1234 N Astor St, Milwaukee, WI, United States  United States   \n",
      "2607        3511 South 27th St, Milwaukee, WI, Milwaukee      Milwaukee   \n",
      "13342                 2120 W Emerson Pl, Seattle, WA, WA             WA   \n",
      "19930                   4650 KING ST, Alexandria, VA, US             US   \n",
      "34587           13635 San Pedro Ave, San Antonio, TX, US             US   \n",
      "39091  12650 N. Beach St. (North of Timberland), Fort...             US   \n",
      "\n",
      "             lat         lng                        onlyname         city  \\\n",
      "1879   43.046659  -87.899480  County Clare Irish Inn and Pub    Milwaukee   \n",
      "2607   42.980820  -87.948630                    Panera Bread    Milwaukee   \n",
      "13342  47.603230 -122.330280              Crazy Little Wings      Seattle   \n",
      "19930  38.841900  -77.108200                     TGI Fridays   Alexandria   \n",
      "34587  29.566132  -98.482900                         Denny's  San Antonio   \n",
      "39091  32.956954  -97.281565                   Marco's Pizza   Fort Worth   \n",
      "\n",
      "      state  \n",
      "1879     WI  \n",
      "2607     WI  \n",
      "13342    WA  \n",
      "19930    VA  \n",
      "34587    TX  \n",
      "39091    TX  \n",
      "Rows wth zip_code longer than 5 characters:            id  position                                    name  score  \\\n",
      "44        45        25                      The Baisakhi Dhaba    NaN   \n",
      "73        74        26                       Karams Restaurant    4.4   \n",
      "97        98       142          Potatoe Potatohz Perfic Pizza     NaN   \n",
      "451      452        17             Whiskey Foxtrot Burger Dive    4.6   \n",
      "598      599        17       Chili's (3083 Montgomery Highway)    4.3   \n",
      "...      ...       ...                                     ...    ...   \n",
      "39850  39851        77                   ZIKI (South Congress)    4.7   \n",
      "39910  39911       210      Wham Bam Bagels &amp; Coffee Truck    4.7   \n",
      "39933  39934       172                          Sabor Colombia    4.3   \n",
      "40101  40102       198        Hat Creek Burger Co. (Rock Rose)    4.5   \n",
      "40146  40147       149  Teji's Indian Restaurant (Comsouth Dr)    4.6   \n",
      "\n",
      "       ratings                                           category price_range  \\\n",
      "44         NaN                               Indian, Pasta, Pizza         NaN   \n",
      "73        30.0                    Mediterranean, Desserts, Salads         NaN   \n",
      "97         NaN                             Pizza, American, Wings         NaN   \n",
      "451       24.0                    American, Burgers, Comfort Food           $   \n",
      "598       48.0  American, Burgers, Salads, Family Meals, Healt...          $$   \n",
      "...        ...                                                ...         ...   \n",
      "39850    436.0                      Greek, Mexican, Mediterranean         NaN   \n",
      "39910    130.0         Breakfast and Brunch, American, Sandwiches           $   \n",
      "39933     21.0          Colombian, Latin American, Latin American         NaN   \n",
      "40101     34.0  Burgers, American, Sandwiches, Family Friendly...          $$   \n",
      "40146    164.0  Indian, Asian, Vegetarian Friendly, Healthy, V...          $$   \n",
      "\n",
      "                                            full_address    zip_code  \\\n",
      "44            1801 4th Ave S, Birmingham, AL, 35233-1944  35233-1944   \n",
      "73             715 18th St N, Birmingham, AL, 35203-2207  35203-2207   \n",
      "97     707 Richard Arrington Jr Blvd S, Birmingham, A...  35233-2105   \n",
      "451    2341 John Hawkins Pkwy, 119, Birmingham, AL, 3...  35244-3503   \n",
      "598      3083 Montgomery Highway, Dothan, AL, 36303-2160  36303-2160   \n",
      "...                                                  ...         ...   \n",
      "39850        2118 S Congress Ave, Austin, TX, 78704-4317  78704-4317   \n",
      "39910           415 St Elmo Rd E, Austin, TX, 78745-1221  78745-1221   \n",
      "39933     13201 Ranch Road 620 N, Austin, TX, 78717-1011  78717-1011   \n",
      "40101        3210 Esperanza Xing, Austin, TX, 78758-7813  78758-7813   \n",
      "40146           3400 Comsouth Dr, Austin, TX, 78744-1320  78744-1320   \n",
      "\n",
      "             lat        lng                            onlyname        city  \\\n",
      "44     33.507610 -86.804820                  The Baisakhi Dhaba  Birmingham   \n",
      "73     33.519610 -86.812570                   Karams Restaurant  Birmingham   \n",
      "97     33.506550 -86.798290       Potatoe Potatohz Perfic Pizza  Birmingham   \n",
      "451    33.352200 -86.864100         Whiskey Foxtrot Burger Dive         119   \n",
      "598    31.250780 -85.428480                             Chili's      Dothan   \n",
      "...          ...        ...                                 ...         ...   \n",
      "39850  30.242430 -97.752720                                ZIKI      Austin   \n",
      "39910  30.214850 -97.762370  Wham Bam Bagels &amp; Coffee Truck      Austin   \n",
      "39933  30.467240 -97.794603                      Sabor Colombia      Austin   \n",
      "40101  30.400239 -97.724179                Hat Creek Burger Co.      Austin   \n",
      "40146  30.212250 -97.720290            Teji's Indian Restaurant      Austin   \n",
      "\n",
      "            state  \n",
      "44             AL  \n",
      "73             AL  \n",
      "97             AL  \n",
      "451    Birmingham  \n",
      "598            AL  \n",
      "...           ...  \n",
      "39850          TX  \n",
      "39910          TX  \n",
      "39933          TX  \n",
      "40101          TX  \n",
      "40146          TX  \n",
      "\n",
      "[576 rows x 14 columns]\n",
      "Rows wth zip_code longer than 5 characters:  Empty DataFrame\n",
      "Columns: [id, position, name, score, ratings, category, price_range, full_address, zip_code, lat, lng, onlyname, city, state]\n",
      "Index: []\n"
     ]
    }
   ],
   "source": [
    "print(\"Unique values: \",df_restaurants['zip_code'].unique())\n",
    "print(\"Cells without value: \",df_restaurants['zip_code'].isna().sum())\n",
    "\n",
    "print(\"Rows with zip_code without digits: \",df_restaurants[~df_restaurants['zip_code'].str.contains(r'\\d')])\n",
    "# delete rows without digits in zip_code\n",
    "df_restaurants.drop(df_restaurants[~df_restaurants['zip_code'].str.contains(r'\\d')].index, inplace=True)\n",
    "\n",
    "print(\"Rows wth zip_code longer than 5 characters: \",df_restaurants[df_restaurants['zip_code'].str.len()>5])\n",
    "df_restaurants.loc[df_restaurants['zip_code'].str.len() > 5, 'zip_code'] = df_restaurants.loc[df_restaurants['zip_code'].str.len() > 5, 'zip_code'].str.slice(stop=5)\n",
    "print(\"Rows wth zip_code longer than 5 characters: \",df_restaurants[df_restaurants['zip_code'].str.len()>5])\n",
    "\n",
    "#print(\"Rows: \",df_restaurants['zip_code'].shape[0])\n",
    "#print(df_restaurants[['full_address', 'zip_code']].head(10))\n"
   ]
  },
  {
   "cell_type": "markdown",
   "id": "75bb8303",
   "metadata": {},
   "source": [
    "#### restaurants.lat & restaurants.lng\n",
    "\n",
    "Continental US Only\n",
    "- Northernmost: 49.382808\n",
    "- Southernmost: 24.521208\n",
    "- Easternmost: -66.945392\n",
    "- Westernmost: -124.736342\n",
    "\n",
    "https://qr.ae/prUdNd\n",
    "\n",
    "https://gist.github.com/graydon/11198540"
   ]
  },
  {
   "cell_type": "code",
   "execution_count": 15,
   "id": "6687edfc",
   "metadata": {},
   "outputs": [
    {
     "name": "stdout",
     "output_type": "stream",
     "text": [
      "Unique values:  [33.5623653 33.58364   33.5098    ... 30.32429   30.2695803 30.2022099]\n",
      "Cells without value:  0\n",
      "Latitude above Nothernmost:  0\n",
      "Latitude below Southermost:  228\n",
      "Longitute left from Westernmost:  0\n",
      "Longitute right from Easternmost:  228\n",
      "Latitude = zero:  26\n",
      "Longitude = zero:  26\n",
      "Latitude above Nothernmost:  0\n",
      "Latitude below Southermost:  0\n",
      "Longitute left from Westernmost:  0\n",
      "Longitute right from Easternmost:  0\n",
      "Latitude = zero:  0\n",
      "Longitude = zero:  0\n"
     ]
    },
    {
     "data": {
      "text/plain": [
       "id                int64\n",
       "position          int64\n",
       "name             object\n",
       "score           float64\n",
       "ratings         float64\n",
       "category         object\n",
       "price_range      object\n",
       "full_address     object\n",
       "zip_code         object\n",
       "lat             float64\n",
       "lng             float64\n",
       "onlyname         object\n",
       "city             object\n",
       "state            object\n",
       "dtype: object"
      ]
     },
     "execution_count": 15,
     "metadata": {},
     "output_type": "execute_result"
    }
   ],
   "source": [
    "print(\"Unique values: \",df_restaurants['lat'].unique())\n",
    "print(\"Cells without value: \",df_restaurants['lat'].isna().sum())\n",
    "Northernmost=49.382808\n",
    "Southernmost=24.521208\n",
    "Easternmost=-66.945392\n",
    "Westernmost=-124.736342\n",
    "\n",
    "print(\"Latitude above Nothernmost: \",(df_restaurants['lat']>Northernmost).sum())\n",
    "print(\"Latitude below Southermost: \",(df_restaurants['lat']<Southernmost).sum())\n",
    "print(\"Longitute left from Westernmost: \",(df_restaurants['lng']<Westernmost).sum())\n",
    "print(\"Longitute right from Easternmost: \",(df_restaurants['lng']>Easternmost).sum())\n",
    "\n",
    "print(\"Latitude = zero: \",(df_restaurants['lat']==0).sum())\n",
    "print(\"Longitude = zero: \",(df_restaurants['lng']==0).sum())\n",
    "\n",
    "\n",
    "df_restaurants.drop(df_restaurants[df_restaurants['lat'] > Northernmost].index, inplace=True)\n",
    "df_restaurants.drop(df_restaurants[df_restaurants['lat'] < Southernmost].index, inplace=True)\n",
    "df_restaurants.drop(df_restaurants[df_restaurants['lng'] < Westernmost].index, inplace=True)\n",
    "df_restaurants.drop(df_restaurants[df_restaurants['lng'] > Easternmost].index, inplace=True)\n",
    "\n",
    "df_restaurants.drop(df_restaurants[(df_restaurants['lat'] == 0) & (df_restaurants['lng'] == 0) & (df_restaurants['state'] != '')].index, inplace=True)\n",
    "\n",
    "print(\"Latitude above Nothernmost: \",(df_restaurants['lat']>Northernmost).sum())\n",
    "print(\"Latitude below Southermost: \",(df_restaurants['lat']<Southernmost).sum())\n",
    "print(\"Longitute left from Westernmost: \",(df_restaurants['lng']<Westernmost).sum())\n",
    "print(\"Longitute right from Easternmost: \",(df_restaurants['lng']>Easternmost).sum())\n",
    "\n",
    "print(\"Latitude = zero: \",(df_restaurants['lat']==0).sum())\n",
    "print(\"Longitude = zero: \",(df_restaurants['lng']==0).sum())\n",
    "\n",
    "df_restaurants.dtypes"
   ]
  },
  {
   "cell_type": "markdown",
   "id": "e400d772",
   "metadata": {},
   "source": [
    "#### restaurants.onlyname"
   ]
  },
  {
   "cell_type": "code",
   "execution_count": 16,
   "id": "ff84dbc4",
   "metadata": {},
   "outputs": [
    {
     "name": "stdout",
     "output_type": "stream",
     "text": [
      "Unique values:  ['PJ Fresh' \"J' ti`'z Smoothie-N-Coffee Bar\" 'Philly Fresh Cheesesteaks'\n",
      " ... 'EurAsia Ramen 3' \"Austin's Habibi\" 'Beijing Wok']\n",
      "Cells without value:  0\n",
      "Rows:  39692\n"
     ]
    }
   ],
   "source": [
    "print(\"Unique values: \",df_restaurants['onlyname'].unique())\n",
    "print(\"Cells without value: \",df_restaurants['onlyname'].isna().sum())\n",
    "print(\"Rows: \",df_restaurants['onlyname'].shape[0])"
   ]
  },
  {
   "cell_type": "markdown",
   "id": "52b7dd14",
   "metadata": {},
   "source": [
    "#### restaurants.city"
   ]
  },
  {
   "cell_type": "code",
   "execution_count": 17,
   "id": "a8f61b9b",
   "metadata": {},
   "outputs": [
    {
     "name": "stdout",
     "output_type": "stream",
     "text": [
      "Unique values:  ['Birmingham' 'Hoover' 'Gardendale' ... 'Buda' 'Suite 640' 'Ste H8']\n",
      "Cells without value:  0\n",
      "Rows:  39692\n"
     ]
    }
   ],
   "source": [
    "print(\"Unique values: \",df_restaurants['city'].unique())\n",
    "print(\"Cells without value: \",df_restaurants['city'].isna().sum())\n",
    "print(\"Rows: \",df_restaurants['city'].shape[0])"
   ]
  },
  {
   "cell_type": "markdown",
   "id": "afff2b71",
   "metadata": {},
   "source": [
    "#### restaurants.state"
   ]
  },
  {
   "cell_type": "code",
   "execution_count": 18,
   "id": "9c061aea",
   "metadata": {},
   "outputs": [
    {
     "name": "stdout",
     "output_type": "stream",
     "text": [
      "Unique values:  ['AL' 'Fultondale' 'Birmingham' 'Homewood' 'Hoover' 'Hoover,' 'USA'\n",
      " 'Dothan' 'Huntsville' 'Decatur' 'Gulf Shores' 'WY' 'WI' 'Ashwaubenon'\n",
      " 'Baraboo' 'Lake Delton' 'Brookfield' 'Oak Creek' 'Hales Corners'\n",
      " 'Wauwatosa' 'Milwaukee' 'Village of Pewaukee' 'Waunakee' 'Waukesha'\n",
      " 'Monona' 'Kenosha' 'Mt. Pleasant' 'MN' 'Duluth' 'Green Bay' 'Howard'\n",
      " 'Sheboygan' 'Madison' 'Janesville' 'Village of' 'IL' 'Spring Grove'\n",
      " 'Gurnee' 'WV' 'Vienna' 'Morgantown' 'Parkersburg' 'Charleston'\n",
      " 'Martinsburg' 'Kanawha City' 'OH' 'Huntington' 'WA' 'Olympia' 'Lacey'\n",
      " 'Seattle' 'Everett' 'Edmonds' 'Lynnwood' 'Mukilteo' 'Bothell' '西雅图'\n",
      " 'Alderwood Manor' 'Kirkland' 'Mill Creek' 'Suite B-1' 'seattle'\n",
      " 'Bellevue' 'Snohomish' 'Redmond' 'Duvall' 'Kennewick' 'Pasco' 'Richland'\n",
      " 'OR' 'Vancouver' 'Renton' 'Kent' 'Federal Way' 'Tukwila' 'Burien'\n",
      " 'Bryn Mawr-Skyway' 'Seatac' 'Des Moines' 'Portland' 'Battle Ground'\n",
      " 'Puyallup' 'Lakewood' 'Tacoma' 'South Hill' 'Tumwater' 'Issaquah'\n",
      " 'Auburn' 'Silverdale' 'Marysville' 'Dupont' 'Spokane' 'Liberty Lake'\n",
      " 'Airway Heights' 'Broadway' 'Lake Stevens' 'Snoqualmie' 'Gig Harbor'\n",
      " 'Port Orchard' 'Bellingham' 'ID' 'MOSCOW' 'Mercer Island' 'Covington'\n",
      " 'VA' 'Newport News' 'Hampton' 'Yorktown' 'Suite 10' 'DC' 'Springfield'\n",
      " 'Alexandria' 'Annandale' 'Manassas' 'Ox Rd' '#105B' 'Suite 240'\n",
      " 'Suite #505' 'Williamsburg' 'Staunton' 'Harrisonburg' 'Bridgewater' 'MD'\n",
      " 'Arlington' 'Washington' 'Providence' 'Falls Church' 'Fairfax'\n",
      " 'Pimmit Hills' 'Bethesda' 'McLean' 'Seven Corners' 'Tysons Corner'\n",
      " 'Virginia Beach' 'Roanoke' 'Cave Spring' 'Ashburn' 'Charity'\n",
      " 'Centreville' 'Sterling' 'Sully' 'Chantilly' 'Rockville' 'McNair'\n",
      " 'Broad Run' 'Herndon' 'Reston' 'Dulles' 'Stafford' 'Suffolk' 'Leesburg'\n",
      " 'Boyds' 'Germantown' 'Hunter Mill' 'Rock Hill' 'Fredericksburg'\n",
      " 'FREDERICKSBURG' 'Richmond' 'Ashland' 'Mechanicsville' 'Glen Allen'\n",
      " 'Blacksburg' 'Lynchburg' 'Rio' 'Henrico' 'Virginia' 'Midlothian' 'Dale'\n",
      " 'Colonial Heights' 'Petersburg' 'Prince George' 'Norfolk' 'Chesapeake'\n",
      " 'Portsmouth' 'Charlottesville' 'Washington D.C.' 'MD 20814'\n",
      " 'North Bethesda' 'Silver Spring' 'Old Town Manassas' 'Three Chopt'\n",
      " 'Gainesville' 'Gaithersburg' 'Farmville' 'TN' 'Bristol' 'D.C.'\n",
      " 'Brentwood' 'VT' 'Essex Junction' 'Winooski' 'UT' 'Salt Lake City'\n",
      " 'Clearfield' '84025' 'Kaysville' 'West Valley City' 'Ogden' 'Roy'\n",
      " 'Clinton' 'South Jordan' 'Midvale' 'Millcreek' 'South Salt Lake' 'Lehi'\n",
      " 'Draper' 'West Valley' 'Murray' 'Utah' 'West Jordan' 'Taylorsville'\n",
      " 'Sandy' 'St. George' 'Santa Clara' 'Orem' 'Provo' 'Logan' 'Saint George'\n",
      " 'Holladay' 'Park City' 'Farmington' 'TX' 'Wylie' 'Plano' 'Richardson'\n",
      " 'McKinney' 'Murphy' 'Texas' 'Garland' 'Allen' 'Dallas' 'Lubbock'\n",
      " 'San Antonio' 'Selma' 'United States' 'San Marcos' 'Mesquite' 'Red Oak'\n",
      " 'Hutchins' 'Cedar Hill' 'Sunnyvale' 'Desoto' 'Duncanville' 'Willis'\n",
      " 'Montgomery' 'Magnolia' 'Fort Worth' 'Lake Worth' 'Willow Park'\n",
      " 'Wichita Falls' 'Tyler' 'Longview' 'Watauga' 'North Richland Hills'\n",
      " 'Hurst' 'Keller' 'Haslet' 'Everman' 'Bedford' 'Euless' 'Irving'\n",
      " 'Grapevine' 'Denton' 'Austin' 'West Lake Hills' 'Cedar Park' 'Round Rock'\n",
      " 'Windemere']\n",
      "Cells without value:  0\n",
      "Rows:  39692\n",
      "Count of states not in list:  2467\n",
      "0        False\n",
      "1        False\n",
      "2        False\n",
      "3        False\n",
      "4        False\n",
      "         ...  \n",
      "40222    False\n",
      "40223    False\n",
      "40224    False\n",
      "40225    False\n",
      "40226    False\n",
      "Name: state, Length: 39692, dtype: bool\n"
     ]
    }
   ],
   "source": [
    "state_list = [\"AL\", \"AK\", \"AZ\", \"AR\", \"CA\", \"CO\", \"CT\", \"DE\", \"FL\", \"GA\", \n",
    "              \"HI\", \"ID\", \"IL\", \"IN\", \"IA\", \"KS\", \"KY\", \"LA\", \"ME\", \"MD\", \n",
    "              \"MA\", \"MI\", \"MN\", \"MS\", \"MO\", \"MT\", \"NE\", \"NV\", \"NH\", \"NJ\", \n",
    "              \"NM\", \"NY\", \"NC\", \"ND\", \"OH\", \"OK\", \"OR\", \"PA\", \"RI\", \"SC\", \n",
    "              \"SD\", \"TN\", \"TX\", \"UT\", \"VT\", \"VA\", \"WA\", \"WV\", \"WI\", \"WY\"]\n",
    "\n",
    "\n",
    "print(\"Unique values: \",df_restaurants['state'].unique())\n",
    "print(\"Cells without value: \",df_restaurants['state'].isna().sum())\n",
    "print(\"Rows: \",df_restaurants['state'].shape[0])\n",
    "\n",
    "not_in_state_list_count = df_restaurants[~df_restaurants[\"state\"].isin(state_list)][\"state\"].count()\n",
    "\n",
    "print(\"Count of states not in list: \", not_in_state_list_count)\n",
    "\n",
    "print(~df_restaurants[\"state\"].isin(state_list))\n"
   ]
  },
  {
   "cell_type": "code",
   "execution_count": 19,
   "id": "195b342e",
   "metadata": {},
   "outputs": [
    {
     "name": "stdout",
     "output_type": "stream",
     "text": [
      "restaurants datatypes before change\n",
      "----------------------------------------\n",
      "id                int64\n",
      "position          int64\n",
      "name             object\n",
      "score           float64\n",
      "ratings         float64\n",
      "category         object\n",
      "price_range      object\n",
      "full_address     object\n",
      "zip_code         object\n",
      "lat             float64\n",
      "lng             float64\n",
      "onlyname         object\n",
      "city             object\n",
      "state            object\n",
      "dtype: object\n",
      "restaurants datatypes after change\n",
      "--------------------------\n",
      "id                int64\n",
      "position          int64\n",
      "name             object\n",
      "score           float64\n",
      "ratings         float64\n",
      "category         object\n",
      "price_range      object\n",
      "full_address     object\n",
      "zip_code         object\n",
      "lat             float64\n",
      "lng             float64\n",
      "onlyname         object\n",
      "city             object\n",
      "state            object\n",
      "dtype: object\n"
     ]
    },
    {
     "data": {
      "text/html": [
       "<div>\n",
       "<style scoped>\n",
       "    .dataframe tbody tr th:only-of-type {\n",
       "        vertical-align: middle;\n",
       "    }\n",
       "\n",
       "    .dataframe tbody tr th {\n",
       "        vertical-align: top;\n",
       "    }\n",
       "\n",
       "    .dataframe thead th {\n",
       "        text-align: right;\n",
       "    }\n",
       "</style>\n",
       "<table border=\"1\" class=\"dataframe\">\n",
       "  <thead>\n",
       "    <tr style=\"text-align: right;\">\n",
       "      <th></th>\n",
       "      <th>id</th>\n",
       "      <th>position</th>\n",
       "      <th>name</th>\n",
       "      <th>score</th>\n",
       "      <th>ratings</th>\n",
       "      <th>category</th>\n",
       "      <th>price_range</th>\n",
       "      <th>full_address</th>\n",
       "      <th>zip_code</th>\n",
       "      <th>lat</th>\n",
       "      <th>lng</th>\n",
       "      <th>onlyname</th>\n",
       "      <th>city</th>\n",
       "      <th>state</th>\n",
       "    </tr>\n",
       "  </thead>\n",
       "  <tbody>\n",
       "    <tr>\n",
       "      <th>0</th>\n",
       "      <td>1</td>\n",
       "      <td>19</td>\n",
       "      <td>PJ Fresh (224 Daniel Payne Drive)</td>\n",
       "      <td>NaN</td>\n",
       "      <td>NaN</td>\n",
       "      <td>Burgers, American, Sandwiches</td>\n",
       "      <td>$</td>\n",
       "      <td>224 Daniel Payne Drive, Birmingham, AL, 35207</td>\n",
       "      <td>35207</td>\n",
       "      <td>33.562365</td>\n",
       "      <td>-86.830703</td>\n",
       "      <td>PJ Fresh</td>\n",
       "      <td>Birmingham</td>\n",
       "      <td>AL</td>\n",
       "    </tr>\n",
       "    <tr>\n",
       "      <th>1</th>\n",
       "      <td>2</td>\n",
       "      <td>9</td>\n",
       "      <td>J' ti`'z Smoothie-N-Coffee Bar</td>\n",
       "      <td>NaN</td>\n",
       "      <td>NaN</td>\n",
       "      <td>Coffee and Tea, Breakfast and Brunch, Bubble Tea</td>\n",
       "      <td>nan</td>\n",
       "      <td>1521 Pinson Valley Parkway, Birmingham, AL, 35217</td>\n",
       "      <td>35217</td>\n",
       "      <td>33.583640</td>\n",
       "      <td>-86.773330</td>\n",
       "      <td>J' ti`'z Smoothie-N-Coffee Bar</td>\n",
       "      <td>Birmingham</td>\n",
       "      <td>AL</td>\n",
       "    </tr>\n",
       "    <tr>\n",
       "      <th>2</th>\n",
       "      <td>3</td>\n",
       "      <td>6</td>\n",
       "      <td>Philly Fresh Cheesesteaks (541-B Graymont Ave)</td>\n",
       "      <td>NaN</td>\n",
       "      <td>NaN</td>\n",
       "      <td>American, Cheesesteak, Sandwiches, Alcohol</td>\n",
       "      <td>$</td>\n",
       "      <td>541-B Graymont Ave, Birmingham, AL, 35204</td>\n",
       "      <td>35204</td>\n",
       "      <td>33.509800</td>\n",
       "      <td>-86.854640</td>\n",
       "      <td>Philly Fresh Cheesesteaks</td>\n",
       "      <td>Birmingham</td>\n",
       "      <td>AL</td>\n",
       "    </tr>\n",
       "    <tr>\n",
       "      <th>3</th>\n",
       "      <td>4</td>\n",
       "      <td>17</td>\n",
       "      <td>Papa Murphy's (1580 Montgomery Highway)</td>\n",
       "      <td>NaN</td>\n",
       "      <td>NaN</td>\n",
       "      <td>Pizza</td>\n",
       "      <td>$</td>\n",
       "      <td>1580 Montgomery Highway, Hoover, AL, 35226</td>\n",
       "      <td>35226</td>\n",
       "      <td>33.404439</td>\n",
       "      <td>-86.806614</td>\n",
       "      <td>Papa Murphy's</td>\n",
       "      <td>Hoover</td>\n",
       "      <td>AL</td>\n",
       "    </tr>\n",
       "    <tr>\n",
       "      <th>4</th>\n",
       "      <td>5</td>\n",
       "      <td>162</td>\n",
       "      <td>Nelson Brothers Cafe (17th St N)</td>\n",
       "      <td>4.7</td>\n",
       "      <td>22.0</td>\n",
       "      <td>Breakfast and Brunch, Burgers, Sandwiches</td>\n",
       "      <td>nan</td>\n",
       "      <td>314 17th St N, Birmingham, AL, 35203</td>\n",
       "      <td>35203</td>\n",
       "      <td>33.514730</td>\n",
       "      <td>-86.811700</td>\n",
       "      <td>Nelson Brothers Cafe</td>\n",
       "      <td>Birmingham</td>\n",
       "      <td>AL</td>\n",
       "    </tr>\n",
       "  </tbody>\n",
       "</table>\n",
       "</div>"
      ],
      "text/plain": [
       "   id  position                                            name  score  \\\n",
       "0   1        19               PJ Fresh (224 Daniel Payne Drive)    NaN   \n",
       "1   2         9                  J' ti`'z Smoothie-N-Coffee Bar    NaN   \n",
       "2   3         6  Philly Fresh Cheesesteaks (541-B Graymont Ave)    NaN   \n",
       "3   4        17         Papa Murphy's (1580 Montgomery Highway)    NaN   \n",
       "4   5       162                Nelson Brothers Cafe (17th St N)    4.7   \n",
       "\n",
       "   ratings                                          category price_range  \\\n",
       "0      NaN                     Burgers, American, Sandwiches           $   \n",
       "1      NaN  Coffee and Tea, Breakfast and Brunch, Bubble Tea         nan   \n",
       "2      NaN        American, Cheesesteak, Sandwiches, Alcohol           $   \n",
       "3      NaN                                             Pizza           $   \n",
       "4     22.0         Breakfast and Brunch, Burgers, Sandwiches         nan   \n",
       "\n",
       "                                        full_address zip_code        lat  \\\n",
       "0      224 Daniel Payne Drive, Birmingham, AL, 35207    35207  33.562365   \n",
       "1  1521 Pinson Valley Parkway, Birmingham, AL, 35217    35217  33.583640   \n",
       "2          541-B Graymont Ave, Birmingham, AL, 35204    35204  33.509800   \n",
       "3         1580 Montgomery Highway, Hoover, AL, 35226    35226  33.404439   \n",
       "4               314 17th St N, Birmingham, AL, 35203    35203  33.514730   \n",
       "\n",
       "         lng                        onlyname        city state  \n",
       "0 -86.830703                        PJ Fresh  Birmingham    AL  \n",
       "1 -86.773330  J' ti`'z Smoothie-N-Coffee Bar  Birmingham    AL  \n",
       "2 -86.854640       Philly Fresh Cheesesteaks  Birmingham    AL  \n",
       "3 -86.806614                   Papa Murphy's      Hoover    AL  \n",
       "4 -86.811700            Nelson Brothers Cafe  Birmingham    AL  "
      ]
     },
     "execution_count": 19,
     "metadata": {},
     "output_type": "execute_result"
    }
   ],
   "source": [
    "print(\"restaurants datatypes before change\")\n",
    "print(\"----------------------------------------\")\n",
    "print(df_restaurants.dtypes)\n",
    "\n",
    "df_restaurants['name']=df_restaurants['name'].astype(str)\n",
    "df_restaurants['category']=df_restaurants['category'].astype(str)\n",
    "df_restaurants['price_range']=df_restaurants['price_range'].astype(str)\n",
    "df_restaurants['full_address']=df_restaurants['full_address'].astype(str)\n",
    "#df_restaurants['zipcode']=df_restaurants['zipcode'].astype(str)\n",
    "\n",
    "# position column 1-300 - to be removed?\n",
    "\n",
    "\n",
    "\n",
    "\n",
    "\n",
    "\n",
    "print(\"restaurants datatypes after change\")\n",
    "print(\"--------------------------\")\n",
    "print(df_restaurants.dtypes)\n",
    "\n",
    "df_restaurants.head()"
   ]
  }
 ],
 "metadata": {
  "kernelspec": {
   "display_name": "ENVPythonProject",
   "language": "python",
   "name": "envpythonproject"
  },
  "language_info": {
   "codemirror_mode": {
    "name": "ipython",
    "version": 3
   },
   "file_extension": ".py",
   "mimetype": "text/x-python",
   "name": "python",
   "nbconvert_exporter": "python",
   "pygments_lexer": "ipython3",
   "version": "3.10.9"
  }
 },
 "nbformat": 4,
 "nbformat_minor": 5
}
