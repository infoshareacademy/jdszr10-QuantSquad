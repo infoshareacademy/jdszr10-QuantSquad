{
 "cells": [
  {
   "cell_type": "markdown",
   "id": "e42b5ea0",
   "metadata": {},
   "source": [
    "# Uber Eats USA Restaurants and Menus\n",
    "[Kaggle.com](https://www.kaggle.com/datasets/ahmedshahriarsakib/uber-eats-usa-restaurants-menus)\n",
    "\n",
    "Quant Squad team\n",
    "Project Python - Data Science bootcamp\n",
    "\n",
    "conda install missingno\n",
    "conda install -c conda-forge geopy\n"
   ]
  },
  {
   "cell_type": "markdown",
   "id": "d099678e",
   "metadata": {},
   "source": [
    "## Initial setup\n",
    "### Import necessary libraries"
   ]
  },
  {
   "cell_type": "code",
   "execution_count": 1,
   "id": "5c0680d7",
   "metadata": {},
   "outputs": [],
   "source": [
    "import numpy as np\n",
    "import pandas as pd\n",
    "import time\n",
    "import os\n",
    "import missingno as msno\n",
    "from geopy.geocoders import Nominatim\n",
    "import re "
   ]
  },
  {
   "cell_type": "markdown",
   "id": "3c9bcad4",
   "metadata": {},
   "source": [
    "### File paths on kaggle.com"
   ]
  },
  {
   "cell_type": "code",
   "execution_count": 2,
   "id": "d4a3cdd6",
   "metadata": {},
   "outputs": [],
   "source": [
    "# paths from kaggle.com\n",
    "# INPUT\n",
    "# /kaggle/input/uber-eats-usa-restaurants-menus\n",
    "# /kaggle/input/uber-eats-usa-restaurants-menus/restaurant-menus.csv\n",
    "# /kaggle/input/uber-eats-usa-restaurants-menus/restaurants.csv\n",
    "# OUTPUT\n",
    "# /kaggle/working/"
   ]
  },
  {
   "cell_type": "markdown",
   "id": "52a45f4b",
   "metadata": {},
   "source": [
    "### Find location on local drive where to put data to have option to run your script on kaggle.com without any changes"
   ]
  },
  {
   "cell_type": "code",
   "execution_count": 3,
   "id": "b8f22dc1",
   "metadata": {
    "scrolled": true
   },
   "outputs": [
    {
     "name": "stdout",
     "output_type": "stream",
     "text": [
      "Put your kaggle/input/uber-eats-usa-restaurants-menus folders in folder\n",
      " D:\\\n"
     ]
    }
   ],
   "source": [
    "# where to put data files from kaggle.com\n",
    "cwd = os.getcwd()\n",
    "root_dir = os.path.abspath('/')\n",
    "print('Put your kaggle/input/uber-eats-usa-restaurants-menus folders in folder\\n', root_dir)"
   ]
  },
  {
   "cell_type": "markdown",
   "id": "d78fdfbf",
   "metadata": {},
   "source": [
    "### Load csv files to dataframes"
   ]
  },
  {
   "cell_type": "code",
   "execution_count": 4,
   "id": "84136ddb",
   "metadata": {
    "scrolled": false
   },
   "outputs": [
    {
     "name": "stdout",
     "output_type": "stream",
     "text": [
      "Elapsed time:  10.628302097320557 seconds\n"
     ]
    }
   ],
   "source": [
    "input_directory = \"/kaggle/input/uber-eats-usa-restaurants-menus\"\n",
    "input_file_restaurant_menus = '/kaggle/input/uber-eats-usa-restaurants-menus/restaurant-menus.csv'\n",
    "input_file_restaurants = r\"/kaggle/input/uber-eats-usa-restaurants-menus/restaurants.csv\"\n",
    "\n",
    "# measure time\n",
    "start_time = time.time()\n",
    "\n",
    "# Read the CSV file into a Pandas dataframe\n",
    "df_restaurant_menus = pd.read_csv(input_file_restaurant_menus)\n",
    "df_restaurants = pd.read_csv(input_file_restaurants)\n",
    "\n",
    "end_time = time.time()\n",
    "elapsed_time = end_time - start_time\n",
    "print(\"Elapsed time: \", elapsed_time, \"seconds\")"
   ]
  },
  {
   "cell_type": "markdown",
   "id": "27a9cffe",
   "metadata": {},
   "source": [
    "### Show basic data about data sources"
   ]
  },
  {
   "cell_type": "code",
   "execution_count": 5,
   "id": "8f3399e9",
   "metadata": {},
   "outputs": [
    {
     "name": "stdout",
     "output_type": "stream",
     "text": [
      "RESTAURANTS:\n",
      "============\n",
      "restaurants shape:\n",
      "(40227, 11) \n",
      "\n",
      "restaurants datatypes\n",
      "id                int64\n",
      "position          int64\n",
      "name             object\n",
      "score           float64\n",
      "ratings         float64\n",
      "category         object\n",
      "price_range      object\n",
      "full_address     object\n",
      "zip_code         object\n",
      "lat             float64\n",
      "lng             float64\n",
      "dtype: object\n",
      "\n",
      "\n",
      "\n",
      "{'All': 40227}\n",
      "RESTAURANT MENUS:\n",
      "=================\n",
      "restaurant-menus shape:\n",
      "(3375211, 5) \n",
      "\n",
      "restaurant-menus datatypes\n",
      "restaurant_id     int64\n",
      "category         object\n",
      "name             object\n",
      "description      object\n",
      "price            object\n",
      "dtype: object\n"
     ]
    }
   ],
   "source": [
    "print(\"RESTAURANTS:\")\n",
    "print(\"============\")\n",
    "print(\"restaurants shape:\")\n",
    "print(df_restaurants.shape,\"\\n\")\n",
    "print(\"restaurants datatypes\")\n",
    "print(df_restaurants.dtypes)\n",
    "print(\"\\n\\n\")\n",
    "\n",
    "deleted_rows_restaurants = {'All':df_restaurants.shape[0]}\n",
    "\n",
    "original_df_restaurants_rows = df_restaurants.shape[0]\n",
    "original_df_restaurant_menus_rows = df_restaurant_menus.shape[0]\n",
    "\n",
    "print(deleted_rows_restaurants)\n",
    "print(\"RESTAURANT MENUS:\")\n",
    "print(\"=================\")\n",
    "print(\"restaurant-menus shape:\")\n",
    "print(df_restaurant_menus.shape,\"\\n\")\n",
    "print(\"restaurant-menus datatypes\")\n",
    "print(df_restaurant_menus.dtypes)\n",
    "\n",
    "if 'position' in df_restaurants.columns:\n",
    "    df_restaurants.drop('position',axis=1,inplace=True)\n",
    "\n",
    "if 'zip_code' in df_restaurants.columns:\n",
    "    df_restaurants.drop('zip_code',axis=1,inplace=True)\n",
    "\n",
    "if 'description' in df_restaurant_menus.columns:\n",
    "    df_restaurant_menus.drop('description', axis=1,inplace=True)\n",
    "\n"
   ]
  },
  {
   "cell_type": "markdown",
   "id": "8e96ba9d",
   "metadata": {},
   "source": [
    "## Data Cleaning\n",
    "### Restaurants"
   ]
  },
  {
   "cell_type": "markdown",
   "id": "85588273",
   "metadata": {},
   "source": [
    "#### restaurants.id"
   ]
  },
  {
   "cell_type": "code",
   "execution_count": 6,
   "id": "80d782cf",
   "metadata": {},
   "outputs": [
    {
     "name": "stdout",
     "output_type": "stream",
     "text": [
      "Unique values:  [    1     2     3 ... 40225 40226 40227]\n",
      "Lowest value:  1\n",
      "Highest value:  40227\n",
      "Cells without value:  0\n",
      "Rows:  40227\n",
      "It is ok, id=# of rows\n"
     ]
    }
   ],
   "source": [
    "print(\"Unique values: \",df_restaurants['id'].unique())\n",
    "print(\"Lowest value: \",df_restaurants['id'].min())\n",
    "print(\"Highest value: \",df_restaurants['id'].max())\n",
    "print(\"Cells without value: \",df_restaurants['id'].isna().sum())\n",
    "print(\"Rows: \",df_restaurants.shape[0])\n",
    "if (df_restaurants['id'].max()==df_restaurants['id'].shape[0]):\n",
    "    print(\"It is ok, id=# of rows\")\n",
    "else:\n",
    "    print(\"There is gap, id<># of rows\")"
   ]
  },
  {
   "cell_type": "markdown",
   "id": "76923578",
   "metadata": {},
   "source": [
    "#### restaurants.name"
   ]
  },
  {
   "cell_type": "code",
   "execution_count": 7,
   "id": "38baf5a0",
   "metadata": {},
   "outputs": [
    {
     "name": "stdout",
     "output_type": "stream",
     "text": [
      "40227\n"
     ]
    }
   ],
   "source": [
    "# remove street from name (if exists) and put into separete column 'onlyname')\n",
    "df_restaurants[\"onlyname\"] = df_restaurants[\"name\"].str.replace(r\" \\(.*\\)\",\"\", regex=True).str.strip()\n",
    "\n",
    "# remove non printable characters\n",
    "pattern_nonlatin = '[^\\x00-\\x7F]'\n",
    "df_restaurants['onlyname'] = df_restaurants['onlyname'].apply(lambda x: re.sub(pattern_nonlatin, '', x))\n",
    "\n",
    "# remove digits\n",
    "pattern_digits = '[0-9]'\n",
    "df_restaurants['onlyname'] = df_restaurants['onlyname'].apply(lambda x: re.sub(pattern_digits, '', x))\n",
    "\n",
    "# remove html entities\n",
    "pattern_html = '&\\w+;'\n",
    "df_restaurants['onlyname'] = df_restaurants['onlyname'].apply(lambda x: re.sub(pattern_html, '', x))\n",
    "\n",
    "# leave only latin characters and space \n",
    "pattern_special = '[^a-z A-Z]'\n",
    "df_restaurants['onlyname'] = df_restaurants['onlyname'].apply(lambda x: re.sub(pattern_special, '', x))\n",
    "\n",
    "# trim content\n",
    "df_restaurants['onlyname'] = df_restaurants['onlyname'].str.strip()\n",
    "\n",
    "# Output Restaurant Chains for potential \"long-tail\" analysis\n",
    "# onlyname, categories, count of restaurants\n",
    "restaurant_chains = df_restaurants.groupby(['onlyname','category']).size().reset_index(name='count').sort_values('count', ascending=False)\n",
    "\n",
    "#chain = df_restaurants['onlyname'].value_counts()\n",
    "restaurant_chains.to_csv(\"output_restaurant_chains.csv\", index= False)\n",
    "\n",
    "print(df_restaurants.shape[0])\n"
   ]
  },
  {
   "cell_type": "markdown",
   "id": "c1fb4703",
   "metadata": {},
   "source": [
    "#### restaurants.category (Exclude non-restaurants)"
   ]
  },
  {
   "cell_type": "code",
   "execution_count": 8,
   "id": "e9ad6b23",
   "metadata": {},
   "outputs": [
    {
     "name": "stdout",
     "output_type": "stream",
     "text": [
      "40227\n",
      "40227\n",
      "37072\n"
     ]
    }
   ],
   "source": [
    "# categories that we have qualified as false for restaurants\n",
    "print(df_restaurants.shape[0])\n",
    "\n",
    "Categories_to_remove= ['Adult', 'Assorted Stores',\n",
    "'Beauty Supply','Bookstore','BOGO','ButcherShop','Candy',\n",
    "'Convenience','Convenience Store with Alcohol','Florist','Flowers',\n",
    "'Gift Store','Gifts','Grocery','Home & Decor','Home & Personal Care',\n",
    "'Indoor Plants & Gifts','Liquor Stores','MarketingCampaign',\n",
    "'OrganicProducts','Personal Care','Pet Shop','Pet Supplies',\n",
    "'Pharmacy','Plants','Regalos y flores',\n",
    "'Retail','Smoke Shop','Snack','Snacks','Everyday Essentials','Farmacia'\n",
    "'Nutrition Supplements','Decor','flores']\n",
    "\n",
    "# exclude non-restaurant items from \"restaurants\"\n",
    "\n",
    "excluded_restaurant_chains = pd.DataFrame()\n",
    "\n",
    "# group by \"onlyname\" and choose first category for specific \"onlyname\"\n",
    "# (there are cases where same \"onlyname\" have different set of categories)\n",
    "# example:\n",
    "#     McDonalds\tAmerican, Burgers, Fast Food\n",
    "#     McDonalds\tAmerican, burger, Fast Food\n",
    "#     McDonalds\tAmerican, Burgers, Fast Food, Fast Food\n",
    "#     McDonalds\tAmerican, Fast Food, Burgers, Group Friendly\n",
    "# \n",
    "\n",
    "excluded_restaurant_chains = df_restaurants.groupby(['onlyname']).agg({'category': ['first', lambda x: ', '\\\n",
    "                    .join(set(ex for ex in Categories_to_remove if ex in x))], 'onlyname': 'size'})\\\n",
    "                    .reset_index()\n",
    "\n",
    "# rename columns\n",
    "excluded_restaurant_chains.columns = ['onlyname', 'first_category', 'excluding_words', 'count']    \n",
    "\n",
    "# set 'exclude' column for 'yes' if there is any word from \"Categories_to_remove\" in 'first_category'\n",
    "excluded_restaurant_chains['exclude'] = excluded_restaurant_chains['first_category'].apply(lambda x: 'yes' if x is not None and any(ex in x for ex in Categories_to_remove) else 'no')\n",
    "\n",
    "# remember words from \"Categories_to_remove\" found for specific restaurant_chain in \"first_category\" (for potential verification)\n",
    "excluded_restaurant_chains['excluding_words'] =excluded_restaurant_chains['first_category'].apply(lambda x: ', '.join([ex for ex in Categories_to_remove if ex in x]) if x else '')\n",
    "\n",
    "excluded_restaurant_chains=excluded_restaurant_chains.sort_values('count', ascending=False)\n",
    "\n",
    "#print(excluded_restaurant_chains)\n",
    "\n",
    "# save for future analysis\n",
    "excluded_restaurant_chains.to_csv(\"output_excluded_restaurant_chains.csv\", index=False)\n",
    "\n",
    "# remove restaurants having categories from \"Categories_to_remove\" list \n",
    "print(df_restaurants.shape[0])\n",
    "\n",
    "# Create a set of \"onlyname\" names to exclude\n",
    "restaurants_to_exclude = set(excluded_restaurant_chains[excluded_restaurant_chains['exclude'] == 'yes']['onlyname'])\n",
    "\n",
    "# Select rows in \"cars\" where \"car_name\" is not in \"vendors\" \"car_name_vendor\" and \"exclude\" is not \"yes\"\n",
    "df_restaurants = df_restaurants[~(df_restaurants['onlyname'].isin(restaurants_to_exclude) & df_restaurants['onlyname'].isin(excluded_restaurant_chains['onlyname']))]\n",
    "\n",
    "print(df_restaurants.shape[0])\n",
    "\n"
   ]
  },
  {
   "cell_type": "markdown",
   "id": "94c157ce",
   "metadata": {},
   "source": [
    "#### restaurants.category"
   ]
  },
  {
   "cell_type": "code",
   "execution_count": 9,
   "id": "d2148bb6",
   "metadata": {},
   "outputs": [
    {
     "name": "stdout",
     "output_type": "stream",
     "text": [
      "Cells without value:  22\n",
      "Rows:  37072\n",
      "{'All': 40227, 'category - empty': 22}\n",
      "Cells without value:  0\n"
     ]
    }
   ],
   "source": [
    "# lower content\n",
    "df_restaurants['category']=df_restaurants['category'].str.lower()\n",
    "\n",
    "#print(\"Unique values: \",df_restaurants['category'].unique())\n",
    "print(\"Cells without value: \",df_restaurants['category'].isna().sum())\n",
    "print(\"Rows: \",df_restaurants.shape[0])\n",
    "\n",
    "empty_categories = df_restaurants[df_restaurants['category'].isna()]\n",
    "empty_categories.to_csv('output_deleted_empty_categories.csv', index=False)\n",
    "deleted_rows_restaurants['category - empty']=df_restaurants['category'].isna().sum()\n",
    "\n",
    "print(deleted_rows_restaurants)\n",
    "\n",
    "df_restaurants.dropna(subset=['category'], inplace=True)\n",
    "print(\"Cells without value: \",df_restaurants['category'].isna().sum())\n",
    "\n",
    "# unpivot 'category' column\n",
    "df_restaurants_categories = df_restaurants.assign(category=df_restaurants['category'].str.split(',')).explode('category')[['id','category']]\n",
    "# Drop duplicates of the pair 'id' and 'category'\n",
    "df_restaurants_categories = df_restaurants_categories.drop_duplicates(subset=['id', 'category'])\n",
    "\n",
    "df_restaurants_categories.head(10)\n",
    "\n",
    "# save categories to separate file for analysis\n",
    "df_restaurants_categories.columns = ['c_restaurant_id', 'c_category']   \n",
    "df_restaurants_categories.to_csv('output_ANALYZE_df_restaurants_categories.csv', index=False)"
   ]
  },
  {
   "cell_type": "markdown",
   "id": "44369583",
   "metadata": {},
   "source": [
    "#### restaurants.score"
   ]
  },
  {
   "cell_type": "code",
   "execution_count": 10,
   "id": "aaf8607d",
   "metadata": {},
   "outputs": [
    {
     "name": "stdout",
     "output_type": "stream",
     "text": [
      "Lowest value:  1.3\n",
      "Highest value:  5.0\n",
      "Cells without value:  15607\n",
      "Rows:  37050\n"
     ]
    }
   ],
   "source": [
    "#print(\"Unique values: \",df_restaurants['score'].unique())\n",
    "print(\"Lowest value: \",df_restaurants['score'].min())\n",
    "print(\"Highest value: \",df_restaurants['score'].max())\n",
    "print(\"Cells without value: \",df_restaurants['score'].isna().sum())\n",
    "print(\"Rows: \",df_restaurants.shape[0])"
   ]
  },
  {
   "cell_type": "markdown",
   "id": "f951cba1",
   "metadata": {},
   "source": [
    "#### restaurants.ratings"
   ]
  },
  {
   "cell_type": "code",
   "execution_count": 11,
   "id": "04457384",
   "metadata": {},
   "outputs": [
    {
     "name": "stdout",
     "output_type": "stream",
     "text": [
      "Lowest value:  10.0\n",
      "Highest value:  500.0\n",
      "Cells without value:  15607\n",
      "Rows:  37050\n"
     ]
    }
   ],
   "source": [
    "#print(\"Unique values: \",df_restaurants['ratings'].unique())\n",
    "print(\"Lowest value: \",df_restaurants['ratings'].min())\n",
    "print(\"Highest value: \",df_restaurants['ratings'].max())\n",
    "print(\"Cells without value: \",df_restaurants['ratings'].isna().sum())\n",
    "print(\"Rows: \",df_restaurants.shape[0])\n"
   ]
  },
  {
   "cell_type": "markdown",
   "id": "503d5de5",
   "metadata": {},
   "source": [
    "#### restaurants.price_range"
   ]
  },
  {
   "cell_type": "code",
   "execution_count": 12,
   "id": "fa14d250",
   "metadata": {},
   "outputs": [
    {
     "name": "stdout",
     "output_type": "stream",
     "text": [
      "Cells without value:  6423\n",
      "Rows:  37050\n"
     ]
    }
   ],
   "source": [
    "#print(\"Unique values: \",df_restaurants['price_range'].unique())\n",
    "print(\"Cells without value: \",df_restaurants['price_range'].isna().sum())\n",
    "print(\"Rows: \",df_restaurants.shape[0])"
   ]
  },
  {
   "cell_type": "markdown",
   "id": "75bb8303",
   "metadata": {},
   "source": [
    "#### restaurants.lat & restaurants.lng\n",
    "\n",
    "Continental US Only\n",
    "- Northernmost: 49.382808\n",
    "- Southernmost: 24.521208\n",
    "- Easternmost: -66.945392\n",
    "- Westernmost: -124.736342\n",
    "\n",
    "https://qr.ae/prUdNd\n",
    "\n",
    "https://gist.github.com/graydon/11198540"
   ]
  },
  {
   "cell_type": "code",
   "execution_count": 13,
   "id": "6687edfc",
   "metadata": {},
   "outputs": [
    {
     "name": "stdout",
     "output_type": "stream",
     "text": [
      "Unique values:  [33.5623653 33.58364   33.5098    ... 30.32429   30.2695803 30.2022099]\n",
      "Cells without value:  0\n",
      "Latitude above Northernmost:  0\n",
      "Latitude below Southermost:  202\n",
      "Longitute left from Westernmost:  0\n",
      "Longitute right from Easternmost:  202\n",
      "{'All': 40227, 'category - empty': 22, 'location - outside continental US - North': 0, 'location - outside continental US - South': 202, 'location - outside continental US - West': 0, 'location - outside continental US - East': 202, 'location - lat=0': 0, 'location - lng=0': 0}\n",
      "Latitude = zero:  0\n",
      "Longitude = zero:  0\n",
      "Latitude above Northernmost:  0\n",
      "Latitude below Southermost:  0\n",
      "Longitute left from Westernmost:  0\n",
      "Longitute right from Easternmost:  0\n",
      "Latitude = zero:  0\n",
      "Longitude = zero:  0\n",
      "Rows:  36848\n"
     ]
    }
   ],
   "source": [
    "print(\"Unique values: \",df_restaurants['lat'].unique())\n",
    "print(\"Cells without value: \",df_restaurants['lat'].isna().sum())\n",
    "Northernmost=49.382808\n",
    "Southernmost=24.521208\n",
    "Easternmost=-66.945392\n",
    "Westernmost=-124.736342\n",
    "\n",
    "print(\"Latitude above Northernmost: \",(df_restaurants['lat']>Northernmost).sum())\n",
    "print(\"Latitude below Southermost: \",(df_restaurants['lat']<Southernmost).sum())\n",
    "print(\"Longitute left from Westernmost: \",(df_restaurants['lng']<Westernmost).sum())\n",
    "print(\"Longitute right from Easternmost: \",(df_restaurants['lng']>Easternmost).sum())\n",
    "\n",
    "deleted_rows_restaurants['location - outside continental US - North']=(df_restaurants['lat']>Northernmost).sum()\n",
    "deleted_rows_restaurants['location - outside continental US - South']=(df_restaurants['lat']<Southernmost).sum()\n",
    "deleted_rows_restaurants['location - outside continental US - West']=(df_restaurants['lng']<Westernmost).sum()\n",
    "deleted_rows_restaurants['location - outside continental US - East']=(df_restaurants['lng']>Easternmost).sum()\n",
    "deleted_rows_restaurants['location - lat=0']=(df_restaurants['lat']==0).sum()\n",
    "deleted_rows_restaurants['location - lng=0']=(df_restaurants['lng']==0).sum()\n",
    "print(deleted_rows_restaurants)\n",
    "\n",
    "\n",
    "print(\"Latitude = zero: \",(df_restaurants['lat']==0).sum())\n",
    "print(\"Longitude = zero: \",(df_restaurants['lng']==0).sum())\n",
    "\n",
    "\n",
    "df_restaurants.drop(df_restaurants[df_restaurants['lat'] > Northernmost].index, inplace=True)\n",
    "df_restaurants.drop(df_restaurants[df_restaurants['lat'] < Southernmost].index, inplace=True)\n",
    "df_restaurants.drop(df_restaurants[df_restaurants['lng'] < Westernmost].index, inplace=True)\n",
    "df_restaurants.drop(df_restaurants[df_restaurants['lng'] > Easternmost].index, inplace=True)\n",
    "\n",
    "df_restaurants.drop(df_restaurants[(df_restaurants['lat'] == 0) | (df_restaurants['lng'] == 0)].index, inplace=True)\n",
    "\n",
    "print(\"Latitude above Northernmost: \",(df_restaurants['lat']>Northernmost).sum())\n",
    "print(\"Latitude below Southermost: \",(df_restaurants['lat']<Southernmost).sum())\n",
    "print(\"Longitute left from Westernmost: \",(df_restaurants['lng']<Westernmost).sum())\n",
    "print(\"Longitute right from Easternmost: \",(df_restaurants['lng']>Easternmost).sum())\n",
    "\n",
    "print(\"Latitude = zero: \",(df_restaurants['lat']==0).sum())\n",
    "print(\"Longitude = zero: \",(df_restaurants['lng']==0).sum())\n",
    "\n",
    "print(\"Rows: \",df_restaurants.shape[0])"
   ]
  },
  {
   "cell_type": "markdown",
   "id": "1b6c9b91",
   "metadata": {},
   "source": [
    "#### restaurants.full_address"
   ]
  },
  {
   "cell_type": "code",
   "execution_count": 14,
   "id": "36cc9187",
   "metadata": {},
   "outputs": [
    {
     "name": "stdout",
     "output_type": "stream",
     "text": [
      "Cells without value:  192\n",
      "Rows:  36848\n",
      " 192 / 192   Austin                               Cells without value:  0 \n",
      "Rows:  36848\n"
     ]
    }
   ],
   "source": [
    "print(\"Cells without value: \",df_restaurants['full_address'].isna().sum())\n",
    "print(\"Rows: \",df_restaurants['full_address'].shape[0])\n",
    "\n",
    "# define the geocoder instance\n",
    "geolocator = Nominatim(user_agent=\"Example application\")\n",
    "\n",
    "df_addresses=pd.DataFrame(columns=[\"location\",\"address\",\"city\"])\n",
    "\n",
    "# define a function to extract city and state information from coordinates\n",
    "def get_city_and_state(lat, lng,df_addresses):\n",
    "    location = geolocator.reverse(f\"{lat}, {lng}\", exactly_one=True,timeout=10)\n",
    "    address = location.raw[\"address\"]\n",
    "    \n",
    "    city = address.get(\"city\", \"\")\n",
    "    state = address.get(\"ISO3166-2-lvl4\", \"\")\n",
    "    zip_code = address.get(\"postcode\",\"\")\n",
    "    if city == '':\n",
    "        city = location.raw['address'].get('city', '###')\n",
    "        if city =='###':\n",
    "            city = location.raw['address'].get('town', '###')\n",
    "            if city =='###':\n",
    "                city = location.raw['address'].get('village', '###')\n",
    "                if city =='###':\n",
    "                    city = location.raw['address'].get('hamlet', '')\n",
    "\n",
    "    df_addresses.loc[len(df_addresses)] = [location, address,city]\n",
    "    return city, state, zip_code\n",
    "\n",
    "total_without_number = df_restaurants['full_address'].isna().sum()\n",
    "             \n",
    "# Iterate over the rows in the dataframe and update the 'full_address' column for rows where it is empty\n",
    "x=1\n",
    "for i, row in df_restaurants[df_restaurants['full_address'].isnull()].iterrows():\n",
    "    lat, lng = row['lat'], row['lng']\n",
    "    city, state, zip_code = get_city_and_state(lat, lng,df_addresses)\n",
    "    \n",
    "    df_restaurants.loc[i, \"full_address\"] = f\"{city}, {state}\"\n",
    "    df_restaurants.loc[i, \"state\"] = state             \n",
    "    df_restaurants.loc[i, \"city\"] = city\n",
    "#    df_restaurants.loc[i, \"zip_code\"] = zip_code\n",
    "    \n",
    "    print(\"\\r\",x,\"/\",total_without_number,\" \",city,\" \"*30, end=\"\")\n",
    "    x+=1\n",
    "print(\"Cells without value: \",df_restaurants['full_address'].isna().sum())\n",
    "\n",
    "# remove prefix \"US-\" from 'state' column content\n",
    "df_restaurants['state'] = df_restaurants['state'].str.replace('US-', '')\n",
    "print(\"Rows: \",df_restaurants.shape[0])"
   ]
  },
  {
   "cell_type": "code",
   "execution_count": 15,
   "id": "69e964d1",
   "metadata": {},
   "outputs": [
    {
     "name": "stdout",
     "output_type": "stream",
     "text": [
      "Cells without value:  0\n",
      "Rows:  36848\n"
     ]
    },
    {
     "data": {
      "text/html": [
       "<div>\n",
       "<style scoped>\n",
       "    .dataframe tbody tr th:only-of-type {\n",
       "        vertical-align: middle;\n",
       "    }\n",
       "\n",
       "    .dataframe tbody tr th {\n",
       "        vertical-align: top;\n",
       "    }\n",
       "\n",
       "    .dataframe thead th {\n",
       "        text-align: right;\n",
       "    }\n",
       "</style>\n",
       "<table border=\"1\" class=\"dataframe\">\n",
       "  <thead>\n",
       "    <tr style=\"text-align: right;\">\n",
       "      <th></th>\n",
       "      <th>id</th>\n",
       "      <th>name</th>\n",
       "      <th>score</th>\n",
       "      <th>ratings</th>\n",
       "      <th>category</th>\n",
       "      <th>price_range</th>\n",
       "      <th>full_address</th>\n",
       "      <th>lat</th>\n",
       "      <th>lng</th>\n",
       "      <th>onlyname</th>\n",
       "      <th>state</th>\n",
       "      <th>city</th>\n",
       "    </tr>\n",
       "  </thead>\n",
       "  <tbody>\n",
       "    <tr>\n",
       "      <th>0</th>\n",
       "      <td>1</td>\n",
       "      <td>PJ Fresh (224 Daniel Payne Drive)</td>\n",
       "      <td>NaN</td>\n",
       "      <td>NaN</td>\n",
       "      <td>burgers, american, sandwiches</td>\n",
       "      <td>$</td>\n",
       "      <td>224 Daniel Payne Drive, Birmingham, AL, 35207</td>\n",
       "      <td>33.562365</td>\n",
       "      <td>-86.830703</td>\n",
       "      <td>PJ Fresh</td>\n",
       "      <td>NaN</td>\n",
       "      <td>NaN</td>\n",
       "    </tr>\n",
       "    <tr>\n",
       "      <th>1</th>\n",
       "      <td>2</td>\n",
       "      <td>J' ti`'z Smoothie-N-Coffee Bar</td>\n",
       "      <td>NaN</td>\n",
       "      <td>NaN</td>\n",
       "      <td>coffee and tea, breakfast and brunch, bubble tea</td>\n",
       "      <td>NaN</td>\n",
       "      <td>1521 Pinson Valley Parkway, Birmingham, AL, 35217</td>\n",
       "      <td>33.583640</td>\n",
       "      <td>-86.773330</td>\n",
       "      <td>J tiz SmoothieNCoffee Bar</td>\n",
       "      <td>NaN</td>\n",
       "      <td>NaN</td>\n",
       "    </tr>\n",
       "    <tr>\n",
       "      <th>2</th>\n",
       "      <td>3</td>\n",
       "      <td>Philly Fresh Cheesesteaks (541-B Graymont Ave)</td>\n",
       "      <td>NaN</td>\n",
       "      <td>NaN</td>\n",
       "      <td>american, cheesesteak, sandwiches, alcohol</td>\n",
       "      <td>$</td>\n",
       "      <td>541-B Graymont Ave, Birmingham, AL, 35204</td>\n",
       "      <td>33.509800</td>\n",
       "      <td>-86.854640</td>\n",
       "      <td>Philly Fresh Cheesesteaks</td>\n",
       "      <td>NaN</td>\n",
       "      <td>NaN</td>\n",
       "    </tr>\n",
       "    <tr>\n",
       "      <th>3</th>\n",
       "      <td>4</td>\n",
       "      <td>Papa Murphy's (1580 Montgomery Highway)</td>\n",
       "      <td>NaN</td>\n",
       "      <td>NaN</td>\n",
       "      <td>pizza</td>\n",
       "      <td>$</td>\n",
       "      <td>1580 Montgomery Highway, Hoover, AL, 35226</td>\n",
       "      <td>33.404439</td>\n",
       "      <td>-86.806614</td>\n",
       "      <td>Papa Murphys</td>\n",
       "      <td>NaN</td>\n",
       "      <td>NaN</td>\n",
       "    </tr>\n",
       "    <tr>\n",
       "      <th>4</th>\n",
       "      <td>5</td>\n",
       "      <td>Nelson Brothers Cafe (17th St N)</td>\n",
       "      <td>4.7</td>\n",
       "      <td>22.0</td>\n",
       "      <td>breakfast and brunch, burgers, sandwiches</td>\n",
       "      <td>NaN</td>\n",
       "      <td>314 17th St N, Birmingham, AL, 35203</td>\n",
       "      <td>33.514730</td>\n",
       "      <td>-86.811700</td>\n",
       "      <td>Nelson Brothers Cafe</td>\n",
       "      <td>NaN</td>\n",
       "      <td>NaN</td>\n",
       "    </tr>\n",
       "    <tr>\n",
       "      <th>5</th>\n",
       "      <td>6</td>\n",
       "      <td>Ocean Restaurant</td>\n",
       "      <td>NaN</td>\n",
       "      <td>NaN</td>\n",
       "      <td>seafood, sushi, steak</td>\n",
       "      <td>$$</td>\n",
       "      <td>1218 20th Street South, Birmingham, AL, 35205</td>\n",
       "      <td>33.498630</td>\n",
       "      <td>-86.795740</td>\n",
       "      <td>Ocean Restaurant</td>\n",
       "      <td>NaN</td>\n",
       "      <td>NaN</td>\n",
       "    </tr>\n",
       "    <tr>\n",
       "      <th>6</th>\n",
       "      <td>7</td>\n",
       "      <td>Jinsei Sushi</td>\n",
       "      <td>4.7</td>\n",
       "      <td>63.0</td>\n",
       "      <td>sushi, asian, japanese</td>\n",
       "      <td>$</td>\n",
       "      <td>1830 29th Ave S, Birmingham, AL, 35209</td>\n",
       "      <td>33.480440</td>\n",
       "      <td>-86.790440</td>\n",
       "      <td>Jinsei Sushi</td>\n",
       "      <td>NaN</td>\n",
       "      <td>NaN</td>\n",
       "    </tr>\n",
       "    <tr>\n",
       "      <th>7</th>\n",
       "      <td>8</td>\n",
       "      <td>Little India</td>\n",
       "      <td>NaN</td>\n",
       "      <td>NaN</td>\n",
       "      <td>vegetarian, asian, asian fusion, chinese, indi...</td>\n",
       "      <td>$</td>\n",
       "      <td>2236 Highland Ave, Birmingham, AL, 35205</td>\n",
       "      <td>33.502259</td>\n",
       "      <td>-86.790298</td>\n",
       "      <td>Little India</td>\n",
       "      <td>NaN</td>\n",
       "      <td>NaN</td>\n",
       "    </tr>\n",
       "    <tr>\n",
       "      <th>8</th>\n",
       "      <td>9</td>\n",
       "      <td>Captain D's (1284 Decatur Hwy)</td>\n",
       "      <td>NaN</td>\n",
       "      <td>NaN</td>\n",
       "      <td>seafood, fast food, fish and chips, american</td>\n",
       "      <td>$</td>\n",
       "      <td>1284 Decatur Hwy, Gardendale, AL, 35071</td>\n",
       "      <td>33.657100</td>\n",
       "      <td>-86.811970</td>\n",
       "      <td>Captain Ds</td>\n",
       "      <td>NaN</td>\n",
       "      <td>NaN</td>\n",
       "    </tr>\n",
       "    <tr>\n",
       "      <th>9</th>\n",
       "      <td>10</td>\n",
       "      <td>Cajun Bistro Express</td>\n",
       "      <td>NaN</td>\n",
       "      <td>NaN</td>\n",
       "      <td>desserts, vegetarian, coffee and tea</td>\n",
       "      <td>$</td>\n",
       "      <td>1515 Pearson Ave SW, Birmingham, AL, 35211</td>\n",
       "      <td>33.486840</td>\n",
       "      <td>-86.856300</td>\n",
       "      <td>Cajun Bistro Express</td>\n",
       "      <td>NaN</td>\n",
       "      <td>NaN</td>\n",
       "    </tr>\n",
       "  </tbody>\n",
       "</table>\n",
       "</div>"
      ],
      "text/plain": [
       "   id                                            name  score  ratings  \\\n",
       "0   1               PJ Fresh (224 Daniel Payne Drive)    NaN      NaN   \n",
       "1   2                  J' ti`'z Smoothie-N-Coffee Bar    NaN      NaN   \n",
       "2   3  Philly Fresh Cheesesteaks (541-B Graymont Ave)    NaN      NaN   \n",
       "3   4         Papa Murphy's (1580 Montgomery Highway)    NaN      NaN   \n",
       "4   5                Nelson Brothers Cafe (17th St N)    4.7     22.0   \n",
       "5   6                                Ocean Restaurant    NaN      NaN   \n",
       "6   7                                    Jinsei Sushi    4.7     63.0   \n",
       "7   8                                    Little India    NaN      NaN   \n",
       "8   9                  Captain D's (1284 Decatur Hwy)    NaN      NaN   \n",
       "9  10                            Cajun Bistro Express    NaN      NaN   \n",
       "\n",
       "                                            category price_range  \\\n",
       "0                      burgers, american, sandwiches           $   \n",
       "1   coffee and tea, breakfast and brunch, bubble tea         NaN   \n",
       "2         american, cheesesteak, sandwiches, alcohol           $   \n",
       "3                                              pizza           $   \n",
       "4          breakfast and brunch, burgers, sandwiches         NaN   \n",
       "5                              seafood, sushi, steak          $$   \n",
       "6                             sushi, asian, japanese           $   \n",
       "7  vegetarian, asian, asian fusion, chinese, indi...           $   \n",
       "8       seafood, fast food, fish and chips, american           $   \n",
       "9               desserts, vegetarian, coffee and tea           $   \n",
       "\n",
       "                                        full_address        lat        lng  \\\n",
       "0      224 Daniel Payne Drive, Birmingham, AL, 35207  33.562365 -86.830703   \n",
       "1  1521 Pinson Valley Parkway, Birmingham, AL, 35217  33.583640 -86.773330   \n",
       "2          541-B Graymont Ave, Birmingham, AL, 35204  33.509800 -86.854640   \n",
       "3         1580 Montgomery Highway, Hoover, AL, 35226  33.404439 -86.806614   \n",
       "4               314 17th St N, Birmingham, AL, 35203  33.514730 -86.811700   \n",
       "5      1218 20th Street South, Birmingham, AL, 35205  33.498630 -86.795740   \n",
       "6             1830 29th Ave S, Birmingham, AL, 35209  33.480440 -86.790440   \n",
       "7           2236 Highland Ave, Birmingham, AL, 35205  33.502259 -86.790298   \n",
       "8            1284 Decatur Hwy, Gardendale, AL, 35071  33.657100 -86.811970   \n",
       "9         1515 Pearson Ave SW, Birmingham, AL, 35211  33.486840 -86.856300   \n",
       "\n",
       "                    onlyname state city  \n",
       "0                   PJ Fresh   NaN  NaN  \n",
       "1  J tiz SmoothieNCoffee Bar   NaN  NaN  \n",
       "2  Philly Fresh Cheesesteaks   NaN  NaN  \n",
       "3               Papa Murphys   NaN  NaN  \n",
       "4       Nelson Brothers Cafe   NaN  NaN  \n",
       "5           Ocean Restaurant   NaN  NaN  \n",
       "6               Jinsei Sushi   NaN  NaN  \n",
       "7               Little India   NaN  NaN  \n",
       "8                 Captain Ds   NaN  NaN  \n",
       "9       Cajun Bistro Express   NaN  NaN  "
      ]
     },
     "execution_count": 15,
     "metadata": {},
     "output_type": "execute_result"
    }
   ],
   "source": [
    "print(\"Cells without value: \",df_restaurants['full_address'].isna().sum())\n",
    "print(\"Rows: \",df_restaurants.shape[0])\n",
    "df_restaurants.head(10)"
   ]
  },
  {
   "cell_type": "code",
   "execution_count": 16,
   "id": "ac31a4f7",
   "metadata": {},
   "outputs": [
    {
     "name": "stdout",
     "output_type": "stream",
     "text": [
      "Cells without value:  0\n",
      "Rows:  36848\n"
     ]
    }
   ],
   "source": [
    "# extract state to separate column\n",
    "df_restaurants[\"state\"] = df_restaurants[\"full_address\"].str.split(\", \").str[-2]\n",
    "\n",
    "#print(\"Unique values: \",df_restaurants['state'].unique())\n",
    "#print((df_restaurants['state']=='Texas').sum())\n",
    "\n",
    "# replace 'Texas' with 'TX' etc.\n",
    "df_restaurants['state'].replace('Texas','TX', inplace=True)\n",
    "df_restaurants['state'].replace('San Juan','PR', inplace=True)\n",
    "df_restaurants['state'].replace('Austin','TX', inplace=True)\n",
    "df_restaurants['state'].replace('San Antonio','TX', inplace=True)\n",
    "df_restaurants['state'].replace('Fort Worth','TX', inplace=True)\n",
    "df_restaurants['state'].replace('Salt Lake City','UT', inplace=True)\n",
    "df_restaurants['state'].replace('Portland','OR', inplace=True)\n",
    "df_restaurants['state'].replace('Seattle','WA', inplace=True)\n",
    "df_restaurants['state'].replace('Fredericksburg','VA', inplace=True)\n",
    "df_restaurants['state'].replace('Milwaukee','WI', inplace=True)\n",
    "\n",
    "#replace 'LATAM' with 'PR' if it is withing Puerto Rico boundaries\n",
    "#print((df_restaurants['state']=='LATAM').sum())\n",
    "#print(df_restaurants[df_restaurants['state']=='LATAM'])\n",
    "\n",
    "# Puerto Rico\n",
    "#lat_min, lat_max = 17.9, 18.5\n",
    "#lng_min, lng_max = -67.2, -65.4\n",
    "\n",
    "#mask = (df_restaurants['state']=='LATAM') & (df_restaurants['lat'].between(lat_min, lat_max)) & (df_restaurants['lng'].between(lng_min, lng_max))\n",
    "#df_restaurants.loc[mask, 'state'] = 'PR'\n",
    "\n",
    "#print((df_restaurants['state']=='').sum())\n",
    "#print(df_restaurants[df_restaurants['state']==''])\n",
    "\n",
    "#mask = (df_restaurants['state']=='') & (df_restaurants['lat'].between(lat_min, lat_max)) & (df_restaurants['lng'].between(lng_min, lng_max))\n",
    "#df_restaurants.loc[mask, 'state'] = 'PR'\n",
    "\n",
    "print(\"Cells without value: \",df_restaurants['state'].isna().sum())\n",
    "\n",
    "\n",
    "#print(\"Unique values: \",df_restaurants['state'].unique())\n",
    "print(\"Rows: \",df_restaurants.shape[0])"
   ]
  },
  {
   "cell_type": "code",
   "execution_count": 17,
   "id": "9c061aea",
   "metadata": {},
   "outputs": [
    {
     "name": "stdout",
     "output_type": "stream",
     "text": [
      "Rows:  36848\n",
      "Rows:  36829\n"
     ]
    },
    {
     "data": {
      "text/html": [
       "<div>\n",
       "<style scoped>\n",
       "    .dataframe tbody tr th:only-of-type {\n",
       "        vertical-align: middle;\n",
       "    }\n",
       "\n",
       "    .dataframe tbody tr th {\n",
       "        vertical-align: top;\n",
       "    }\n",
       "\n",
       "    .dataframe thead th {\n",
       "        text-align: right;\n",
       "    }\n",
       "</style>\n",
       "<table border=\"1\" class=\"dataframe\">\n",
       "  <thead>\n",
       "    <tr style=\"text-align: right;\">\n",
       "      <th></th>\n",
       "      <th>id</th>\n",
       "      <th>name</th>\n",
       "      <th>score</th>\n",
       "      <th>ratings</th>\n",
       "      <th>category</th>\n",
       "      <th>price_range</th>\n",
       "      <th>full_address</th>\n",
       "      <th>lat</th>\n",
       "      <th>lng</th>\n",
       "      <th>onlyname</th>\n",
       "      <th>state</th>\n",
       "      <th>city</th>\n",
       "    </tr>\n",
       "  </thead>\n",
       "  <tbody>\n",
       "    <tr>\n",
       "      <th>0</th>\n",
       "      <td>1</td>\n",
       "      <td>PJ Fresh (224 Daniel Payne Drive)</td>\n",
       "      <td>NaN</td>\n",
       "      <td>NaN</td>\n",
       "      <td>burgers, american, sandwiches</td>\n",
       "      <td>$</td>\n",
       "      <td>224 Daniel Payne Drive, Birmingham, AL, 35207</td>\n",
       "      <td>33.562365</td>\n",
       "      <td>-86.830703</td>\n",
       "      <td>PJ Fresh</td>\n",
       "      <td>AL</td>\n",
       "      <td>NaN</td>\n",
       "    </tr>\n",
       "    <tr>\n",
       "      <th>1</th>\n",
       "      <td>2</td>\n",
       "      <td>J' ti`'z Smoothie-N-Coffee Bar</td>\n",
       "      <td>NaN</td>\n",
       "      <td>NaN</td>\n",
       "      <td>coffee and tea, breakfast and brunch, bubble tea</td>\n",
       "      <td>NaN</td>\n",
       "      <td>1521 Pinson Valley Parkway, Birmingham, AL, 35217</td>\n",
       "      <td>33.583640</td>\n",
       "      <td>-86.773330</td>\n",
       "      <td>J tiz SmoothieNCoffee Bar</td>\n",
       "      <td>AL</td>\n",
       "      <td>NaN</td>\n",
       "    </tr>\n",
       "    <tr>\n",
       "      <th>2</th>\n",
       "      <td>3</td>\n",
       "      <td>Philly Fresh Cheesesteaks (541-B Graymont Ave)</td>\n",
       "      <td>NaN</td>\n",
       "      <td>NaN</td>\n",
       "      <td>american, cheesesteak, sandwiches, alcohol</td>\n",
       "      <td>$</td>\n",
       "      <td>541-B Graymont Ave, Birmingham, AL, 35204</td>\n",
       "      <td>33.509800</td>\n",
       "      <td>-86.854640</td>\n",
       "      <td>Philly Fresh Cheesesteaks</td>\n",
       "      <td>AL</td>\n",
       "      <td>NaN</td>\n",
       "    </tr>\n",
       "    <tr>\n",
       "      <th>3</th>\n",
       "      <td>4</td>\n",
       "      <td>Papa Murphy's (1580 Montgomery Highway)</td>\n",
       "      <td>NaN</td>\n",
       "      <td>NaN</td>\n",
       "      <td>pizza</td>\n",
       "      <td>$</td>\n",
       "      <td>1580 Montgomery Highway, Hoover, AL, 35226</td>\n",
       "      <td>33.404439</td>\n",
       "      <td>-86.806614</td>\n",
       "      <td>Papa Murphys</td>\n",
       "      <td>AL</td>\n",
       "      <td>NaN</td>\n",
       "    </tr>\n",
       "    <tr>\n",
       "      <th>4</th>\n",
       "      <td>5</td>\n",
       "      <td>Nelson Brothers Cafe (17th St N)</td>\n",
       "      <td>4.7</td>\n",
       "      <td>22.0</td>\n",
       "      <td>breakfast and brunch, burgers, sandwiches</td>\n",
       "      <td>NaN</td>\n",
       "      <td>314 17th St N, Birmingham, AL, 35203</td>\n",
       "      <td>33.514730</td>\n",
       "      <td>-86.811700</td>\n",
       "      <td>Nelson Brothers Cafe</td>\n",
       "      <td>AL</td>\n",
       "      <td>NaN</td>\n",
       "    </tr>\n",
       "  </tbody>\n",
       "</table>\n",
       "</div>"
      ],
      "text/plain": [
       "   id                                            name  score  ratings  \\\n",
       "0   1               PJ Fresh (224 Daniel Payne Drive)    NaN      NaN   \n",
       "1   2                  J' ti`'z Smoothie-N-Coffee Bar    NaN      NaN   \n",
       "2   3  Philly Fresh Cheesesteaks (541-B Graymont Ave)    NaN      NaN   \n",
       "3   4         Papa Murphy's (1580 Montgomery Highway)    NaN      NaN   \n",
       "4   5                Nelson Brothers Cafe (17th St N)    4.7     22.0   \n",
       "\n",
       "                                           category price_range  \\\n",
       "0                     burgers, american, sandwiches           $   \n",
       "1  coffee and tea, breakfast and brunch, bubble tea         NaN   \n",
       "2        american, cheesesteak, sandwiches, alcohol           $   \n",
       "3                                             pizza           $   \n",
       "4         breakfast and brunch, burgers, sandwiches         NaN   \n",
       "\n",
       "                                        full_address        lat        lng  \\\n",
       "0      224 Daniel Payne Drive, Birmingham, AL, 35207  33.562365 -86.830703   \n",
       "1  1521 Pinson Valley Parkway, Birmingham, AL, 35217  33.583640 -86.773330   \n",
       "2          541-B Graymont Ave, Birmingham, AL, 35204  33.509800 -86.854640   \n",
       "3         1580 Montgomery Highway, Hoover, AL, 35226  33.404439 -86.806614   \n",
       "4               314 17th St N, Birmingham, AL, 35203  33.514730 -86.811700   \n",
       "\n",
       "                    onlyname state city  \n",
       "0                   PJ Fresh    AL  NaN  \n",
       "1  J tiz SmoothieNCoffee Bar    AL  NaN  \n",
       "2  Philly Fresh Cheesesteaks    AL  NaN  \n",
       "3               Papa Murphys    AL  NaN  \n",
       "4       Nelson Brothers Cafe    AL  NaN  "
      ]
     },
     "execution_count": 17,
     "metadata": {},
     "output_type": "execute_result"
    }
   ],
   "source": [
    "state_list = ['AL','AK','AS','AZ','AR','CA','CO','CT','DE','DC','FL','GA',\n",
    "              'GU','HI','ID','IL','IN','IA','KS','KY','LA','ME','MD','MA',\n",
    "              'MI','MN','MS','MO','MT','NE','NV','NH','NJ','NM','NY','NC',\n",
    "              'ND','MP','OH','OK','OR','PA','PR','RI','SC','SD','TN','TX',\n",
    "              'UT','VT','VA','VI','WA','WV','WI','WY']\n",
    "\n",
    "print(\"Rows: \",df_restaurants.shape[0])\n",
    "#df_restaurants.head()\n",
    "\n",
    "\n",
    "# Define a function to update the state column\n",
    "def update_state(row):\n",
    "    state = row['state']\n",
    "    full_address = row['full_address']\n",
    "    if state not in state_list:\n",
    "#        print(state)\n",
    "        # Search for the state abbreviation in the full_address column\n",
    "        for word in full_address.split():\n",
    "            if word.startswith('US-') and word[3:] in state_list:\n",
    "                return word[3:]\n",
    "    return state\n",
    "\n",
    "# Apply the function to the df_restaurants\n",
    "df_restaurants['state'] = df_restaurants.apply(update_state, axis=1)\n",
    "\n",
    "# Filter df_restaurants to include only rows where \"state\" value not in \"state_list\"\n",
    "restaurants_with_wrong_state = df_restaurants[~df_restaurants['state'].isin(state_list)]\n",
    "\n",
    "# Save filtered df_restaurants dataframe to CSV file\n",
    "restaurants_with_wrong_state.to_csv('output_restaurants_with_wrong_state.csv', index=False)\n",
    "\n",
    "# Remove filtered rows from original \"cars\" dataframe\n",
    "df_restaurants = df_restaurants[df_restaurants['state'].isin(state_list)]\n",
    "print(\"Rows: \",df_restaurants.shape[0])\n",
    "df_restaurants.head()"
   ]
  },
  {
   "cell_type": "markdown",
   "id": "7847929f",
   "metadata": {},
   "source": [
    "#### restaurants.city"
   ]
  },
  {
   "cell_type": "code",
   "execution_count": 18,
   "id": "9b4afa92",
   "metadata": {},
   "outputs": [
    {
     "name": "stdout",
     "output_type": "stream",
     "text": [
      "Cells without value:  173\n",
      "Rows:  36829\n"
     ]
    }
   ],
   "source": [
    "# extract city to separate column\n",
    "df_restaurants[\"city\"] = df_restaurants[\"full_address\"].str.split(\", \").str[-3]\n",
    "\n",
    "#print(\"Unique values: \",df_restaurants['city'].unique())\n",
    "print(\"Cells without value: \",df_restaurants['city'].isna().sum())\n",
    "print(\"Rows: \",df_restaurants['city'].shape[0])\n",
    "#print(df_restaurants[df_restaurants['city'].isnull()])"
   ]
  },
  {
   "cell_type": "code",
   "execution_count": 19,
   "id": "310bf827",
   "metadata": {},
   "outputs": [
    {
     "name": "stdout",
     "output_type": "stream",
     "text": [
      "Cells without value:  0\n"
     ]
    }
   ],
   "source": [
    "# show sample after cleaning\n",
    "#print(df_restaurants[['full_address', 'city','state','new_zip_code']].head(10))\n",
    "\n",
    "#print(\"Unique values: \",df_restaurants['full_address'].unique())\n",
    "print(\"Cells without value: \",df_restaurants['state'].isna().sum())\n",
    "#print(df_restaurants[df_restaurants['full_address'].isnull()])\n",
    "\n"
   ]
  },
  {
   "cell_type": "markdown",
   "id": "e400d772",
   "metadata": {},
   "source": [
    "#### restaurants.onlyname"
   ]
  },
  {
   "cell_type": "code",
   "execution_count": 20,
   "id": "ff84dbc4",
   "metadata": {},
   "outputs": [
    {
     "name": "stdout",
     "output_type": "stream",
     "text": [
      "Unique values:  ['PJ Fresh' 'J tiz SmoothieNCoffee Bar' 'Philly Fresh Cheesesteaks' ...\n",
      " 'EurAsia Ramen' 'Austins Habibi' 'Beijing Wok']\n",
      "Cells without value:  0\n",
      "Rows:  36829\n"
     ]
    }
   ],
   "source": [
    "print(\"Unique values: \",df_restaurants['onlyname'].unique())\n",
    "print(\"Cells without value: \",df_restaurants['onlyname'].isna().sum())\n",
    "print(\"Rows: \",df_restaurants['onlyname'].shape[0])"
   ]
  },
  {
   "cell_type": "markdown",
   "id": "52b7dd14",
   "metadata": {},
   "source": [
    "#### restaurants.city"
   ]
  },
  {
   "cell_type": "code",
   "execution_count": 21,
   "id": "a8f61b9b",
   "metadata": {},
   "outputs": [
    {
     "name": "stdout",
     "output_type": "stream",
     "text": [
      "Unique values:  ['Birmingham' 'Hoover' 'Gardendale' ... 'Suite A600 Austin' 'BUDA' 'Buda']\n",
      "Rows:  36829\n",
      "Cells without value:  173\n",
      "Rows:  36656\n"
     ]
    }
   ],
   "source": [
    "print(\"Unique values: \",df_restaurants['city'].unique())\n",
    "print(\"Rows: \",df_restaurants['city'].shape[0])\n",
    "print(\"Cells without value: \",df_restaurants['city'].isna().sum())\n",
    "df_restaurants.dropna(subset=['city'],inplace=True)\n",
    "print(\"Rows: \",df_restaurants['city'].shape[0])\n"
   ]
  },
  {
   "cell_type": "markdown",
   "id": "afff2b71",
   "metadata": {},
   "source": [
    "#### restaurants.state"
   ]
  },
  {
   "cell_type": "code",
   "execution_count": 22,
   "id": "20d883f1",
   "metadata": {},
   "outputs": [
    {
     "name": "stdout",
     "output_type": "stream",
     "text": [
      "Rows:  36656\n"
     ]
    }
   ],
   "source": [
    "print(\"Rows: \",df_restaurants['city'].shape[0])"
   ]
  },
  {
   "cell_type": "code",
   "execution_count": 23,
   "id": "ea1e7daa",
   "metadata": {},
   "outputs": [
    {
     "data": {
      "text/plain": [
       "<AxesSubplot: >"
      ]
     },
     "execution_count": 23,
     "metadata": {},
     "output_type": "execute_result"
    },
    {
     "data": {
      "image/png": "[encoded data removed]",
      "text/plain": [
       "<Figure size 2500x1000 with 2 Axes>"
      ]
     },
     "metadata": {},
     "output_type": "display_data"
    }
   ],
   "source": [
    "msno.matrix(df_restaurants)"
   ]
  },
  {
   "cell_type": "code",
   "execution_count": 24,
   "id": "5c78108e",
   "metadata": {},
   "outputs": [
    {
     "data": {
      "text/plain": [
       "<AxesSubplot: >"
      ]
     },
     "execution_count": 24,
     "metadata": {},
     "output_type": "execute_result"
    },
    {
     "data": {
      "image/png": "[encoded data removed]",
      "text/plain": [
       "<Figure size 2500x1000 with 2 Axes>"
      ]
     },
     "metadata": {},
     "output_type": "display_data"
    }
   ],
   "source": [
    "msno.matrix(df_restaurant_menus)"
   ]
  },
  {
   "cell_type": "code",
   "execution_count": 25,
   "id": "199d535e",
   "metadata": {},
   "outputs": [
    {
     "name": "stdout",
     "output_type": "stream",
     "text": [
      "Rows:  3375211\n",
      "Rows after removing missing restaurants:  2635651\n"
     ]
    },
    {
     "data": {
      "text/html": [
       "<div>\n",
       "<style scoped>\n",
       "    .dataframe tbody tr th:only-of-type {\n",
       "        vertical-align: middle;\n",
       "    }\n",
       "\n",
       "    .dataframe tbody tr th {\n",
       "        vertical-align: top;\n",
       "    }\n",
       "\n",
       "    .dataframe thead th {\n",
       "        text-align: right;\n",
       "    }\n",
       "</style>\n",
       "<table border=\"1\" class=\"dataframe\">\n",
       "  <thead>\n",
       "    <tr style=\"text-align: right;\">\n",
       "      <th></th>\n",
       "      <th>rm_restaurant_id</th>\n",
       "      <th>rm_category</th>\n",
       "      <th>rm_name</th>\n",
       "      <th>rm_price</th>\n",
       "      <th>r_id</th>\n",
       "      <th>r_name</th>\n",
       "      <th>r_score</th>\n",
       "      <th>r_ratings</th>\n",
       "      <th>r_category</th>\n",
       "      <th>r_price_range</th>\n",
       "      <th>r_lat</th>\n",
       "      <th>r_lng</th>\n",
       "      <th>r_onlyname</th>\n",
       "      <th>r_state</th>\n",
       "      <th>r_city</th>\n",
       "    </tr>\n",
       "  </thead>\n",
       "  <tbody>\n",
       "    <tr>\n",
       "      <th>0</th>\n",
       "      <td>1</td>\n",
       "      <td>Extra Large Pizza</td>\n",
       "      <td>Extra Large Meat Lovers</td>\n",
       "      <td>15.99 USD</td>\n",
       "      <td>1</td>\n",
       "      <td>PJ Fresh (224 Daniel Payne Drive)</td>\n",
       "      <td>NaN</td>\n",
       "      <td>NaN</td>\n",
       "      <td>burgers, american, sandwiches</td>\n",
       "      <td>$</td>\n",
       "      <td>33.562365</td>\n",
       "      <td>-86.830703</td>\n",
       "      <td>PJ Fresh</td>\n",
       "      <td>AL</td>\n",
       "      <td>Birmingham</td>\n",
       "    </tr>\n",
       "    <tr>\n",
       "      <th>1</th>\n",
       "      <td>1</td>\n",
       "      <td>Extra Large Pizza</td>\n",
       "      <td>Extra Large Supreme</td>\n",
       "      <td>15.99 USD</td>\n",
       "      <td>1</td>\n",
       "      <td>PJ Fresh (224 Daniel Payne Drive)</td>\n",
       "      <td>NaN</td>\n",
       "      <td>NaN</td>\n",
       "      <td>burgers, american, sandwiches</td>\n",
       "      <td>$</td>\n",
       "      <td>33.562365</td>\n",
       "      <td>-86.830703</td>\n",
       "      <td>PJ Fresh</td>\n",
       "      <td>AL</td>\n",
       "      <td>Birmingham</td>\n",
       "    </tr>\n",
       "    <tr>\n",
       "      <th>2</th>\n",
       "      <td>1</td>\n",
       "      <td>Extra Large Pizza</td>\n",
       "      <td>Extra Large Pepperoni</td>\n",
       "      <td>14.99 USD</td>\n",
       "      <td>1</td>\n",
       "      <td>PJ Fresh (224 Daniel Payne Drive)</td>\n",
       "      <td>NaN</td>\n",
       "      <td>NaN</td>\n",
       "      <td>burgers, american, sandwiches</td>\n",
       "      <td>$</td>\n",
       "      <td>33.562365</td>\n",
       "      <td>-86.830703</td>\n",
       "      <td>PJ Fresh</td>\n",
       "      <td>AL</td>\n",
       "      <td>Birmingham</td>\n",
       "    </tr>\n",
       "    <tr>\n",
       "      <th>3</th>\n",
       "      <td>1</td>\n",
       "      <td>Extra Large Pizza</td>\n",
       "      <td>Extra Large BBQ Chicken &amp;amp; Bacon</td>\n",
       "      <td>15.99 USD</td>\n",
       "      <td>1</td>\n",
       "      <td>PJ Fresh (224 Daniel Payne Drive)</td>\n",
       "      <td>NaN</td>\n",
       "      <td>NaN</td>\n",
       "      <td>burgers, american, sandwiches</td>\n",
       "      <td>$</td>\n",
       "      <td>33.562365</td>\n",
       "      <td>-86.830703</td>\n",
       "      <td>PJ Fresh</td>\n",
       "      <td>AL</td>\n",
       "      <td>Birmingham</td>\n",
       "    </tr>\n",
       "    <tr>\n",
       "      <th>4</th>\n",
       "      <td>1</td>\n",
       "      <td>Extra Large Pizza</td>\n",
       "      <td>Extra Large 5 Cheese</td>\n",
       "      <td>14.99 USD</td>\n",
       "      <td>1</td>\n",
       "      <td>PJ Fresh (224 Daniel Payne Drive)</td>\n",
       "      <td>NaN</td>\n",
       "      <td>NaN</td>\n",
       "      <td>burgers, american, sandwiches</td>\n",
       "      <td>$</td>\n",
       "      <td>33.562365</td>\n",
       "      <td>-86.830703</td>\n",
       "      <td>PJ Fresh</td>\n",
       "      <td>AL</td>\n",
       "      <td>Birmingham</td>\n",
       "    </tr>\n",
       "  </tbody>\n",
       "</table>\n",
       "</div>"
      ],
      "text/plain": [
       "   rm_restaurant_id        rm_category                              rm_name  \\\n",
       "0                 1  Extra Large Pizza              Extra Large Meat Lovers   \n",
       "1                 1  Extra Large Pizza                  Extra Large Supreme   \n",
       "2                 1  Extra Large Pizza                Extra Large Pepperoni   \n",
       "3                 1  Extra Large Pizza  Extra Large BBQ Chicken &amp; Bacon   \n",
       "4                 1  Extra Large Pizza                 Extra Large 5 Cheese   \n",
       "\n",
       "    rm_price  r_id                             r_name  r_score  r_ratings  \\\n",
       "0  15.99 USD     1  PJ Fresh (224 Daniel Payne Drive)      NaN        NaN   \n",
       "1  15.99 USD     1  PJ Fresh (224 Daniel Payne Drive)      NaN        NaN   \n",
       "2  14.99 USD     1  PJ Fresh (224 Daniel Payne Drive)      NaN        NaN   \n",
       "3  15.99 USD     1  PJ Fresh (224 Daniel Payne Drive)      NaN        NaN   \n",
       "4  14.99 USD     1  PJ Fresh (224 Daniel Payne Drive)      NaN        NaN   \n",
       "\n",
       "                      r_category r_price_range      r_lat      r_lng  \\\n",
       "0  burgers, american, sandwiches             $  33.562365 -86.830703   \n",
       "1  burgers, american, sandwiches             $  33.562365 -86.830703   \n",
       "2  burgers, american, sandwiches             $  33.562365 -86.830703   \n",
       "3  burgers, american, sandwiches             $  33.562365 -86.830703   \n",
       "4  burgers, american, sandwiches             $  33.562365 -86.830703   \n",
       "\n",
       "  r_onlyname r_state      r_city  \n",
       "0   PJ Fresh      AL  Birmingham  \n",
       "1   PJ Fresh      AL  Birmingham  \n",
       "2   PJ Fresh      AL  Birmingham  \n",
       "3   PJ Fresh      AL  Birmingham  \n",
       "4   PJ Fresh      AL  Birmingham  "
      ]
     },
     "execution_count": 25,
     "metadata": {},
     "output_type": "execute_result"
    }
   ],
   "source": [
    "# rename columns r_ for restaurants\n",
    "df_restaurants.columns = ['r_id', 'r_name', 'r_score', 'r_ratings','r_category','r_price_range','r_full_address','r_lat','r_lng','r_onlyname','r_state','r_city']    \n",
    "# rename columns rm_ for restaurant_menus\n",
    "df_restaurant_menus.columns = ['rm_restaurant_id', 'rm_category', 'rm_name', 'rm_price']    \n",
    "\n",
    "print(\"Rows: \",df_restaurant_menus.shape[0])\n",
    "\n",
    "# drop rows from df_restaurant_menus where restaurant_id doesn't exist in df_restaurants dataframe\n",
    "valid_restaurant_id = df_restaurants['r_id'].tolist()\n",
    "df_restaurant_menus = df_restaurant_menus[df_restaurant_menus['rm_restaurant_id'].isin(valid_restaurant_id)]\n",
    "\n",
    "print(\"Rows after removing missing restaurants: \",df_restaurant_menus.shape[0])\n",
    "\n",
    "if 'r_zip_code' in df_restaurants.columns:\n",
    "    df_restaurants.drop('r_zip_code',axis=1,inplace=True)\n",
    "\n",
    "if 'r_full_address' in df_restaurants.columns:\n",
    "    df_restaurants.drop('r_full_address',axis=1,inplace=True)\n",
    "\n",
    "#if 'r_lat' in df_restaurants.columns:\n",
    "#    df_restaurants.drop('r_lat',axis=1,inplace=True)\n",
    "\n",
    "#if 'r_lng' in df_restaurants.columns:\n",
    "#    df_restaurants.drop('r_lng',axis=1,inplace=True)\n",
    "\n",
    "    \n",
    "df_restaurants_and_menus = pd.merge(df_restaurant_menus,df_restaurants,left_on='rm_restaurant_id',right_on='r_id')\n",
    "df_restaurants_and_menus.head()\n",
    "\n"
   ]
  },
  {
   "cell_type": "code",
   "execution_count": 26,
   "id": "ecf59e2b",
   "metadata": {},
   "outputs": [
    {
     "name": "stdout",
     "output_type": "stream",
     "text": [
      "   rm_restaurant_id        rm_category                              rm_name  \\\n",
      "0                 1  Extra Large Pizza              Extra Large Meat Lovers   \n",
      "1                 1  Extra Large Pizza                  Extra Large Supreme   \n",
      "2                 1  Extra Large Pizza                Extra Large Pepperoni   \n",
      "3                 1  Extra Large Pizza  Extra Large BBQ Chicken &amp; Bacon   \n",
      "4                 1  Extra Large Pizza                 Extra Large 5 Cheese   \n",
      "\n",
      "   rm_price  \n",
      "0     15.99  \n",
      "1     15.99  \n",
      "2     14.99  \n",
      "3     15.99  \n",
      "4     14.99  \n",
      "Restaurants orignal:  40227\n",
      "Restaurants final:  36656\n",
      "Restaurants difference:  3571\n",
      "% 9.74\n",
      "Restaurant menus orignal:  3375211\n",
      "Restaurant menus final:  2635651\n",
      "Restaurant menus difference:  739560\n",
      "% 28.06\n",
      "Rows in merged df_restaurants_and_menus:  2635651\n"
     ]
    }
   ],
   "source": [
    "# remove \" USD\" from the \"rm_price\" column and convert to float\n",
    "df_restaurant_menus['rm_price'] = df_restaurant_menus['rm_price'].str.replace(' USD', '').astype(float)\n",
    "print(df_restaurant_menus.head())\n",
    "\n",
    "final_df_restaurants_rows = df_restaurants.shape[0]\n",
    "final_df_restaurant_menus_rows = df_restaurant_menus.shape[0]\n",
    "\n",
    "print(\"Restaurants orignal: \",original_df_restaurants_rows)\n",
    "print(\"Restaurants final: \",final_df_restaurants_rows)\n",
    "print(\"Restaurants difference: \",original_df_restaurants_rows-final_df_restaurants_rows)\n",
    "print(\"%\",round((original_df_restaurants_rows/final_df_restaurants_rows-1)*100,2))\n",
    "\n",
    "print(\"Restaurant menus orignal: \",original_df_restaurant_menus_rows)\n",
    "print(\"Restaurant menus final: \",final_df_restaurant_menus_rows)\n",
    "print(\"Restaurant menus difference: \",original_df_restaurant_menus_rows-final_df_restaurant_menus_rows)\n",
    "print(\"%\",round((original_df_restaurant_menus_rows/final_df_restaurant_menus_rows-1)*100,2))\n",
    "\n",
    "\n",
    "\n",
    "print(\"Rows in merged df_restaurants_and_menus: \",df_restaurants_and_menus.shape[0])"
   ]
  },
  {
   "cell_type": "code",
   "execution_count": 27,
   "id": "07dded93",
   "metadata": {},
   "outputs": [],
   "source": [
    "df_restaurants_and_menus.to_csv('output_ANALYZE_df_restaurants_and_menus.csv', index=False)"
   ]
  }
 ],
 "metadata": {
  "kernelspec": {
   "display_name": "ENVPythonProject",
   "language": "python",
   "name": "envpythonproject"
  },
  "language_info": {
   "codemirror_mode": {
    "name": "ipython",
    "version": 3
   },
   "file_extension": ".py",
   "mimetype": "text/x-python",
   "name": "python",
   "nbconvert_exporter": "python",
   "pygments_lexer": "ipython3",
   "version": "3.10.9"
  }
 },
 "nbformat": 4,
 "nbformat_minor": 5
}
