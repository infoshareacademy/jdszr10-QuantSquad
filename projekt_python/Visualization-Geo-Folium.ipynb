{
 "cells": [
  {
   "cell_type": "code",
   "execution_count": 1,
   "id": "56c26c4f",
   "metadata": {},
   "outputs": [],
   "source": [
    "import pandas as pd\n",
    "import folium\n",
    "from folium.plugins import HeatMap\n",
    "\n",
    "# before Geo filter\n",
    "#data = pd.read_csv(r\"/kaggle/input/uber-eats-usa-restaurants-menus/restaurants.csv\")\n",
    "# after Geo filter\n",
    "\n",
    "data = pd.read_csv(\"GEO_restaurant_chosen.csv\")"
   ]
  },
  {
   "cell_type": "code",
   "execution_count": 2,
   "id": "73de4dd6",
   "metadata": {},
   "outputs": [],
   "source": [
    "us_center_coordinates = [37.0902, -95.7129]\n",
    "map = folium.Map(location=us_center_coordinates, zoom_start=4)\n"
   ]
  },
  {
   "cell_type": "code",
   "execution_count": 3,
   "id": "290bb0cc",
   "metadata": {},
   "outputs": [],
   "source": [
    "#coordinates = data[['lat', 'lng']].values.tolist()\n",
    "coordinates = data[['r_lat', 'r_lng']].values.tolist()\n"
   ]
  },
  {
   "cell_type": "code",
   "execution_count": 4,
   "id": "f39347de",
   "metadata": {},
   "outputs": [
    {
     "data": {
      "text/plain": [
       "<folium.plugins.heat_map.HeatMap at 0x1e74502ddb0>"
      ]
     },
     "execution_count": 4,
     "metadata": {},
     "output_type": "execute_result"
    }
   ],
   "source": [
    "HeatMap(coordinates).add_to(map)\n"
   ]
  },
  {
   "cell_type": "code",
   "execution_count": 5,
   "id": "253cba95",
   "metadata": {},
   "outputs": [],
   "source": [
    "continental_us_bounds = [\n",
    "    [24.396308, -124.848974],  # Southwest corner (latitude, longitude)\n",
    "    [49.384358, -66.885444]    # Northeast corner (latitude, longitude)\n",
    "]\n",
    "map.fit_bounds(continental_us_bounds)\n"
   ]
  },
  {
   "cell_type": "code",
   "execution_count": 6,
   "id": "392b2d5c",
   "metadata": {},
   "outputs": [],
   "source": [
    "map.save(\"heatmap.html\")\n"
   ]
  }
 ],
 "metadata": {
  "kernelspec": {
   "display_name": "ENVPythonProject",
   "language": "python",
   "name": "envpythonproject"
  },
  "language_info": {
   "codemirror_mode": {
    "name": "ipython",
    "version": 3
   },
   "file_extension": ".py",
   "mimetype": "text/x-python",
   "name": "python",
   "nbconvert_exporter": "python",
   "pygments_lexer": "ipython3",
   "version": "3.10.9"
  }
 },
 "nbformat": 4,
 "nbformat_minor": 5
}
