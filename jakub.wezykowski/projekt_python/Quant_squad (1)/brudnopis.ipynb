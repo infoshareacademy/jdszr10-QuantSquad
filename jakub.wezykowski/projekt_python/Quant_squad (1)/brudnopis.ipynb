{
 "cells": [
  {
   "cell_type": "code",
   "execution_count": 1,
   "metadata": {},
   "outputs": [],
   "source": [
    "# Libraries used for analysis \n",
    "\n",
    "import pandas as pd\n",
    "\n"
   ]
  },
  {
   "cell_type": "code",
   "execution_count": 2,
   "metadata": {},
   "outputs": [],
   "source": [
    "# Files upload \n",
    "\n",
    "rest = pd.read_csv(\"FOOD_CATEGORY_restaurants_output.csv\")\n",
    "menus = pd.read_csv(\"FOOD_CATEGORY_restaurant_menus_output.csv\")"
   ]
  },
  {
   "cell_type": "code",
   "execution_count": 4,
   "metadata": {},
   "outputs": [
    {
     "name": "stdout",
     "output_type": "stream",
     "text": [
      "   Unnamed: 0.2  Unnamed: 0.1  Unnamed: 0  rm_restaurant_id  \\\n",
      "0            21            21          21                28   \n",
      "1            28            28          28                43   \n",
      "2            46            46          46                68   \n",
      "3            80            80          80               106   \n",
      "4            81            81          81               108   \n",
      "\n",
      "                        r_onlyname      r_city r_state  r_score  r_ratings  \\\n",
      "0  Sunny  Fines Breakfast Burritos  birmingham      al      NaN        NaN   \n",
      "1                        Taco Bell  birmingham      al      4.1       91.0   \n",
      "2     Los Arcos Mexican Restaurant  birmingham      al      4.3      100.0   \n",
      "3            Taqueria La Herradura  birmingham      al      NaN        NaN   \n",
      "4               Cabo Coastal Grill  birmingham      al      NaN        NaN   \n",
      "\n",
      "                                r_category r_price_range      r_lat  \\\n",
      "0  mexican, breakfast and brunch, burritos             $  33.509800   \n",
      "1             burritos, fast food, mexican             $  33.497924   \n",
      "2                   mexican, salads, tacos             $  33.528120   \n",
      "3      mexican, breakfast and brunch, soup             $  33.534600   \n",
      "4     mexican, latin american, new mexican            $$  33.438430   \n",
      "\n",
      "       r_lng   min    max       mean  median  count     state_city  menu_items  \n",
      "0 -86.854640  3.00  16.78   8.620000   4.780      1  AL/BIRMINGHAM          22  \n",
      "1 -86.875792  3.47  29.99   9.374861   6.295      1  AL/BIRMINGHAM          72  \n",
      "2 -86.728660  3.29  17.88   9.419379   9.890      1  AL/BIRMINGHAM         145  \n",
      "3 -86.842860  3.00  15.00   8.166667   8.000      1  AL/BIRMINGHAM          30  \n",
      "4 -86.866110  5.00  22.99  11.948750  12.490      1  AL/BIRMINGHAM          72  \n"
     ]
    }
   ],
   "source": [
    "# Preview the restaurants data\n",
    "\n",
    "print(rest.head())"
   ]
  },
  {
   "cell_type": "code",
   "execution_count": 5,
   "metadata": {},
   "outputs": [
    {
     "name": "stdout",
     "output_type": "stream",
     "text": [
      "   Unnamed: 0  restaurant_id            category                    name  \\\n",
      "0        1319             28      Picked for you              Home Fries   \n",
      "1        1320             28      Picked for you             Hash Browns   \n",
      "2        1321             28      Picked for you            Orange Juice   \n",
      "3        1322             28      Picked for you              Tater Tots   \n",
      "4        1323             28  Breakfast Burritos  Build Your Own Burrito   \n",
      "\n",
      "                                         description      price  \n",
      "0                                                NaN   4.78 USD  \n",
      "1                                                NaN   4.78 USD  \n",
      "2                                                NaN   4.32 USD  \n",
      "3                                                NaN   4.78 USD  \n",
      "4  Two scrambled eggs with your choice of meat an...  11.98 USD  \n"
     ]
    }
   ],
   "source": [
    "# Preview the menus data\n",
    "\n",
    "print(menus.head())"
   ]
  },
  {
   "cell_type": "code",
   "execution_count": 1,
   "metadata": {},
   "outputs": [
    {
     "data": {
      "application/vnd.plotly.v1+json": {
       "config": {
        "plotlyServerURL": "https://plot.ly"
       },
       "data": [
        {
         "customdata": [
          [
           0.2
          ],
          [
           0.2
          ],
          [
           0.2
          ],
          [
           0.2
          ],
          [
           0.2
          ],
          [
           0.4
          ],
          [
           0.3
          ],
          [
           0.2
          ],
          [
           0.2
          ],
          [
           0.1
          ],
          [
           0.2
          ],
          [
           0.2
          ],
          [
           0.1
          ],
          [
           0.1
          ],
          [
           0.2
          ],
          [
           0.4
          ],
          [
           0.4
          ],
          [
           0.3
          ],
          [
           0.3
          ],
          [
           0.3
          ],
          [
           0.2
          ],
          [
           0.4
          ],
          [
           0.2
          ],
          [
           0.5
          ],
          [
           0.2
          ],
          [
           0.2
          ],
          [
           0.4
          ],
          [
           0.2
          ],
          [
           0.2
          ],
          [
           0.2
          ],
          [
           0.2
          ],
          [
           0.4
          ],
          [
           0.1
          ],
          [
           0.2
          ],
          [
           0.1
          ],
          [
           0.2
          ],
          [
           0.2
          ],
          [
           0.1
          ],
          [
           0.2
          ],
          [
           0.2
          ],
          [
           0.3
          ],
          [
           0.3
          ],
          [
           0.2
          ],
          [
           0.6
          ],
          [
           0.4
          ],
          [
           0.3
          ],
          [
           0.2
          ],
          [
           0.2
          ],
          [
           0.2
          ],
          [
           0.2
          ]
         ],
         "hovertemplate": "species=setosa<br>sepal_width=%{x}<br>sepal_length=%{y}<br>petal_length=%{marker.size}<br>petal_width=%{customdata[0]}<extra></extra>",
         "legendgroup": "setosa",
         "marker": {
          "color": "#636efa",
          "size": [
           1.4,
           1.4,
           1.3,
           1.5,
           1.4,
           1.7,
           1.4,
           1.5,
           1.4,
           1.5,
           1.5,
           1.6,
           1.4,
           1.1,
           1.2,
           1.5,
           1.3,
           1.4,
           1.7,
           1.5,
           1.7,
           1.5,
           1,
           1.7,
           1.9,
           1.6,
           1.6,
           1.5,
           1.4,
           1.6,
           1.6,
           1.5,
           1.5,
           1.4,
           1.5,
           1.2,
           1.3,
           1.5,
           1.3,
           1.5,
           1.3,
           1.3,
           1.3,
           1.6,
           1.9,
           1.4,
           1.6,
           1.4,
           1.5,
           1.4
          ],
          "sizemode": "area",
          "sizeref": 0.01725,
          "symbol": "circle"
         },
         "mode": "markers",
         "name": "setosa",
         "orientation": "v",
         "showlegend": true,
         "type": "scatter",
         "x": [
          3.5,
          3,
          3.2,
          3.1,
          3.6,
          3.9,
          3.4,
          3.4,
          2.9,
          3.1,
          3.7,
          3.4,
          3,
          3,
          4,
          4.4,
          3.9,
          3.5,
          3.8,
          3.8,
          3.4,
          3.7,
          3.6,
          3.3,
          3.4,
          3,
          3.4,
          3.5,
          3.4,
          3.2,
          3.1,
          3.4,
          4.1,
          4.2,
          3.1,
          3.2,
          3.5,
          3.1,
          3,
          3.4,
          3.5,
          2.3,
          3.2,
          3.5,
          3.8,
          3,
          3.8,
          3.2,
          3.7,
          3.3
         ],
         "xaxis": "x",
         "y": [
          5.1,
          4.9,
          4.7,
          4.6,
          5,
          5.4,
          4.6,
          5,
          4.4,
          4.9,
          5.4,
          4.8,
          4.8,
          4.3,
          5.8,
          5.7,
          5.4,
          5.1,
          5.7,
          5.1,
          5.4,
          5.1,
          4.6,
          5.1,
          4.8,
          5,
          5,
          5.2,
          5.2,
          4.7,
          4.8,
          5.4,
          5.2,
          5.5,
          4.9,
          5,
          5.5,
          4.9,
          4.4,
          5.1,
          5,
          4.5,
          4.4,
          5,
          5.1,
          4.8,
          5.1,
          4.6,
          5.3,
          5
         ],
         "yaxis": "y"
        },
        {
         "customdata": [
          [
           1.4
          ],
          [
           1.5
          ],
          [
           1.5
          ],
          [
           1.3
          ],
          [
           1.5
          ],
          [
           1.3
          ],
          [
           1.6
          ],
          [
           1
          ],
          [
           1.3
          ],
          [
           1.4
          ],
          [
           1
          ],
          [
           1.5
          ],
          [
           1
          ],
          [
           1.4
          ],
          [
           1.3
          ],
          [
           1.4
          ],
          [
           1.5
          ],
          [
           1
          ],
          [
           1.5
          ],
          [
           1.1
          ],
          [
           1.8
          ],
          [
           1.3
          ],
          [
           1.5
          ],
          [
           1.2
          ],
          [
           1.3
          ],
          [
           1.4
          ],
          [
           1.4
          ],
          [
           1.7
          ],
          [
           1.5
          ],
          [
           1
          ],
          [
           1.1
          ],
          [
           1
          ],
          [
           1.2
          ],
          [
           1.6
          ],
          [
           1.5
          ],
          [
           1.6
          ],
          [
           1.5
          ],
          [
           1.3
          ],
          [
           1.3
          ],
          [
           1.3
          ],
          [
           1.2
          ],
          [
           1.4
          ],
          [
           1.2
          ],
          [
           1
          ],
          [
           1.3
          ],
          [
           1.2
          ],
          [
           1.3
          ],
          [
           1.3
          ],
          [
           1.1
          ],
          [
           1.3
          ]
         ],
         "hovertemplate": "species=versicolor<br>sepal_width=%{x}<br>sepal_length=%{y}<br>petal_length=%{marker.size}<br>petal_width=%{customdata[0]}<extra></extra>",
         "legendgroup": "versicolor",
         "marker": {
          "color": "#EF553B",
          "size": [
           4.7,
           4.5,
           4.9,
           4,
           4.6,
           4.5,
           4.7,
           3.3,
           4.6,
           3.9,
           3.5,
           4.2,
           4,
           4.7,
           3.6,
           4.4,
           4.5,
           4.1,
           4.5,
           3.9,
           4.8,
           4,
           4.9,
           4.7,
           4.3,
           4.4,
           4.8,
           5,
           4.5,
           3.5,
           3.8,
           3.7,
           3.9,
           5.1,
           4.5,
           4.5,
           4.7,
           4.4,
           4.1,
           4,
           4.4,
           4.6,
           4,
           3.3,
           4.2,
           4.2,
           4.2,
           4.3,
           3,
           4.1
          ],
          "sizemode": "area",
          "sizeref": 0.01725,
          "symbol": "circle"
         },
         "mode": "markers",
         "name": "versicolor",
         "orientation": "v",
         "showlegend": true,
         "type": "scatter",
         "x": [
          3.2,
          3.2,
          3.1,
          2.3,
          2.8,
          2.8,
          3.3,
          2.4,
          2.9,
          2.7,
          2,
          3,
          2.2,
          2.9,
          2.9,
          3.1,
          3,
          2.7,
          2.2,
          2.5,
          3.2,
          2.8,
          2.5,
          2.8,
          2.9,
          3,
          2.8,
          3,
          2.9,
          2.6,
          2.4,
          2.4,
          2.7,
          2.7,
          3,
          3.4,
          3.1,
          2.3,
          3,
          2.5,
          2.6,
          3,
          2.6,
          2.3,
          2.7,
          3,
          2.9,
          2.9,
          2.5,
          2.8
         ],
         "xaxis": "x",
         "y": [
          7,
          6.4,
          6.9,
          5.5,
          6.5,
          5.7,
          6.3,
          4.9,
          6.6,
          5.2,
          5,
          5.9,
          6,
          6.1,
          5.6,
          6.7,
          5.6,
          5.8,
          6.2,
          5.6,
          5.9,
          6.1,
          6.3,
          6.1,
          6.4,
          6.6,
          6.8,
          6.7,
          6,
          5.7,
          5.5,
          5.5,
          5.8,
          6,
          5.4,
          6,
          6.7,
          6.3,
          5.6,
          5.5,
          5.5,
          6.1,
          5.8,
          5,
          5.6,
          5.7,
          5.7,
          6.2,
          5.1,
          5.7
         ],
         "yaxis": "y"
        },
        {
         "customdata": [
          [
           2.5
          ],
          [
           1.9
          ],
          [
           2.1
          ],
          [
           1.8
          ],
          [
           2.2
          ],
          [
           2.1
          ],
          [
           1.7
          ],
          [
           1.8
          ],
          [
           1.8
          ],
          [
           2.5
          ],
          [
           2
          ],
          [
           1.9
          ],
          [
           2.1
          ],
          [
           2
          ],
          [
           2.4
          ],
          [
           2.3
          ],
          [
           1.8
          ],
          [
           2.2
          ],
          [
           2.3
          ],
          [
           1.5
          ],
          [
           2.3
          ],
          [
           2
          ],
          [
           2
          ],
          [
           1.8
          ],
          [
           2.1
          ],
          [
           1.8
          ],
          [
           1.8
          ],
          [
           1.8
          ],
          [
           2.1
          ],
          [
           1.6
          ],
          [
           1.9
          ],
          [
           2
          ],
          [
           2.2
          ],
          [
           1.5
          ],
          [
           1.4
          ],
          [
           2.3
          ],
          [
           2.4
          ],
          [
           1.8
          ],
          [
           1.8
          ],
          [
           2.1
          ],
          [
           2.4
          ],
          [
           2.3
          ],
          [
           1.9
          ],
          [
           2.3
          ],
          [
           2.5
          ],
          [
           2.3
          ],
          [
           1.9
          ],
          [
           2
          ],
          [
           2.3
          ],
          [
           1.8
          ]
         ],
         "hovertemplate": "species=virginica<br>sepal_width=%{x}<br>sepal_length=%{y}<br>petal_length=%{marker.size}<br>petal_width=%{customdata[0]}<extra></extra>",
         "legendgroup": "virginica",
         "marker": {
          "color": "#00cc96",
          "size": [
           6,
           5.1,
           5.9,
           5.6,
           5.8,
           6.6,
           4.5,
           6.3,
           5.8,
           6.1,
           5.1,
           5.3,
           5.5,
           5,
           5.1,
           5.3,
           5.5,
           6.7,
           6.9,
           5,
           5.7,
           4.9,
           6.7,
           4.9,
           5.7,
           6,
           4.8,
           4.9,
           5.6,
           5.8,
           6.1,
           6.4,
           5.6,
           5.1,
           5.6,
           6.1,
           5.6,
           5.5,
           4.8,
           5.4,
           5.6,
           5.1,
           5.1,
           5.9,
           5.7,
           5.2,
           5,
           5.2,
           5.4,
           5.1
          ],
          "sizemode": "area",
          "sizeref": 0.01725,
          "symbol": "circle"
         },
         "mode": "markers",
         "name": "virginica",
         "orientation": "v",
         "showlegend": true,
         "type": "scatter",
         "x": [
          3.3,
          2.7,
          3,
          2.9,
          3,
          3,
          2.5,
          2.9,
          2.5,
          3.6,
          3.2,
          2.7,
          3,
          2.5,
          2.8,
          3.2,
          3,
          3.8,
          2.6,
          2.2,
          3.2,
          2.8,
          2.8,
          2.7,
          3.3,
          3.2,
          2.8,
          3,
          2.8,
          3,
          2.8,
          3.8,
          2.8,
          2.8,
          2.6,
          3,
          3.4,
          3.1,
          3,
          3.1,
          3.1,
          3.1,
          2.7,
          3.2,
          3.3,
          3,
          2.5,
          3,
          3.4,
          3
         ],
         "xaxis": "x",
         "y": [
          6.3,
          5.8,
          7.1,
          6.3,
          6.5,
          7.6,
          4.9,
          7.3,
          6.7,
          7.2,
          6.5,
          6.4,
          6.8,
          5.7,
          5.8,
          6.4,
          6.5,
          7.7,
          7.7,
          6,
          6.9,
          5.6,
          7.7,
          6.3,
          6.7,
          7.2,
          6.2,
          6.1,
          6.4,
          7.2,
          7.4,
          7.9,
          6.4,
          6.3,
          6.1,
          7.7,
          6.3,
          6.4,
          6,
          6.9,
          6.7,
          6.9,
          5.8,
          6.8,
          6.7,
          6.7,
          6.3,
          6.5,
          6.2,
          5.9
         ],
         "yaxis": "y"
        }
       ],
       "layout": {
        "legend": {
         "itemsizing": "constant",
         "title": {
          "text": "species"
         },
         "tracegroupgap": 0
        },
        "margin": {
         "t": 60
        },
        "template": {
         "data": {
          "bar": [
           {
            "error_x": {
             "color": "#2a3f5f"
            },
            "error_y": {
             "color": "#2a3f5f"
            },
            "marker": {
             "line": {
              "color": "#E5ECF6",
              "width": 0.5
             },
             "pattern": {
              "fillmode": "overlay",
              "size": 10,
              "solidity": 0.2
             }
            },
            "type": "bar"
           }
          ],
          "barpolar": [
           {
            "marker": {
             "line": {
              "color": "#E5ECF6",
              "width": 0.5
             },
             "pattern": {
              "fillmode": "overlay",
              "size": 10,
              "solidity": 0.2
             }
            },
            "type": "barpolar"
           }
          ],
          "carpet": [
           {
            "aaxis": {
             "endlinecolor": "#2a3f5f",
             "gridcolor": "white",
             "linecolor": "white",
             "minorgridcolor": "white",
             "startlinecolor": "#2a3f5f"
            },
            "baxis": {
             "endlinecolor": "#2a3f5f",
             "gridcolor": "white",
             "linecolor": "white",
             "minorgridcolor": "white",
             "startlinecolor": "#2a3f5f"
            },
            "type": "carpet"
           }
          ],
          "choropleth": [
           {
            "colorbar": {
             "outlinewidth": 0,
             "ticks": ""
            },
            "type": "choropleth"
           }
          ],
          "contour": [
           {
            "colorbar": {
             "outlinewidth": 0,
             "ticks": ""
            },
            "colorscale": [
             [
              0,
              "#0d0887"
             ],
             [
              0.1111111111111111,
              "#46039f"
             ],
             [
              0.2222222222222222,
              "#7201a8"
             ],
             [
              0.3333333333333333,
              "#9c179e"
             ],
             [
              0.4444444444444444,
              "#bd3786"
             ],
             [
              0.5555555555555556,
              "#d8576b"
             ],
             [
              0.6666666666666666,
              "#ed7953"
             ],
             [
              0.7777777777777778,
              "#fb9f3a"
             ],
             [
              0.8888888888888888,
              "#fdca26"
             ],
             [
              1,
              "#f0f921"
             ]
            ],
            "type": "contour"
           }
          ],
          "contourcarpet": [
           {
            "colorbar": {
             "outlinewidth": 0,
             "ticks": ""
            },
            "type": "contourcarpet"
           }
          ],
          "heatmap": [
           {
            "colorbar": {
             "outlinewidth": 0,
             "ticks": ""
            },
            "colorscale": [
             [
              0,
              "#0d0887"
             ],
             [
              0.1111111111111111,
              "#46039f"
             ],
             [
              0.2222222222222222,
              "#7201a8"
             ],
             [
              0.3333333333333333,
              "#9c179e"
             ],
             [
              0.4444444444444444,
              "#bd3786"
             ],
             [
              0.5555555555555556,
              "#d8576b"
             ],
             [
              0.6666666666666666,
              "#ed7953"
             ],
             [
              0.7777777777777778,
              "#fb9f3a"
             ],
             [
              0.8888888888888888,
              "#fdca26"
             ],
             [
              1,
              "#f0f921"
             ]
            ],
            "type": "heatmap"
           }
          ],
          "heatmapgl": [
           {
            "colorbar": {
             "outlinewidth": 0,
             "ticks": ""
            },
            "colorscale": [
             [
              0,
              "#0d0887"
             ],
             [
              0.1111111111111111,
              "#46039f"
             ],
             [
              0.2222222222222222,
              "#7201a8"
             ],
             [
              0.3333333333333333,
              "#9c179e"
             ],
             [
              0.4444444444444444,
              "#bd3786"
             ],
             [
              0.5555555555555556,
              "#d8576b"
             ],
             [
              0.6666666666666666,
              "#ed7953"
             ],
             [
              0.7777777777777778,
              "#fb9f3a"
             ],
             [
              0.8888888888888888,
              "#fdca26"
             ],
             [
              1,
              "#f0f921"
             ]
            ],
            "type": "heatmapgl"
           }
          ],
          "histogram": [
           {
            "marker": {
             "pattern": {
              "fillmode": "overlay",
              "size": 10,
              "solidity": 0.2
             }
            },
            "type": "histogram"
           }
          ],
          "histogram2d": [
           {
            "colorbar": {
             "outlinewidth": 0,
             "ticks": ""
            },
            "colorscale": [
             [
              0,
              "#0d0887"
             ],
             [
              0.1111111111111111,
              "#46039f"
             ],
             [
              0.2222222222222222,
              "#7201a8"
             ],
             [
              0.3333333333333333,
              "#9c179e"
             ],
             [
              0.4444444444444444,
              "#bd3786"
             ],
             [
              0.5555555555555556,
              "#d8576b"
             ],
             [
              0.6666666666666666,
              "#ed7953"
             ],
             [
              0.7777777777777778,
              "#fb9f3a"
             ],
             [
              0.8888888888888888,
              "#fdca26"
             ],
             [
              1,
              "#f0f921"
             ]
            ],
            "type": "histogram2d"
           }
          ],
          "histogram2dcontour": [
           {
            "colorbar": {
             "outlinewidth": 0,
             "ticks": ""
            },
            "colorscale": [
             [
              0,
              "#0d0887"
             ],
             [
              0.1111111111111111,
              "#46039f"
             ],
             [
              0.2222222222222222,
              "#7201a8"
             ],
             [
              0.3333333333333333,
              "#9c179e"
             ],
             [
              0.4444444444444444,
              "#bd3786"
             ],
             [
              0.5555555555555556,
              "#d8576b"
             ],
             [
              0.6666666666666666,
              "#ed7953"
             ],
             [
              0.7777777777777778,
              "#fb9f3a"
             ],
             [
              0.8888888888888888,
              "#fdca26"
             ],
             [
              1,
              "#f0f921"
             ]
            ],
            "type": "histogram2dcontour"
           }
          ],
          "mesh3d": [
           {
            "colorbar": {
             "outlinewidth": 0,
             "ticks": ""
            },
            "type": "mesh3d"
           }
          ],
          "parcoords": [
           {
            "line": {
             "colorbar": {
              "outlinewidth": 0,
              "ticks": ""
             }
            },
            "type": "parcoords"
           }
          ],
          "pie": [
           {
            "automargin": true,
            "type": "pie"
           }
          ],
          "scatter": [
           {
            "fillpattern": {
             "fillmode": "overlay",
             "size": 10,
             "solidity": 0.2
            },
            "type": "scatter"
           }
          ],
          "scatter3d": [
           {
            "line": {
             "colorbar": {
              "outlinewidth": 0,
              "ticks": ""
             }
            },
            "marker": {
             "colorbar": {
              "outlinewidth": 0,
              "ticks": ""
             }
            },
            "type": "scatter3d"
           }
          ],
          "scattercarpet": [
           {
            "marker": {
             "colorbar": {
              "outlinewidth": 0,
              "ticks": ""
             }
            },
            "type": "scattercarpet"
           }
          ],
          "scattergeo": [
           {
            "marker": {
             "colorbar": {
              "outlinewidth": 0,
              "ticks": ""
             }
            },
            "type": "scattergeo"
           }
          ],
          "scattergl": [
           {
            "marker": {
             "colorbar": {
              "outlinewidth": 0,
              "ticks": ""
             }
            },
            "type": "scattergl"
           }
          ],
          "scattermapbox": [
           {
            "marker": {
             "colorbar": {
              "outlinewidth": 0,
              "ticks": ""
             }
            },
            "type": "scattermapbox"
           }
          ],
          "scatterpolar": [
           {
            "marker": {
             "colorbar": {
              "outlinewidth": 0,
              "ticks": ""
             }
            },
            "type": "scatterpolar"
           }
          ],
          "scatterpolargl": [
           {
            "marker": {
             "colorbar": {
              "outlinewidth": 0,
              "ticks": ""
             }
            },
            "type": "scatterpolargl"
           }
          ],
          "scatterternary": [
           {
            "marker": {
             "colorbar": {
              "outlinewidth": 0,
              "ticks": ""
             }
            },
            "type": "scatterternary"
           }
          ],
          "surface": [
           {
            "colorbar": {
             "outlinewidth": 0,
             "ticks": ""
            },
            "colorscale": [
             [
              0,
              "#0d0887"
             ],
             [
              0.1111111111111111,
              "#46039f"
             ],
             [
              0.2222222222222222,
              "#7201a8"
             ],
             [
              0.3333333333333333,
              "#9c179e"
             ],
             [
              0.4444444444444444,
              "#bd3786"
             ],
             [
              0.5555555555555556,
              "#d8576b"
             ],
             [
              0.6666666666666666,
              "#ed7953"
             ],
             [
              0.7777777777777778,
              "#fb9f3a"
             ],
             [
              0.8888888888888888,
              "#fdca26"
             ],
             [
              1,
              "#f0f921"
             ]
            ],
            "type": "surface"
           }
          ],
          "table": [
           {
            "cells": {
             "fill": {
              "color": "#EBF0F8"
             },
             "line": {
              "color": "white"
             }
            },
            "header": {
             "fill": {
              "color": "#C8D4E3"
             },
             "line": {
              "color": "white"
             }
            },
            "type": "table"
           }
          ]
         },
         "layout": {
          "annotationdefaults": {
           "arrowcolor": "#2a3f5f",
           "arrowhead": 0,
           "arrowwidth": 1
          },
          "autotypenumbers": "strict",
          "coloraxis": {
           "colorbar": {
            "outlinewidth": 0,
            "ticks": ""
           }
          },
          "colorscale": {
           "diverging": [
            [
             0,
             "#8e0152"
            ],
            [
             0.1,
             "#c51b7d"
            ],
            [
             0.2,
             "#de77ae"
            ],
            [
             0.3,
             "#f1b6da"
            ],
            [
             0.4,
             "#fde0ef"
            ],
            [
             0.5,
             "#f7f7f7"
            ],
            [
             0.6,
             "#e6f5d0"
            ],
            [
             0.7,
             "#b8e186"
            ],
            [
             0.8,
             "#7fbc41"
            ],
            [
             0.9,
             "#4d9221"
            ],
            [
             1,
             "#276419"
            ]
           ],
           "sequential": [
            [
             0,
             "#0d0887"
            ],
            [
             0.1111111111111111,
             "#46039f"
            ],
            [
             0.2222222222222222,
             "#7201a8"
            ],
            [
             0.3333333333333333,
             "#9c179e"
            ],
            [
             0.4444444444444444,
             "#bd3786"
            ],
            [
             0.5555555555555556,
             "#d8576b"
            ],
            [
             0.6666666666666666,
             "#ed7953"
            ],
            [
             0.7777777777777778,
             "#fb9f3a"
            ],
            [
             0.8888888888888888,
             "#fdca26"
            ],
            [
             1,
             "#f0f921"
            ]
           ],
           "sequentialminus": [
            [
             0,
             "#0d0887"
            ],
            [
             0.1111111111111111,
             "#46039f"
            ],
            [
             0.2222222222222222,
             "#7201a8"
            ],
            [
             0.3333333333333333,
             "#9c179e"
            ],
            [
             0.4444444444444444,
             "#bd3786"
            ],
            [
             0.5555555555555556,
             "#d8576b"
            ],
            [
             0.6666666666666666,
             "#ed7953"
            ],
            [
             0.7777777777777778,
             "#fb9f3a"
            ],
            [
             0.8888888888888888,
             "#fdca26"
            ],
            [
             1,
             "#f0f921"
            ]
           ]
          },
          "colorway": [
           "#636efa",
           "#EF553B",
           "#00cc96",
           "#ab63fa",
           "#FFA15A",
           "#19d3f3",
           "#FF6692",
           "#B6E880",
           "#FF97FF",
           "#FECB52"
          ],
          "font": {
           "color": "#2a3f5f"
          },
          "geo": {
           "bgcolor": "white",
           "lakecolor": "white",
           "landcolor": "#E5ECF6",
           "showlakes": true,
           "showland": true,
           "subunitcolor": "white"
          },
          "hoverlabel": {
           "align": "left"
          },
          "hovermode": "closest",
          "mapbox": {
           "style": "light"
          },
          "paper_bgcolor": "white",
          "plot_bgcolor": "#E5ECF6",
          "polar": {
           "angularaxis": {
            "gridcolor": "white",
            "linecolor": "white",
            "ticks": ""
           },
           "bgcolor": "#E5ECF6",
           "radialaxis": {
            "gridcolor": "white",
            "linecolor": "white",
            "ticks": ""
           }
          },
          "scene": {
           "xaxis": {
            "backgroundcolor": "#E5ECF6",
            "gridcolor": "white",
            "gridwidth": 2,
            "linecolor": "white",
            "showbackground": true,
            "ticks": "",
            "zerolinecolor": "white"
           },
           "yaxis": {
            "backgroundcolor": "#E5ECF6",
            "gridcolor": "white",
            "gridwidth": 2,
            "linecolor": "white",
            "showbackground": true,
            "ticks": "",
            "zerolinecolor": "white"
           },
           "zaxis": {
            "backgroundcolor": "#E5ECF6",
            "gridcolor": "white",
            "gridwidth": 2,
            "linecolor": "white",
            "showbackground": true,
            "ticks": "",
            "zerolinecolor": "white"
           }
          },
          "shapedefaults": {
           "line": {
            "color": "#2a3f5f"
           }
          },
          "ternary": {
           "aaxis": {
            "gridcolor": "white",
            "linecolor": "white",
            "ticks": ""
           },
           "baxis": {
            "gridcolor": "white",
            "linecolor": "white",
            "ticks": ""
           },
           "bgcolor": "#E5ECF6",
           "caxis": {
            "gridcolor": "white",
            "linecolor": "white",
            "ticks": ""
           }
          },
          "title": {
           "x": 0.05
          },
          "xaxis": {
           "automargin": true,
           "gridcolor": "white",
           "linecolor": "white",
           "ticks": "",
           "title": {
            "standoff": 15
           },
           "zerolinecolor": "white",
           "zerolinewidth": 2
          },
          "yaxis": {
           "automargin": true,
           "gridcolor": "white",
           "linecolor": "white",
           "ticks": "",
           "title": {
            "standoff": 15
           },
           "zerolinecolor": "white",
           "zerolinewidth": 2
          }
         }
        },
        "xaxis": {
         "anchor": "y",
         "domain": [
          0,
          1
         ],
         "title": {
          "text": "sepal_width"
         }
        },
        "yaxis": {
         "anchor": "x",
         "domain": [
          0,
          1
         ],
         "title": {
          "text": "sepal_length"
         }
        }
       }
      }
     },
     "metadata": {},
     "output_type": "display_data"
    }
   ],
   "source": [
    "import plotly.express as px\n",
    "\n",
    "data = px.data.iris()\n",
    "fig = px.scatter(data, x='sepal_width', y='sepal_length', color='species', size='petal_length', hover_data=['petal_width'])\n",
    "\n",
    "fig.show()"
   ]
  },
  {
   "cell_type": "code",
   "execution_count": 1,
   "metadata": {},
   "outputs": [
    {
     "name": "stdout",
     "output_type": "stream",
     "text": [
      "Collecting dash\n",
      "  Downloading dash-2.9.2-py3-none-any.whl (10.2 MB)\n",
      "     ---------------------------------------- 10.2/10.2 MB 3.3 MB/s eta 0:00:00\n",
      "Collecting dash-bootstrap-components\n",
      "  Downloading dash_bootstrap_components-1.4.1-py3-none-any.whl (220 kB)\n",
      "     -------------------------------------- 220.6/220.6 kB 6.6 MB/s eta 0:00:00\n",
      "Requirement already satisfied: pandas in c:\\users\\jakub\\anaconda3\\lib\\site-packages (1.4.4)\n",
      "Collecting dash-core-components==2.0.0\n",
      "  Downloading dash_core_components-2.0.0-py3-none-any.whl (3.8 kB)\n",
      "Requirement already satisfied: plotly>=5.0.0 in c:\\users\\jakub\\anaconda3\\lib\\site-packages (from dash) (5.9.0)\n",
      "Requirement already satisfied: Flask>=1.0.4 in c:\\users\\jakub\\anaconda3\\lib\\site-packages (from dash) (1.1.2)\n",
      "Collecting dash-table==5.0.0\n",
      "  Downloading dash_table-5.0.0-py3-none-any.whl (3.9 kB)\n",
      "Collecting dash-html-components==2.0.0\n",
      "  Downloading dash_html_components-2.0.0-py3-none-any.whl (4.1 kB)\n",
      "Requirement already satisfied: numpy>=1.18.5 in c:\\users\\jakub\\anaconda3\\lib\\site-packages (from pandas) (1.21.5)\n",
      "Requirement already satisfied: python-dateutil>=2.8.1 in c:\\users\\jakub\\anaconda3\\lib\\site-packages (from pandas) (2.8.2)\n",
      "Requirement already satisfied: pytz>=2020.1 in c:\\users\\jakub\\anaconda3\\lib\\site-packages (from pandas) (2022.1)\n",
      "Requirement already satisfied: Werkzeug>=0.15 in c:\\users\\jakub\\anaconda3\\lib\\site-packages (from Flask>=1.0.4->dash) (2.0.3)\n",
      "Requirement already satisfied: Jinja2>=2.10.1 in c:\\users\\jakub\\anaconda3\\lib\\site-packages (from Flask>=1.0.4->dash) (2.11.3)\n",
      "Requirement already satisfied: click>=5.1 in c:\\users\\jakub\\anaconda3\\lib\\site-packages (from Flask>=1.0.4->dash) (8.0.4)\n",
      "Requirement already satisfied: itsdangerous>=0.24 in c:\\users\\jakub\\anaconda3\\lib\\site-packages (from Flask>=1.0.4->dash) (2.0.1)\n",
      "Requirement already satisfied: tenacity>=6.2.0 in c:\\users\\jakub\\anaconda3\\lib\\site-packages (from plotly>=5.0.0->dash) (8.0.1)\n",
      "Requirement already satisfied: six>=1.5 in c:\\users\\jakub\\anaconda3\\lib\\site-packages (from python-dateutil>=2.8.1->pandas) (1.16.0)\n",
      "Requirement already satisfied: colorama in c:\\users\\jakub\\anaconda3\\lib\\site-packages (from click>=5.1->Flask>=1.0.4->dash) (0.4.5)\n",
      "Requirement already satisfied: MarkupSafe>=0.23 in c:\\users\\jakub\\anaconda3\\lib\\site-packages (from Jinja2>=2.10.1->Flask>=1.0.4->dash) (2.0.1)\n",
      "Installing collected packages: dash-table, dash-html-components, dash-core-components, dash, dash-bootstrap-components\n",
      "Successfully installed dash-2.9.2 dash-bootstrap-components-1.4.1 dash-core-components-2.0.0 dash-html-components-2.0.0 dash-table-5.0.0\n",
      "Note: you may need to restart the kernel to use updated packages.\n"
     ]
    }
   ],
   "source": [
    "pip install dash dash-bootstrap-components pandas"
   ]
  },
  {
   "cell_type": "code",
   "execution_count": 2,
   "metadata": {},
   "outputs": [
    {
     "data": {
      "image/png": "[encoded data removed]",
      "text/plain": [
       "<Figure size 1000x600 with 1 Axes>"
      ]
     },
     "metadata": {},
     "output_type": "display_data"
    }
   ],
   "source": [
    "import pandas as pd\n",
    "import matplotlib.pyplot as plt\n",
    "\n",
    "# Create the DataFrame for the given data\n",
    "data = {\n",
    "    'r_city': ['Arlington', 'Austin', 'Birmingham', 'Milwaukee', 'Portland', 'Salt Lake City', 'Spokane', 'Washington DC'],\n",
    "    'min': [3.269697, 3.426538, 3.426429, 3.484568, 3.569304, 3.741096, 3.228286, 3.897778],\n",
    "    'max': [44.143030, 20.924359, 24.767857, 26.905309, 20.318522, 20.163014, 23.258000, 30.712593],\n",
    "}\n",
    "\n",
    "df = pd.DataFrame(data)\n",
    "df.set_index('r_city', inplace=True)\n",
    "\n",
    "# Create the box plot\n",
    "ax = df.plot(kind='box', figsize=(10, 6))\n",
    "\n",
    "# Set the title and axis labels\n",
    "ax.set_title('Box Plot of Min and Max Values by City')\n",
    "ax.set_xlabel('Value')\n",
    "ax.set_ylabel('Range')\n",
    "\n",
    "# Show the plot\n",
    "plt.show()"
   ]
  },
  {
   "cell_type": "code",
   "execution_count": 3,
   "metadata": {},
   "outputs": [
    {
     "ename": "ValueError",
     "evalue": "Dimensions of labels and X must be compatible",
     "output_type": "error",
     "traceback": [
      "\u001b[1;31m---------------------------------------------------------------------------\u001b[0m",
      "\u001b[1;31mValueError\u001b[0m                                Traceback (most recent call last)",
      "\u001b[1;32m~\\AppData\\Local\\Temp\\ipykernel_16292\\1802483285.py\u001b[0m in \u001b[0;36m<module>\u001b[1;34m\u001b[0m\n\u001b[0;32m     14\u001b[0m \u001b[1;31m# Create a box plot\u001b[0m\u001b[1;33m\u001b[0m\u001b[1;33m\u001b[0m\u001b[0m\n\u001b[0;32m     15\u001b[0m \u001b[0mfig\u001b[0m\u001b[1;33m,\u001b[0m \u001b[0max\u001b[0m \u001b[1;33m=\u001b[0m \u001b[0mplt\u001b[0m\u001b[1;33m.\u001b[0m\u001b[0msubplots\u001b[0m\u001b[1;33m(\u001b[0m\u001b[1;33m)\u001b[0m\u001b[1;33m\u001b[0m\u001b[1;33m\u001b[0m\u001b[0m\n\u001b[1;32m---> 16\u001b[1;33m \u001b[0max\u001b[0m\u001b[1;33m.\u001b[0m\u001b[0mboxplot\u001b[0m\u001b[1;33m(\u001b[0m\u001b[1;33m[\u001b[0m\u001b[0mdf\u001b[0m\u001b[1;33m[\u001b[0m\u001b[1;34m'Min'\u001b[0m\u001b[1;33m]\u001b[0m\u001b[1;33m,\u001b[0m \u001b[0mdf\u001b[0m\u001b[1;33m[\u001b[0m\u001b[1;34m'Max'\u001b[0m\u001b[1;33m]\u001b[0m\u001b[1;33m]\u001b[0m\u001b[1;33m,\u001b[0m \u001b[0mlabels\u001b[0m\u001b[1;33m=\u001b[0m\u001b[0mdf\u001b[0m\u001b[1;33m[\u001b[0m\u001b[1;34m'City'\u001b[0m\u001b[1;33m]\u001b[0m\u001b[1;33m)\u001b[0m\u001b[1;33m\u001b[0m\u001b[1;33m\u001b[0m\u001b[0m\n\u001b[0m\u001b[0;32m     17\u001b[0m \u001b[1;33m\u001b[0m\u001b[0m\n\u001b[0;32m     18\u001b[0m \u001b[1;31m# Set the title and axis labels\u001b[0m\u001b[1;33m\u001b[0m\u001b[1;33m\u001b[0m\u001b[0m\n",
      "\u001b[1;32mc:\\Users\\jakub\\anaconda3\\lib\\site-packages\\matplotlib\\__init__.py\u001b[0m in \u001b[0;36minner\u001b[1;34m(ax, data, *args, **kwargs)\u001b[0m\n\u001b[0;32m   1410\u001b[0m     \u001b[1;32mdef\u001b[0m \u001b[0minner\u001b[0m\u001b[1;33m(\u001b[0m\u001b[0max\u001b[0m\u001b[1;33m,\u001b[0m \u001b[1;33m*\u001b[0m\u001b[0margs\u001b[0m\u001b[1;33m,\u001b[0m \u001b[0mdata\u001b[0m\u001b[1;33m=\u001b[0m\u001b[1;32mNone\u001b[0m\u001b[1;33m,\u001b[0m \u001b[1;33m**\u001b[0m\u001b[0mkwargs\u001b[0m\u001b[1;33m)\u001b[0m\u001b[1;33m:\u001b[0m\u001b[1;33m\u001b[0m\u001b[1;33m\u001b[0m\u001b[0m\n\u001b[0;32m   1411\u001b[0m         \u001b[1;32mif\u001b[0m \u001b[0mdata\u001b[0m \u001b[1;32mis\u001b[0m \u001b[1;32mNone\u001b[0m\u001b[1;33m:\u001b[0m\u001b[1;33m\u001b[0m\u001b[1;33m\u001b[0m\u001b[0m\n\u001b[1;32m-> 1412\u001b[1;33m             \u001b[1;32mreturn\u001b[0m \u001b[0mfunc\u001b[0m\u001b[1;33m(\u001b[0m\u001b[0max\u001b[0m\u001b[1;33m,\u001b[0m \u001b[1;33m*\u001b[0m\u001b[0mmap\u001b[0m\u001b[1;33m(\u001b[0m\u001b[0msanitize_sequence\u001b[0m\u001b[1;33m,\u001b[0m \u001b[0margs\u001b[0m\u001b[1;33m)\u001b[0m\u001b[1;33m,\u001b[0m \u001b[1;33m**\u001b[0m\u001b[0mkwargs\u001b[0m\u001b[1;33m)\u001b[0m\u001b[1;33m\u001b[0m\u001b[1;33m\u001b[0m\u001b[0m\n\u001b[0m\u001b[0;32m   1413\u001b[0m \u001b[1;33m\u001b[0m\u001b[0m\n\u001b[0;32m   1414\u001b[0m         \u001b[0mbound\u001b[0m \u001b[1;33m=\u001b[0m \u001b[0mnew_sig\u001b[0m\u001b[1;33m.\u001b[0m\u001b[0mbind\u001b[0m\u001b[1;33m(\u001b[0m\u001b[0max\u001b[0m\u001b[1;33m,\u001b[0m \u001b[1;33m*\u001b[0m\u001b[0margs\u001b[0m\u001b[1;33m,\u001b[0m \u001b[1;33m**\u001b[0m\u001b[0mkwargs\u001b[0m\u001b[1;33m)\u001b[0m\u001b[1;33m\u001b[0m\u001b[1;33m\u001b[0m\u001b[0m\n",
      "\u001b[1;32mc:\\Users\\jakub\\anaconda3\\lib\\site-packages\\matplotlib\\axes\\_axes.py\u001b[0m in \u001b[0;36mboxplot\u001b[1;34m(self, x, notch, sym, vert, whis, positions, widths, patch_artist, bootstrap, usermedians, conf_intervals, meanline, showmeans, showcaps, showbox, showfliers, boxprops, labels, flierprops, medianprops, meanprops, capprops, whiskerprops, manage_ticks, autorange, zorder)\u001b[0m\n\u001b[0;32m   3702\u001b[0m             \u001b[0mbootstrap\u001b[0m \u001b[1;33m=\u001b[0m \u001b[0mrcParams\u001b[0m\u001b[1;33m[\u001b[0m\u001b[1;34m'boxplot.bootstrap'\u001b[0m\u001b[1;33m]\u001b[0m\u001b[1;33m\u001b[0m\u001b[1;33m\u001b[0m\u001b[0m\n\u001b[0;32m   3703\u001b[0m \u001b[1;33m\u001b[0m\u001b[0m\n\u001b[1;32m-> 3704\u001b[1;33m         bxpstats = cbook.boxplot_stats(x, whis=whis, bootstrap=bootstrap,\n\u001b[0m\u001b[0;32m   3705\u001b[0m                                        labels=labels, autorange=autorange)\n\u001b[0;32m   3706\u001b[0m         \u001b[1;32mif\u001b[0m \u001b[0mnotch\u001b[0m \u001b[1;32mis\u001b[0m \u001b[1;32mNone\u001b[0m\u001b[1;33m:\u001b[0m\u001b[1;33m\u001b[0m\u001b[1;33m\u001b[0m\u001b[0m\n",
      "\u001b[1;32mc:\\Users\\jakub\\anaconda3\\lib\\site-packages\\matplotlib\\cbook\\__init__.py\u001b[0m in \u001b[0;36mboxplot_stats\u001b[1;34m(X, whis, bootstrap, labels, autorange)\u001b[0m\n\u001b[0;32m   1159\u001b[0m         \u001b[0mlabels\u001b[0m \u001b[1;33m=\u001b[0m \u001b[0mitertools\u001b[0m\u001b[1;33m.\u001b[0m\u001b[0mrepeat\u001b[0m\u001b[1;33m(\u001b[0m\u001b[1;32mNone\u001b[0m\u001b[1;33m)\u001b[0m\u001b[1;33m\u001b[0m\u001b[1;33m\u001b[0m\u001b[0m\n\u001b[0;32m   1160\u001b[0m     \u001b[1;32melif\u001b[0m \u001b[0mlen\u001b[0m\u001b[1;33m(\u001b[0m\u001b[0mlabels\u001b[0m\u001b[1;33m)\u001b[0m \u001b[1;33m!=\u001b[0m \u001b[0mncols\u001b[0m\u001b[1;33m:\u001b[0m\u001b[1;33m\u001b[0m\u001b[1;33m\u001b[0m\u001b[0m\n\u001b[1;32m-> 1161\u001b[1;33m         \u001b[1;32mraise\u001b[0m \u001b[0mValueError\u001b[0m\u001b[1;33m(\u001b[0m\u001b[1;34m\"Dimensions of labels and X must be compatible\"\u001b[0m\u001b[1;33m)\u001b[0m\u001b[1;33m\u001b[0m\u001b[1;33m\u001b[0m\u001b[0m\n\u001b[0m\u001b[0;32m   1162\u001b[0m \u001b[1;33m\u001b[0m\u001b[0m\n\u001b[0;32m   1163\u001b[0m     \u001b[0minput_whis\u001b[0m \u001b[1;33m=\u001b[0m \u001b[0mwhis\u001b[0m\u001b[1;33m\u001b[0m\u001b[1;33m\u001b[0m\u001b[0m\n",
      "\u001b[1;31mValueError\u001b[0m: Dimensions of labels and X must be compatible"
     ]
    },
    {
     "data": {
      "image/png": "[encoded data removed]",
      "text/plain": [
       "<Figure size 640x480 with 1 Axes>"
      ]
     },
     "metadata": {},
     "output_type": "display_data"
    }
   ],
   "source": [
    "import pandas as pd\n",
    "import matplotlib.pyplot as plt\n",
    "\n",
    "# Data\n",
    "data = {\n",
    "    'City': ['Arlington', 'Austin', 'Birmingham', 'Milwaukee', 'Portland', 'Salt Lake City', 'Spokane', 'Washington DC'],\n",
    "    'Min': [3.269697, 3.426538, 3.426429, 3.484568, 3.569304, 3.741096, 3.228286, 3.897778],\n",
    "    'Max': [44.143030, 20.924359, 24.767857, 26.905309, 20.318522, 20.163014, 23.258000, 30.712593]\n",
    "}\n",
    "\n",
    "# Create a DataFrame\n",
    "df = pd.DataFrame(data)\n",
    "\n",
    "# Create a box plot\n",
    "fig, ax = plt.subplots()\n",
    "ax.boxplot([df['Min'], df['Max']], labels=df['City'])\n",
    "\n",
    "# Set the title and axis labels\n",
    "ax.set_title('Price Range by City')\n",
    "ax.set_xlabel('City')\n",
    "ax.set_ylabel('Price ($)')\n",
    "\n",
    "# Rotate x-axis labels for better readability\n",
    "plt.xticks(rotation=45)\n",
    "\n",
    "# Show the plot\n",
    "plt.show()\n"
   ]
  },
  {
   "cell_type": "code",
   "execution_count": 5,
   "metadata": {},
   "outputs": [
    {
     "data": {
      "text/html": [
       "<div>\n",
       "<style scoped>\n",
       "    .dataframe tbody tr th:only-of-type {\n",
       "        vertical-align: middle;\n",
       "    }\n",
       "\n",
       "    .dataframe tbody tr th {\n",
       "        vertical-align: top;\n",
       "    }\n",
       "\n",
       "    .dataframe thead th {\n",
       "        text-align: right;\n",
       "    }\n",
       "</style>\n",
       "<table border=\"1\" class=\"dataframe\">\n",
       "  <thead>\n",
       "    <tr style=\"text-align: right;\">\n",
       "      <th></th>\n",
       "      <th>Unnamed: 0.2</th>\n",
       "      <th>Unnamed: 0.1</th>\n",
       "      <th>Unnamed: 0_x</th>\n",
       "      <th>rm_restaurant_id</th>\n",
       "      <th>r_onlyname</th>\n",
       "      <th>r_city</th>\n",
       "      <th>r_state</th>\n",
       "      <th>r_score</th>\n",
       "      <th>r_ratings</th>\n",
       "      <th>r_category</th>\n",
       "      <th>...</th>\n",
       "      <th>median</th>\n",
       "      <th>count</th>\n",
       "      <th>state_city</th>\n",
       "      <th>menu_items</th>\n",
       "      <th>Unnamed: 0_y</th>\n",
       "      <th>restaurant_id</th>\n",
       "      <th>category</th>\n",
       "      <th>name</th>\n",
       "      <th>description</th>\n",
       "      <th>price</th>\n",
       "    </tr>\n",
       "  </thead>\n",
       "  <tbody>\n",
       "    <tr>\n",
       "      <th>0</th>\n",
       "      <td>21</td>\n",
       "      <td>21</td>\n",
       "      <td>21</td>\n",
       "      <td>28</td>\n",
       "      <td>Sunny  Fines Breakfast Burritos</td>\n",
       "      <td>birmingham</td>\n",
       "      <td>al</td>\n",
       "      <td>NaN</td>\n",
       "      <td>NaN</td>\n",
       "      <td>mexican, breakfast and brunch, burritos</td>\n",
       "      <td>...</td>\n",
       "      <td>4.78</td>\n",
       "      <td>1</td>\n",
       "      <td>AL/BIRMINGHAM</td>\n",
       "      <td>22</td>\n",
       "      <td>1319</td>\n",
       "      <td>28</td>\n",
       "      <td>Picked for you</td>\n",
       "      <td>Home Fries</td>\n",
       "      <td>NaN</td>\n",
       "      <td>4.78</td>\n",
       "    </tr>\n",
       "    <tr>\n",
       "      <th>1</th>\n",
       "      <td>21</td>\n",
       "      <td>21</td>\n",
       "      <td>21</td>\n",
       "      <td>28</td>\n",
       "      <td>Sunny  Fines Breakfast Burritos</td>\n",
       "      <td>birmingham</td>\n",
       "      <td>al</td>\n",
       "      <td>NaN</td>\n",
       "      <td>NaN</td>\n",
       "      <td>mexican, breakfast and brunch, burritos</td>\n",
       "      <td>...</td>\n",
       "      <td>4.78</td>\n",
       "      <td>1</td>\n",
       "      <td>AL/BIRMINGHAM</td>\n",
       "      <td>22</td>\n",
       "      <td>1320</td>\n",
       "      <td>28</td>\n",
       "      <td>Picked for you</td>\n",
       "      <td>Hash Browns</td>\n",
       "      <td>NaN</td>\n",
       "      <td>4.78</td>\n",
       "    </tr>\n",
       "    <tr>\n",
       "      <th>2</th>\n",
       "      <td>21</td>\n",
       "      <td>21</td>\n",
       "      <td>21</td>\n",
       "      <td>28</td>\n",
       "      <td>Sunny  Fines Breakfast Burritos</td>\n",
       "      <td>birmingham</td>\n",
       "      <td>al</td>\n",
       "      <td>NaN</td>\n",
       "      <td>NaN</td>\n",
       "      <td>mexican, breakfast and brunch, burritos</td>\n",
       "      <td>...</td>\n",
       "      <td>4.78</td>\n",
       "      <td>1</td>\n",
       "      <td>AL/BIRMINGHAM</td>\n",
       "      <td>22</td>\n",
       "      <td>1321</td>\n",
       "      <td>28</td>\n",
       "      <td>Picked for you</td>\n",
       "      <td>Orange Juice</td>\n",
       "      <td>NaN</td>\n",
       "      <td>4.32</td>\n",
       "    </tr>\n",
       "    <tr>\n",
       "      <th>3</th>\n",
       "      <td>21</td>\n",
       "      <td>21</td>\n",
       "      <td>21</td>\n",
       "      <td>28</td>\n",
       "      <td>Sunny  Fines Breakfast Burritos</td>\n",
       "      <td>birmingham</td>\n",
       "      <td>al</td>\n",
       "      <td>NaN</td>\n",
       "      <td>NaN</td>\n",
       "      <td>mexican, breakfast and brunch, burritos</td>\n",
       "      <td>...</td>\n",
       "      <td>4.78</td>\n",
       "      <td>1</td>\n",
       "      <td>AL/BIRMINGHAM</td>\n",
       "      <td>22</td>\n",
       "      <td>1322</td>\n",
       "      <td>28</td>\n",
       "      <td>Picked for you</td>\n",
       "      <td>Tater Tots</td>\n",
       "      <td>NaN</td>\n",
       "      <td>4.78</td>\n",
       "    </tr>\n",
       "    <tr>\n",
       "      <th>4</th>\n",
       "      <td>21</td>\n",
       "      <td>21</td>\n",
       "      <td>21</td>\n",
       "      <td>28</td>\n",
       "      <td>Sunny  Fines Breakfast Burritos</td>\n",
       "      <td>birmingham</td>\n",
       "      <td>al</td>\n",
       "      <td>NaN</td>\n",
       "      <td>NaN</td>\n",
       "      <td>mexican, breakfast and brunch, burritos</td>\n",
       "      <td>...</td>\n",
       "      <td>4.78</td>\n",
       "      <td>1</td>\n",
       "      <td>AL/BIRMINGHAM</td>\n",
       "      <td>22</td>\n",
       "      <td>1323</td>\n",
       "      <td>28</td>\n",
       "      <td>Breakfast Burritos</td>\n",
       "      <td>Build Your Own Burrito</td>\n",
       "      <td>Two scrambled eggs with your choice of meat an...</td>\n",
       "      <td>11.98</td>\n",
       "    </tr>\n",
       "    <tr>\n",
       "      <th>...</th>\n",
       "      <td>...</td>\n",
       "      <td>...</td>\n",
       "      <td>...</td>\n",
       "      <td>...</td>\n",
       "      <td>...</td>\n",
       "      <td>...</td>\n",
       "      <td>...</td>\n",
       "      <td>...</td>\n",
       "      <td>...</td>\n",
       "      <td>...</td>\n",
       "      <td>...</td>\n",
       "      <td>...</td>\n",
       "      <td>...</td>\n",
       "      <td>...</td>\n",
       "      <td>...</td>\n",
       "      <td>...</td>\n",
       "      <td>...</td>\n",
       "      <td>...</td>\n",
       "      <td>...</td>\n",
       "      <td>...</td>\n",
       "      <td>...</td>\n",
       "    </tr>\n",
       "    <tr>\n",
       "      <th>32830</th>\n",
       "      <td>5444</td>\n",
       "      <td>15078</td>\n",
       "      <td>15078</td>\n",
       "      <td>40221</td>\n",
       "      <td>One Taco</td>\n",
       "      <td>austin</td>\n",
       "      <td>tx</td>\n",
       "      <td>4.7</td>\n",
       "      <td>247.0</td>\n",
       "      <td>mexican, latin american, new mexican, wings, g...</td>\n",
       "      <td>...</td>\n",
       "      <td>5.25</td>\n",
       "      <td>1</td>\n",
       "      <td>TX/AUSTIN</td>\n",
       "      <td>51</td>\n",
       "      <td>3374567</td>\n",
       "      <td>40221</td>\n",
       "      <td>Drinks</td>\n",
       "      <td>Mexican Coke</td>\n",
       "      <td>NaN</td>\n",
       "      <td>3.15</td>\n",
       "    </tr>\n",
       "    <tr>\n",
       "      <th>32831</th>\n",
       "      <td>5444</td>\n",
       "      <td>15078</td>\n",
       "      <td>15078</td>\n",
       "      <td>40221</td>\n",
       "      <td>One Taco</td>\n",
       "      <td>austin</td>\n",
       "      <td>tx</td>\n",
       "      <td>4.7</td>\n",
       "      <td>247.0</td>\n",
       "      <td>mexican, latin american, new mexican, wings, g...</td>\n",
       "      <td>...</td>\n",
       "      <td>5.25</td>\n",
       "      <td>1</td>\n",
       "      <td>TX/AUSTIN</td>\n",
       "      <td>51</td>\n",
       "      <td>3374568</td>\n",
       "      <td>40221</td>\n",
       "      <td>Drinks</td>\n",
       "      <td>Jarritos</td>\n",
       "      <td>NaN</td>\n",
       "      <td>3.15</td>\n",
       "    </tr>\n",
       "    <tr>\n",
       "      <th>32832</th>\n",
       "      <td>5444</td>\n",
       "      <td>15078</td>\n",
       "      <td>15078</td>\n",
       "      <td>40221</td>\n",
       "      <td>One Taco</td>\n",
       "      <td>austin</td>\n",
       "      <td>tx</td>\n",
       "      <td>4.7</td>\n",
       "      <td>247.0</td>\n",
       "      <td>mexican, latin american, new mexican, wings, g...</td>\n",
       "      <td>...</td>\n",
       "      <td>5.25</td>\n",
       "      <td>1</td>\n",
       "      <td>TX/AUSTIN</td>\n",
       "      <td>51</td>\n",
       "      <td>3374569</td>\n",
       "      <td>40221</td>\n",
       "      <td>Drinks</td>\n",
       "      <td>Topo Chico</td>\n",
       "      <td>NaN</td>\n",
       "      <td>3.15</td>\n",
       "    </tr>\n",
       "    <tr>\n",
       "      <th>32833</th>\n",
       "      <td>5444</td>\n",
       "      <td>15078</td>\n",
       "      <td>15078</td>\n",
       "      <td>40221</td>\n",
       "      <td>One Taco</td>\n",
       "      <td>austin</td>\n",
       "      <td>tx</td>\n",
       "      <td>4.7</td>\n",
       "      <td>247.0</td>\n",
       "      <td>mexican, latin american, new mexican, wings, g...</td>\n",
       "      <td>...</td>\n",
       "      <td>5.25</td>\n",
       "      <td>1</td>\n",
       "      <td>TX/AUSTIN</td>\n",
       "      <td>51</td>\n",
       "      <td>3374570</td>\n",
       "      <td>40221</td>\n",
       "      <td>Drinks</td>\n",
       "      <td>Iced Tea</td>\n",
       "      <td>NaN</td>\n",
       "      <td>3.15</td>\n",
       "    </tr>\n",
       "    <tr>\n",
       "      <th>32834</th>\n",
       "      <td>5444</td>\n",
       "      <td>15078</td>\n",
       "      <td>15078</td>\n",
       "      <td>40221</td>\n",
       "      <td>One Taco</td>\n",
       "      <td>austin</td>\n",
       "      <td>tx</td>\n",
       "      <td>4.7</td>\n",
       "      <td>247.0</td>\n",
       "      <td>mexican, latin american, new mexican, wings, g...</td>\n",
       "      <td>...</td>\n",
       "      <td>5.25</td>\n",
       "      <td>1</td>\n",
       "      <td>TX/AUSTIN</td>\n",
       "      <td>51</td>\n",
       "      <td>3374571</td>\n",
       "      <td>40221</td>\n",
       "      <td>Dessert</td>\n",
       "      <td>Flan</td>\n",
       "      <td>NaN</td>\n",
       "      <td>5.50</td>\n",
       "    </tr>\n",
       "  </tbody>\n",
       "</table>\n",
       "<p>32835 rows × 26 columns</p>\n",
       "</div>"
      ],
      "text/plain": [
       "       Unnamed: 0.2  Unnamed: 0.1  Unnamed: 0_x  rm_restaurant_id  \\\n",
       "0                21            21            21                28   \n",
       "1                21            21            21                28   \n",
       "2                21            21            21                28   \n",
       "3                21            21            21                28   \n",
       "4                21            21            21                28   \n",
       "...             ...           ...           ...               ...   \n",
       "32830          5444         15078         15078             40221   \n",
       "32831          5444         15078         15078             40221   \n",
       "32832          5444         15078         15078             40221   \n",
       "32833          5444         15078         15078             40221   \n",
       "32834          5444         15078         15078             40221   \n",
       "\n",
       "                            r_onlyname      r_city r_state  r_score  \\\n",
       "0      Sunny  Fines Breakfast Burritos  birmingham      al      NaN   \n",
       "1      Sunny  Fines Breakfast Burritos  birmingham      al      NaN   \n",
       "2      Sunny  Fines Breakfast Burritos  birmingham      al      NaN   \n",
       "3      Sunny  Fines Breakfast Burritos  birmingham      al      NaN   \n",
       "4      Sunny  Fines Breakfast Burritos  birmingham      al      NaN   \n",
       "...                                ...         ...     ...      ...   \n",
       "32830                         One Taco      austin      tx      4.7   \n",
       "32831                         One Taco      austin      tx      4.7   \n",
       "32832                         One Taco      austin      tx      4.7   \n",
       "32833                         One Taco      austin      tx      4.7   \n",
       "32834                         One Taco      austin      tx      4.7   \n",
       "\n",
       "       r_ratings                                         r_category  ...  \\\n",
       "0            NaN            mexican, breakfast and brunch, burritos  ...   \n",
       "1            NaN            mexican, breakfast and brunch, burritos  ...   \n",
       "2            NaN            mexican, breakfast and brunch, burritos  ...   \n",
       "3            NaN            mexican, breakfast and brunch, burritos  ...   \n",
       "4            NaN            mexican, breakfast and brunch, burritos  ...   \n",
       "...          ...                                                ...  ...   \n",
       "32830      247.0  mexican, latin american, new mexican, wings, g...  ...   \n",
       "32831      247.0  mexican, latin american, new mexican, wings, g...  ...   \n",
       "32832      247.0  mexican, latin american, new mexican, wings, g...  ...   \n",
       "32833      247.0  mexican, latin american, new mexican, wings, g...  ...   \n",
       "32834      247.0  mexican, latin american, new mexican, wings, g...  ...   \n",
       "\n",
       "      median  count     state_city  menu_items  Unnamed: 0_y  restaurant_id  \\\n",
       "0       4.78      1  AL/BIRMINGHAM          22          1319             28   \n",
       "1       4.78      1  AL/BIRMINGHAM          22          1320             28   \n",
       "2       4.78      1  AL/BIRMINGHAM          22          1321             28   \n",
       "3       4.78      1  AL/BIRMINGHAM          22          1322             28   \n",
       "4       4.78      1  AL/BIRMINGHAM          22          1323             28   \n",
       "...      ...    ...            ...         ...           ...            ...   \n",
       "32830   5.25      1      TX/AUSTIN          51       3374567          40221   \n",
       "32831   5.25      1      TX/AUSTIN          51       3374568          40221   \n",
       "32832   5.25      1      TX/AUSTIN          51       3374569          40221   \n",
       "32833   5.25      1      TX/AUSTIN          51       3374570          40221   \n",
       "32834   5.25      1      TX/AUSTIN          51       3374571          40221   \n",
       "\n",
       "                 category                    name  \\\n",
       "0          Picked for you              Home Fries   \n",
       "1          Picked for you             Hash Browns   \n",
       "2          Picked for you            Orange Juice   \n",
       "3          Picked for you              Tater Tots   \n",
       "4      Breakfast Burritos  Build Your Own Burrito   \n",
       "...                   ...                     ...   \n",
       "32830              Drinks            Mexican Coke   \n",
       "32831              Drinks                Jarritos   \n",
       "32832              Drinks              Topo Chico   \n",
       "32833              Drinks                Iced Tea   \n",
       "32834             Dessert                    Flan   \n",
       "\n",
       "                                             description  price  \n",
       "0                                                    NaN   4.78  \n",
       "1                                                    NaN   4.78  \n",
       "2                                                    NaN   4.32  \n",
       "3                                                    NaN   4.78  \n",
       "4      Two scrambled eggs with your choice of meat an...  11.98  \n",
       "...                                                  ...    ...  \n",
       "32830                                                NaN   3.15  \n",
       "32831                                                NaN   3.15  \n",
       "32832                                                NaN   3.15  \n",
       "32833                                                NaN   3.15  \n",
       "32834                                                NaN   5.50  \n",
       "\n",
       "[32835 rows x 26 columns]"
      ]
     },
     "execution_count": 5,
     "metadata": {},
     "output_type": "execute_result"
    }
   ],
   "source": [
    "pd.read_csv(\"cheap_restaurants_with_menus\")"
   ]
  },
  {
   "cell_type": "code",
   "execution_count": 6,
   "metadata": {},
   "outputs": [
    {
     "name": "stdout",
     "output_type": "stream",
     "text": [
      "       state_city\n",
      "0   AL/Birmingham\n",
      "1  CA/Los angeles\n",
      "2     NY/New york\n"
     ]
    }
   ],
   "source": [
    "# Sample dataframe\n",
    "import pandas as pd\n",
    "\n",
    "data = {'state_city': ['AL/BIRMINGHAM', 'CA/LOS ANGELES', 'NY/NEW YORK']}\n",
    "df = pd.DataFrame(data)\n",
    "\n",
    "# Change the name of cities in the state_city column\n",
    "def format_city_name(state_city):\n",
    "    state, city = state_city.split('/')\n",
    "    formatted_city = city.capitalize()\n",
    "    return f\"{state}/{formatted_city}\"\n",
    "\n",
    "df['state_city'] = df['state_city'].apply(format_city_name)\n",
    "\n",
    "# Print the updated dataframe\n",
    "print(df)"
   ]
  },
  {
   "cell_type": "code",
   "execution_count": 7,
   "metadata": {},
   "outputs": [
    {
     "name": "stdout",
     "output_type": "stream",
     "text": [
      "       state_city\n",
      "0   AL/Birmingham\n",
      "1  CA/Los Angeles\n",
      "2     NY/New York\n"
     ]
    }
   ],
   "source": [
    "import pandas as pd\n",
    "\n",
    "data = {'state_city': ['AL/BIRMINGHAM', 'CA/LOS ANGELES', 'NY/NEW YORK']}\n",
    "df = pd.DataFrame(data)\n",
    "\n",
    "# Change the name of cities in the state_city column\n",
    "def format_city_name(state_city):\n",
    "    state, city = state_city.split('/')\n",
    "    formatted_city = ' '.join(word.capitalize() for word in city.split(' '))\n",
    "    return f\"{state}/{formatted_city}\"\n",
    "\n",
    "df['state_city'] = df['state_city'].apply(format_city_name)\n",
    "\n",
    "# Print the updated dataframe\n",
    "print(df)\n"
   ]
  }
 ],
 "metadata": {
  "kernelspec": {
   "display_name": "base",
   "language": "python",
   "name": "python3"
  },
  "language_info": {
   "codemirror_mode": {
    "name": "ipython",
    "version": 3
   },
   "file_extension": ".py",
   "mimetype": "text/x-python",
   "name": "python",
   "nbconvert_exporter": "python",
   "pygments_lexer": "ipython3",
   "version": "3.9.13"
  },
  "orig_nbformat": 4,
  "vscode": {
   "interpreter": {
    "hash": "0d23164dccc46cd58776d6c42b6e08520d8e560835c24fb22e35df0b0152d5ce"
   }
  }
 },
 "nbformat": 4,
 "nbformat_minor": 2
}
